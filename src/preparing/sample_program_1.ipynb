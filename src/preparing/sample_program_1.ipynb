{
 "cells": [
  {
   "cell_type": "code",
   "execution_count": 2,
   "metadata": {},
   "outputs": [
    {
     "name": "stdout",
     "output_type": "stream",
     "text": [
      "Alias: zzz, From Location: aaa, Save Location: \n",
      "From Date: 2022-01-01, To Date: 2022-12-31\n"
     ]
    }
   ],
   "source": [
    "class DataLoader:\n",
    "    def __init__(self, alias=\"zzz\", from_location=\"aaa\", save_location=\"\", save_file_name=\"\", rerun=False):\n",
    "        self.alias = alias\n",
    "        self.from_location = from_location\n",
    "        self.save_location = save_location\n",
    "        self.save_file_name = save_file_name\n",
    "        self.rerun = rerun\n",
    "\n",
    "    def display_info(self):\n",
    "        print(f\"Alias: {self.alias}, From Location: {self.from_location}, Save Location: {self.save_location}\")\n",
    "\n",
    "class URL_Loader(DataLoader):\n",
    "    def __init__(self, from_date=None, to_date=None):\n",
    "        # 親クラスの__init__メソッドを呼び出す\n",
    "        super().__init__()\n",
    "\n",
    "        # URL_Loader固有の初期化\n",
    "        self.from_date = from_date\n",
    "        self.to_date = to_date\n",
    "\n",
    "    def display_url_info(self):\n",
    "        # 親クラスのメソッドを呼び出す\n",
    "        self.display_info()\n",
    "        print(f\"From Date: {self.from_date}, To Date: {self.to_date}\")\n",
    "\n",
    "# Example usage\n",
    "url_loader = URL_Loader(from_date='2022-01-01', to_date='2022-12-31')\n",
    "url_loader.display_url_info()\n"
   ]
  },
  {
   "cell_type": "code",
   "execution_count": null,
   "metadata": {},
   "outputs": [],
   "source": []
  }
 ],
 "metadata": {
  "kernelspec": {
   "display_name": "venv",
   "language": "python",
   "name": "python3"
  },
  "language_info": {
   "codemirror_mode": {
    "name": "ipython",
    "version": 3
   },
   "file_extension": ".py",
   "mimetype": "text/x-python",
   "name": "python",
   "nbconvert_exporter": "python",
   "pygments_lexer": "ipython3",
   "version": "3.11.5"
  }
 },
 "nbformat": 4,
 "nbformat_minor": 2
}
