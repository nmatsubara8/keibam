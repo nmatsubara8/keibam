{
 "cells": [
  {
   "cell_type": "code",
   "execution_count": 13,
   "metadata": {},
   "outputs": [
    {
     "name": "stdout",
     "output_type": "stream",
     "text": [
      "race_results_table\n",
      "self.from_location:  https://db.netkeiba.com/race/\n",
      "to_temp_location:  ./data/tmp/race_results/\n",
      "to_location:  ./data/html/race_results/\n",
      "self.from_local_location:  ./data/html/race/\n",
      "self.from_local_file_name:  *.bin\n",
      "batch_size: 100\n",
      "reloaded_*.bin type:  *.bin\n",
      "creating race_results_table\n"
     ]
    },
    {
     "name": "stderr",
     "output_type": "stream",
     "text": [
      "  0%|          | 0/3 [00:00<?, ?it/s]\n"
     ]
    },
    {
     "ename": "AttributeError",
     "evalue": "'list' object has no attribute 'tail'",
     "output_type": "error",
     "traceback": [
      "\u001b[0;31m---------------------------------------------------------------------------\u001b[0m",
      "\u001b[0;31mAttributeError\u001b[0m                            Traceback (most recent call last)",
      "Cell \u001b[0;32mIn[13], line 35\u001b[0m\n\u001b[1;32m     33\u001b[0m data_request\u001b[38;5;241m.\u001b[39mset_args(alias)\n\u001b[1;32m     34\u001b[0m data_request\u001b[38;5;241m.\u001b[39mpre_process_display()\n\u001b[0;32m---> 35\u001b[0m \u001b[43mcreate_race_results_table_\u001b[49m\u001b[43m(\u001b[49m\u001b[43m)\u001b[49m\n",
      "Cell \u001b[0;32mIn[13], line 25\u001b[0m, in \u001b[0;36mcreate_race_results_table_\u001b[0;34m()\u001b[0m\n\u001b[1;32m     23\u001b[0m \u001b[38;5;66;03m# メインとなるレース結果テーブルデータを取得\u001b[39;00m\n\u001b[1;32m     24\u001b[0m df \u001b[38;5;241m=\u001b[39m pd\u001b[38;5;241m.\u001b[39mread_html(html)\n\u001b[0;32m---> 25\u001b[0m \u001b[38;5;28mprint\u001b[39m(\u001b[38;5;124m\"\u001b[39m\u001b[38;5;124mdf:\u001b[39m\u001b[38;5;124m\"\u001b[39m,\u001b[43mdf\u001b[49m\u001b[38;5;241;43m.\u001b[39;49m\u001b[43mtail\u001b[49m())\n\u001b[1;32m     26\u001b[0m \u001b[38;5;66;03m# htmlをsoupオブジェクトに変換\u001b[39;00m\n\u001b[1;32m     27\u001b[0m soup \u001b[38;5;241m=\u001b[39m BeautifulSoup(html, \u001b[38;5;124m\"\u001b[39m\u001b[38;5;124mlxml\u001b[39m\u001b[38;5;124m\"\u001b[39m)\n",
      "\u001b[0;31mAttributeError\u001b[0m: 'list' object has no attribute 'tail'"
     ]
    }
   ],
   "source": [
    "from src.preparing.table_creator import TableCreator\n",
    "from src.preparing.url_loader import KaisaiDateLoader\n",
    "from tqdm import tqdm\n",
    "import os\n",
    "import pandas as pd\n",
    "from bs4 import BeautifulSoup\n",
    "\n",
    "\n",
    "\n",
    "\n",
    "\n",
    "def create_race_results_table_():\n",
    "    race_html_list =[\"202001010101.bin\",\"202001010102.bin\", \"202001010103.bin\"]\n",
    "\n",
    "    print(\"creating race_results_table\")\n",
    "\n",
    "    for race_html in tqdm(race_html_list):\n",
    "        race_html_path = os.path.join(\"./data/html/race/\", race_html)\n",
    "        with open(race_html_path, \"rb\") as f:\n",
    "\n",
    "            # 保存してあるbinファイルを読み込む\n",
    "            html = f.read()\n",
    "            # メインとなるレース結果テーブルデータを取得\n",
    "            df = pd.read_html(html)\n",
    "            print(\"df:\",df)\n",
    "            # htmlをsoupオブジェクトに変換\n",
    "            soup = BeautifulSoup(html, \"lxml\")\n",
    "            print(\"soup: \",soup)\n",
    "\n",
    "\n",
    "alias = \"race_results_table\"\n",
    "data_request = TableCreator()\n",
    "data_request.set_args(alias)\n",
    "data_request.pre_process_display()\n",
    "create_race_results_table_()\n"
   ]
  },
  {
   "cell_type": "code",
   "execution_count": null,
   "metadata": {},
   "outputs": [],
   "source": []
  }
 ],
 "metadata": {
  "kernelspec": {
   "display_name": "venv",
   "language": "python",
   "name": "python3"
  },
  "language_info": {
   "codemirror_mode": {
    "name": "ipython",
    "version": 3
   },
   "file_extension": ".py",
   "mimetype": "text/x-python",
   "name": "python",
   "nbconvert_exporter": "python",
   "pygments_lexer": "ipython3",
   "version": "3.11.5"
  }
 },
 "nbformat": 4,
 "nbformat_minor": 2
}
