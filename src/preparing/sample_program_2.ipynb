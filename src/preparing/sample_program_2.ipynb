{
 "cells": [
  {
   "cell_type": "code",
   "execution_count": 1,
   "metadata": {},
   "outputs": [
    {
     "name": "stdout",
     "output_type": "stream",
     "text": [
      "DataLoader's implementation\n",
      "URLLoader's implementation\n"
     ]
    }
   ],
   "source": [
    "class BaseLoader:\n",
    "    def select_function(self):\n",
    "        raise NotImplementedError(\"Subclasses must implement this method\")\n",
    "\n",
    "class DataLoader(BaseLoader):\n",
    "    def select_function(self):\n",
    "        print(\"DataLoader's implementation\")\n",
    "\n",
    "class URLLoader(BaseLoader):\n",
    "    def select_function(self):\n",
    "        print(\"URLLoader's implementation\")\n",
    "\n",
    "# 上位のクラスに基づいて適切な下位のクラスを選択\n",
    "def choose_loader(alias):\n",
    "    if alias == \"data_loader\":\n",
    "        return DataLoader()\n",
    "    elif alias == \"url_loader\":\n",
    "        return URLLoader()\n",
    "    else:\n",
    "        raise ValueError(\"Invalid alias\")\n",
    "\n",
    "# 使用例\n",
    "selected_loader = choose_loader(\"data_loader\")\n",
    "selected_loader.select_function()  # DataLoader's implementation\n",
    "\n",
    "selected_loader = choose_loader(\"url_loader\")\n",
    "selected_loader.select_function()  # URLLoader's implementation"
   ]
  },
  {
   "cell_type": "code",
   "execution_count": null,
   "metadata": {},
   "outputs": [],
   "source": []
  }
 ],
 "metadata": {
  "kernelspec": {
   "display_name": "venv",
   "language": "python",
   "name": "python3"
  },
  "language_info": {
   "codemirror_mode": {
    "name": "ipython",
    "version": 3
   },
   "file_extension": ".py",
   "mimetype": "text/x-python",
   "name": "python",
   "nbconvert_exporter": "python",
   "pygments_lexer": "ipython3",
   "version": "3.11.5"
  }
 },
 "nbformat": 4,
 "nbformat_minor": 2
}
