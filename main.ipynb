{
 "cells": [
  {
   "cell_type": "markdown",
   "metadata": {},
   "source": [
    "# 1. モジュールインポート"
   ]
  },
  {
   "cell_type": "code",
   "execution_count": 1,
   "metadata": {},
   "outputs": [],
   "source": [
    "import pandas as pd\n",
    "import glob\n",
    "import os\n",
    "import datetime\n",
    "from tqdm.auto import tqdm\n",
    "from src.constants._master import Master\n",
    "from src.constants._local_paths import LocalPaths\n",
    "from src.constants._horse_results_cols import HorseResultsCols\n",
    "from src.constants._results_cols import ResultsCols\n",
    "from src import preparing\n",
    "\n",
    "\n",
    "from src import training\n",
    "from src import simulation\n",
    "from src import policies\n",
    "%load_ext autoreload"
   ]
  },
  {
   "cell_type": "markdown",
   "metadata": {},
   "source": [
    "標準的な土日競馬開催時の運用スケジュールを以下の表の通り。\n",
    "\n",
    "|曜日|時刻|内容|実行する main.ipynb の項番|備考|\n",
    "|:-:|:--|:--|:--|:--|\n",
    "|月|||||\n",
    "|火|||||\n",
    "|水|16:30過ぎ|先週土日の馬の過去成績ページ確定<BR>（netkeiba.comﾌﾟﾚﾐｱｻｰﾋﾞｽのﾀｲﾑ指数・ﾚｰｽ分析・注目馬 ﾚｰｽ後の短評情報確定）|2. データ取得 ～ 5. シミュレーション|3日間開催の場合も、水曜日|\n",
    "|木|||||\n",
    "|金|10:05過ぎ<BR>19:25過ぎ|土曜の出馬表確定<BR>土曜の天候・馬場状態更新|6.1. 前日準備 ～ 6.2. 前日全レース予想（天候・馬場状態は手動設定）<BR>6.1. 前日準備 ～ 6.2. 前日全レース予想||\n",
    "|土|09:00～17:00<BR>10:05過ぎ<BR>19:25過ぎ| レース時刻<BR>日曜の出馬表確定<BR>日曜の天候・馬場状態更新|6.3. レース直前データ処理（当日レース予想）<BR>6.1. 前日準備 ～ 6.2. 前日全レース予想（天候・馬場状態は手動設定）<BR>6.1. 前日準備 ～ 6.2. 前日全レース予想||\n",
    "|日|09:00～17:00|レース時刻|6.3. レース直前データ処理（当日レース予想）||"
   ]
  },
  {
   "cell_type": "markdown",
   "metadata": {},
   "source": [
    "# 2. データ取得"
   ]
  },
  {
   "cell_type": "markdown",
   "metadata": {},
   "source": [
    "## 2.1. レースID取得\n",
    "例として、2020年のレースデータを取得する場合を考える"
   ]
  },
  {
   "cell_type": "code",
   "execution_count": 162,
   "metadata": {},
   "outputs": [],
   "source": [
    "%autoreload"
   ]
  },
  {
   "cell_type": "code",
   "execution_count": 163,
   "metadata": {},
   "outputs": [
    {
     "ename": "AttributeError",
     "evalue": "module 'src.preparing' has no attribute 'scrape_kaisai_date'",
     "output_type": "error",
     "traceback": [
      "\u001b[0;31m---------------------------------------------------------------------------\u001b[0m",
      "\u001b[0;31mAttributeError\u001b[0m                            Traceback (most recent call last)",
      "Cell \u001b[0;32mIn[163], line 2\u001b[0m\n\u001b[1;32m      1\u001b[0m \u001b[38;5;66;03m#開催日取得。to_の月は含まないので注意。\u001b[39;00m\n\u001b[0;32m----> 2\u001b[0m kaisai_date_2020 \u001b[38;5;241m=\u001b[39m \u001b[43mpreparing\u001b[49m\u001b[38;5;241;43m.\u001b[39;49m\u001b[43mscrape_kaisai_date\u001b[49m(from_\u001b[38;5;241m=\u001b[39m\u001b[38;5;124m\"\u001b[39m\u001b[38;5;124m2020-01-01\u001b[39m\u001b[38;5;124m\"\u001b[39m, to_\u001b[38;5;241m=\u001b[39m\u001b[38;5;124m\"\u001b[39m\u001b[38;5;124m2021-01-01\u001b[39m\u001b[38;5;124m\"\u001b[39m)\n\u001b[1;32m      3\u001b[0m \u001b[38;5;28mlen\u001b[39m(kaisai_date_2020)\n",
      "\u001b[0;31mAttributeError\u001b[0m: module 'src.preparing' has no attribute 'scrape_kaisai_date'"
     ]
    }
   ],
   "source": [
    "#開催日取得。to_の月は含まないので注意。\n",
    "kaisai_date_2020 = preparing.scrape_kaisai_date(from_=\"2020-01-01\", to_=\"2021-01-01\")\n",
    "len(kaisai_date_2020)"
   ]
  },
  {
   "cell_type": "code",
   "execution_count": null,
   "metadata": {},
   "outputs": [
    {
     "name": "stdout",
     "output_type": "stream",
     "text": [
      "getting race_id_list\n"
     ]
    },
    {
     "data": {
      "application/vnd.jupyter.widget-view+json": {
       "model_id": "b198dda1b50448a39aa46b1b6c65182b",
       "version_major": 2,
       "version_minor": 0
      },
      "text/plain": [
       "  0%|          | 0/109 [00:00<?, ?it/s]"
      ]
     },
     "metadata": {},
     "output_type": "display_data"
    },
    {
     "name": "stdout",
     "output_type": "stream",
     "text": [
      "scraping: https://race.netkeiba.com/top/race_list.html?kaisai_date=20200105\n",
      "scraping: https://race.netkeiba.com/top/race_list.html?kaisai_date=20200106\n",
      "scraping: https://race.netkeiba.com/top/race_list.html?kaisai_date=20200111\n",
      "scraping: https://race.netkeiba.com/top/race_list.html?kaisai_date=20200112\n",
      "scraping: https://race.netkeiba.com/top/race_list.html?kaisai_date=20200113\n",
      "scraping: https://race.netkeiba.com/top/race_list.html?kaisai_date=20200118\n",
      "scraping: https://race.netkeiba.com/top/race_list.html?kaisai_date=20200119\n",
      "scraping: https://race.netkeiba.com/top/race_list.html?kaisai_date=20200125\n",
      "scraping: https://race.netkeiba.com/top/race_list.html?kaisai_date=20200126\n",
      "scraping: https://race.netkeiba.com/top/race_list.html?kaisai_date=20200201\n",
      "scraping: https://race.netkeiba.com/top/race_list.html?kaisai_date=20200202\n",
      "scraping: https://race.netkeiba.com/top/race_list.html?kaisai_date=20200208\n",
      "scraping: https://race.netkeiba.com/top/race_list.html?kaisai_date=20200209\n",
      "scraping: https://race.netkeiba.com/top/race_list.html?kaisai_date=20200215\n",
      "scraping: https://race.netkeiba.com/top/race_list.html?kaisai_date=20200216\n",
      "scraping: https://race.netkeiba.com/top/race_list.html?kaisai_date=20200222\n",
      "scraping: https://race.netkeiba.com/top/race_list.html?kaisai_date=20200223\n",
      "scraping: https://race.netkeiba.com/top/race_list.html?kaisai_date=20200229\n",
      "scraping: https://race.netkeiba.com/top/race_list.html?kaisai_date=20200301\n",
      "scraping: https://race.netkeiba.com/top/race_list.html?kaisai_date=20200307\n",
      "scraping: https://race.netkeiba.com/top/race_list.html?kaisai_date=20200308\n",
      "scraping: https://race.netkeiba.com/top/race_list.html?kaisai_date=20200314\n",
      "scraping: https://race.netkeiba.com/top/race_list.html?kaisai_date=20200315\n",
      "scraping: https://race.netkeiba.com/top/race_list.html?kaisai_date=20200320\n",
      "scraping: https://race.netkeiba.com/top/race_list.html?kaisai_date=20200321\n",
      "scraping: https://race.netkeiba.com/top/race_list.html?kaisai_date=20200322\n",
      "scraping: https://race.netkeiba.com/top/race_list.html?kaisai_date=20200328\n",
      "scraping: https://race.netkeiba.com/top/race_list.html?kaisai_date=20200329\n",
      "scraping: https://race.netkeiba.com/top/race_list.html?kaisai_date=20200331\n",
      "scraping: https://race.netkeiba.com/top/race_list.html?kaisai_date=20200404\n",
      "scraping: https://race.netkeiba.com/top/race_list.html?kaisai_date=20200405\n",
      "scraping: https://race.netkeiba.com/top/race_list.html?kaisai_date=20200411\n",
      "scraping: https://race.netkeiba.com/top/race_list.html?kaisai_date=20200412\n",
      "scraping: https://race.netkeiba.com/top/race_list.html?kaisai_date=20200418\n",
      "scraping: https://race.netkeiba.com/top/race_list.html?kaisai_date=20200419\n",
      "scraping: https://race.netkeiba.com/top/race_list.html?kaisai_date=20200425\n",
      "scraping: https://race.netkeiba.com/top/race_list.html?kaisai_date=20200426\n",
      "scraping: https://race.netkeiba.com/top/race_list.html?kaisai_date=20200502\n",
      "scraping: https://race.netkeiba.com/top/race_list.html?kaisai_date=20200503\n",
      "scraping: https://race.netkeiba.com/top/race_list.html?kaisai_date=20200509\n",
      "scraping: https://race.netkeiba.com/top/race_list.html?kaisai_date=20200510\n",
      "scraping: https://race.netkeiba.com/top/race_list.html?kaisai_date=20200516\n",
      "scraping: https://race.netkeiba.com/top/race_list.html?kaisai_date=20200517\n",
      "scraping: https://race.netkeiba.com/top/race_list.html?kaisai_date=20200523\n",
      "scraping: https://race.netkeiba.com/top/race_list.html?kaisai_date=20200524\n",
      "scraping: https://race.netkeiba.com/top/race_list.html?kaisai_date=20200530\n",
      "scraping: https://race.netkeiba.com/top/race_list.html?kaisai_date=20200531\n",
      "scraping: https://race.netkeiba.com/top/race_list.html?kaisai_date=20200606\n",
      "scraping: https://race.netkeiba.com/top/race_list.html?kaisai_date=20200607\n",
      "scraping: https://race.netkeiba.com/top/race_list.html?kaisai_date=20200613\n",
      "scraping: https://race.netkeiba.com/top/race_list.html?kaisai_date=20200614\n",
      "scraping: https://race.netkeiba.com/top/race_list.html?kaisai_date=20200620\n",
      "scraping: https://race.netkeiba.com/top/race_list.html?kaisai_date=20200621\n",
      "scraping: https://race.netkeiba.com/top/race_list.html?kaisai_date=20200627\n",
      "scraping: https://race.netkeiba.com/top/race_list.html?kaisai_date=20200628\n",
      "scraping: https://race.netkeiba.com/top/race_list.html?kaisai_date=20200704\n",
      "scraping: https://race.netkeiba.com/top/race_list.html?kaisai_date=20200705\n",
      "scraping: https://race.netkeiba.com/top/race_list.html?kaisai_date=20200711\n",
      "scraping: https://race.netkeiba.com/top/race_list.html?kaisai_date=20200712\n",
      "scraping: https://race.netkeiba.com/top/race_list.html?kaisai_date=20200718\n",
      "scraping: https://race.netkeiba.com/top/race_list.html?kaisai_date=20200719\n",
      "scraping: https://race.netkeiba.com/top/race_list.html?kaisai_date=20200725\n",
      "scraping: https://race.netkeiba.com/top/race_list.html?kaisai_date=20200726\n",
      "scraping: https://race.netkeiba.com/top/race_list.html?kaisai_date=20200801\n",
      "scraping: https://race.netkeiba.com/top/race_list.html?kaisai_date=20200802\n",
      "scraping: https://race.netkeiba.com/top/race_list.html?kaisai_date=20200808\n",
      "scraping: https://race.netkeiba.com/top/race_list.html?kaisai_date=20200809\n",
      "scraping: https://race.netkeiba.com/top/race_list.html?kaisai_date=20200815\n",
      "scraping: https://race.netkeiba.com/top/race_list.html?kaisai_date=20200816\n",
      "scraping: https://race.netkeiba.com/top/race_list.html?kaisai_date=20200822\n",
      "scraping: https://race.netkeiba.com/top/race_list.html?kaisai_date=20200823\n",
      "scraping: https://race.netkeiba.com/top/race_list.html?kaisai_date=20200829\n",
      "scraping: https://race.netkeiba.com/top/race_list.html?kaisai_date=20200830\n",
      "scraping: https://race.netkeiba.com/top/race_list.html?kaisai_date=20200905\n",
      "scraping: https://race.netkeiba.com/top/race_list.html?kaisai_date=20200906\n",
      "scraping: https://race.netkeiba.com/top/race_list.html?kaisai_date=20200912\n",
      "scraping: https://race.netkeiba.com/top/race_list.html?kaisai_date=20200913\n",
      "scraping: https://race.netkeiba.com/top/race_list.html?kaisai_date=20200919\n",
      "scraping: https://race.netkeiba.com/top/race_list.html?kaisai_date=20200920\n",
      "scraping: https://race.netkeiba.com/top/race_list.html?kaisai_date=20200921\n",
      "scraping: https://race.netkeiba.com/top/race_list.html?kaisai_date=20200926\n",
      "scraping: https://race.netkeiba.com/top/race_list.html?kaisai_date=20200927\n",
      "scraping: https://race.netkeiba.com/top/race_list.html?kaisai_date=20201003\n",
      "scraping: https://race.netkeiba.com/top/race_list.html?kaisai_date=20201004\n",
      "scraping: https://race.netkeiba.com/top/race_list.html?kaisai_date=20201010\n",
      "scraping: https://race.netkeiba.com/top/race_list.html?kaisai_date=20201011\n",
      "scraping: https://race.netkeiba.com/top/race_list.html?kaisai_date=20201017\n",
      "scraping: https://race.netkeiba.com/top/race_list.html?kaisai_date=20201018\n",
      "scraping: https://race.netkeiba.com/top/race_list.html?kaisai_date=20201024\n",
      "scraping: https://race.netkeiba.com/top/race_list.html?kaisai_date=20201025\n",
      "scraping: https://race.netkeiba.com/top/race_list.html?kaisai_date=20201031\n",
      "scraping: https://race.netkeiba.com/top/race_list.html?kaisai_date=20201101\n",
      "scraping: https://race.netkeiba.com/top/race_list.html?kaisai_date=20201107\n",
      "scraping: https://race.netkeiba.com/top/race_list.html?kaisai_date=20201108\n",
      "scraping: https://race.netkeiba.com/top/race_list.html?kaisai_date=20201114\n",
      "scraping: https://race.netkeiba.com/top/race_list.html?kaisai_date=20201115\n",
      "scraping: https://race.netkeiba.com/top/race_list.html?kaisai_date=20201121\n",
      "scraping: https://race.netkeiba.com/top/race_list.html?kaisai_date=20201122\n",
      "scraping: https://race.netkeiba.com/top/race_list.html?kaisai_date=20201123\n",
      "scraping: https://race.netkeiba.com/top/race_list.html?kaisai_date=20201128\n",
      "scraping: https://race.netkeiba.com/top/race_list.html?kaisai_date=20201129\n",
      "scraping: https://race.netkeiba.com/top/race_list.html?kaisai_date=20201205\n",
      "scraping: https://race.netkeiba.com/top/race_list.html?kaisai_date=20201206\n",
      "scraping: https://race.netkeiba.com/top/race_list.html?kaisai_date=20201212\n",
      "scraping: https://race.netkeiba.com/top/race_list.html?kaisai_date=20201213\n",
      "scraping: https://race.netkeiba.com/top/race_list.html?kaisai_date=20201219\n",
      "scraping: https://race.netkeiba.com/top/race_list.html?kaisai_date=20201220\n",
      "scraping: https://race.netkeiba.com/top/race_list.html?kaisai_date=20201226\n",
      "scraping: https://race.netkeiba.com/top/race_list.html?kaisai_date=20201227\n"
     ]
    },
    {
     "data": {
      "text/plain": [
       "3456"
      ]
     },
     "execution_count": 5,
     "metadata": {},
     "output_type": "execute_result"
    }
   ],
   "source": [
    "# 開催日からレースIDの取得\n",
    "race_id_list = preparing.scrape_race_id_list(kaisai_date_2020)\n",
    "len(race_id_list)"
   ]
  },
  {
   "cell_type": "markdown",
   "metadata": {},
   "source": [
    "## 2.2. /race/ディレクトリのデータ取得"
   ]
  },
  {
   "cell_type": "code",
   "execution_count": null,
   "metadata": {},
   "outputs": [
    {
     "data": {
      "application/vnd.jupyter.widget-view+json": {
       "model_id": "ef8522199aa64f3ea36fa621210a8435",
       "version_major": 2,
       "version_minor": 0
      },
      "text/plain": [
       "  0%|          | 0/10 [00:00<?, ?it/s]"
      ]
     },
     "metadata": {},
     "output_type": "display_data"
    },
    {
     "name": "stdout",
     "output_type": "stream",
     "text": [
      "race_id 202106010101 skipped\n",
      "race_id 202106010102 skipped\n",
      "race_id 202106010103 skipped\n",
      "race_id 202106010104 skipped\n",
      "race_id 202106010105 skipped\n",
      "race_id 202106010106 skipped\n",
      "race_id 202106010107 skipped\n",
      "race_id 202106010108 skipped\n",
      "race_id 202106010109 skipped\n",
      "race_id 202106010110 skipped\n"
     ]
    },
    {
     "data": {
      "text/plain": [
       "['/Users/chiyoda/Documents/readers-repo/data/html/race/202106010101.bin',\n",
       " '/Users/chiyoda/Documents/readers-repo/data/html/race/202106010102.bin',\n",
       " '/Users/chiyoda/Documents/readers-repo/data/html/race/202106010103.bin',\n",
       " '/Users/chiyoda/Documents/readers-repo/data/html/race/202106010104.bin',\n",
       " '/Users/chiyoda/Documents/readers-repo/data/html/race/202106010105.bin']"
      ]
     },
     "execution_count": 7,
     "metadata": {},
     "output_type": "execute_result"
    }
   ],
   "source": [
    "#https://db.netkeiba.com/race/のhtml(binファイル)をスクレイピングして保存\n",
    "html_files_race = preparing.scrape_html_race(race_id_list, skip=True)\n",
    "html_files_race[:5]"
   ]
  },
  {
   "cell_type": "code",
   "execution_count": null,
   "metadata": {},
   "outputs": [
    {
     "data": {
      "application/vnd.jupyter.widget-view+json": {
       "model_id": "3effe11e3d01418d93585f89bb937bbd",
       "version_major": 2,
       "version_minor": 0
      },
      "text/plain": [
       "  0%|          | 0/10 [00:00<?, ?it/s]"
      ]
     },
     "metadata": {},
     "output_type": "display_data"
    },
    {
     "data": {
      "application/vnd.jupyter.widget-view+json": {
       "model_id": "e768c128f18f4ca6aac1145cf924e76f",
       "version_major": 2,
       "version_minor": 0
      },
      "text/plain": [
       "  0%|          | 0/10 [00:00<?, ?it/s]"
      ]
     },
     "metadata": {},
     "output_type": "display_data"
    },
    {
     "data": {
      "application/vnd.jupyter.widget-view+json": {
       "model_id": "2cc4ddbbedb142caa4365ef51bb6542b",
       "version_major": 2,
       "version_minor": 0
      },
      "text/plain": [
       "  0%|          | 0/10 [00:00<?, ?it/s]"
      ]
     },
     "metadata": {},
     "output_type": "display_data"
    }
   ],
   "source": [
    "results_new = preparing.get_rawdata_results(html_files_race) #レース結果テーブルの作成\n",
    "race_info_new = preparing.get_rawdata_info(html_files_race) #レース情報テーブルの作成\n",
    "return_tables_new = preparing.get_rawdata_return(html_files_race) #払戻テーブルの作成"
   ]
  },
  {
   "cell_type": "code",
   "execution_count": null,
   "metadata": {},
   "outputs": [],
   "source": [
    "# テーブルの更新。元々のテーブルが存在しない場合は、新たに作成される。\n",
    "preparing.update_rawdata(filepath=LocalPaths.RAW_RESULTS_PATH, new_df=results_new)\n",
    "preparing.update_rawdata(filepath=LocalPaths.RAW_RACE_INFO_PATH, new_df=race_info_new)\n",
    "preparing.update_rawdata(filepath=LocalPaths.RAW_RETURN_TABLES_PATH, new_df=return_tables_new)"
   ]
  },
  {
   "cell_type": "markdown",
   "metadata": {},
   "source": [
    "## 2.3. /horse/ディレクトリのデータ取得"
   ]
  },
  {
   "cell_type": "code",
   "execution_count": 72,
   "metadata": {},
   "outputs": [],
   "source": [
    "%autoreload"
   ]
  },
  {
   "cell_type": "code",
   "execution_count": 73,
   "metadata": {},
   "outputs": [
    {
     "ename": "NameError",
     "evalue": "name 'results_new' is not defined",
     "output_type": "error",
     "traceback": [
      "\u001b[0;31m---------------------------------------------------------------------------\u001b[0m",
      "\u001b[0;31mNameError\u001b[0m                                 Traceback (most recent call last)",
      "Cell \u001b[0;32mIn[73], line 1\u001b[0m\n\u001b[0;32m----> 1\u001b[0m horse_id_list \u001b[38;5;241m=\u001b[39m \u001b[43mresults_new\u001b[49m[\u001b[38;5;124m'\u001b[39m\u001b[38;5;124mhorse_id\u001b[39m\u001b[38;5;124m'\u001b[39m]\u001b[38;5;241m.\u001b[39munique()\n\u001b[1;32m      2\u001b[0m \u001b[38;5;66;03m#htmlをスクレイピング\u001b[39;00m\n\u001b[1;32m      3\u001b[0m \u001b[38;5;66;03m#すでにスクレイピングしてある馬をスキップしたい場合はskip=Trueにする\u001b[39;00m\n\u001b[1;32m      4\u001b[0m \u001b[38;5;66;03m#すでにスクレイピングしてある馬でも、新たに出走した成績を更新したい場合はskip=Falseにする\u001b[39;00m\n\u001b[1;32m      5\u001b[0m html_files_horse \u001b[38;5;241m=\u001b[39m preparing\u001b[38;5;241m.\u001b[39mscrape_html_horse_with_master(\n\u001b[1;32m      6\u001b[0m     horse_id_list, skip\u001b[38;5;241m=\u001b[39m\u001b[38;5;28;01mTrue\u001b[39;00m\n\u001b[1;32m      7\u001b[0m     )\n",
      "\u001b[0;31mNameError\u001b[0m: name 'results_new' is not defined"
     ]
    }
   ],
   "source": [
    "horse_id_list = results_new['horse_id'].unique()\n",
    "#htmlをスクレイピング\n",
    "#すでにスクレイピングしてある馬をスキップしたい場合はskip=Trueにする\n",
    "#すでにスクレイピングしてある馬でも、新たに出走した成績を更新したい場合はskip=Falseにする\n",
    "html_files_horse = preparing.scrape_html_horse_with_master(\n",
    "    horse_id_list, skip=True\n",
    "    )"
   ]
  },
  {
   "cell_type": "code",
   "execution_count": null,
   "metadata": {},
   "outputs": [
    {
     "data": {
      "text/plain": [
       "4742"
      ]
     },
     "execution_count": 19,
     "metadata": {},
     "output_type": "execute_result"
    }
   ],
   "source": [
    "#追加で新たにスクレイピングされた数\n",
    "len(html_files_horse)"
   ]
  },
  {
   "cell_type": "code",
   "execution_count": null,
   "metadata": {},
   "outputs": [
    {
     "data": {
      "application/vnd.jupyter.widget-view+json": {
       "model_id": "c58a7e2ef4c44515823a268edb8475f2",
       "version_major": 2,
       "version_minor": 0
      },
      "text/plain": [
       "  0%|          | 0/11561 [00:00<?, ?it/s]"
      ]
     },
     "metadata": {},
     "output_type": "display_data"
    },
    {
     "data": {
      "text/plain": [
       "['/Users/chiyoda/repositories/keibaAI-v2/data/html/horse/2017101445.bin',\n",
       " '/Users/chiyoda/repositories/keibaAI-v2/data/html/horse/2017109028.bin',\n",
       " '/Users/chiyoda/repositories/keibaAI-v2/data/html/horse/2016100106.bin',\n",
       " '/Users/chiyoda/repositories/keibaAI-v2/data/html/horse/2015104412.bin',\n",
       " '/Users/chiyoda/repositories/keibaAI-v2/data/html/horse/2016105305.bin']"
      ]
     },
     "execution_count": 22,
     "metadata": {},
     "output_type": "execute_result"
    }
   ],
   "source": [
    "### scrape関数を実行せずに、保存してあるhtmlのパスを取得する場合、以下を実行 ###\n",
    "\n",
    "\"\"\"target_date = '2022-06-25' #スクレイピングした日付を指定\n",
    "# マスタの読み込み\n",
    "update_master = pd.read_csv(\n",
    "    LocalPaths.MASTER_RAW_HORSE_RESULTS_PATH,\n",
    "    dtype=object\n",
    "    )\n",
    "# target_dateにスクレイピングしたhorse_idに絞り込む\n",
    "filter = pd.to_datetime(update_master['updated_at']).dt.strftime('%Y-%m-%d') == target_date\n",
    "horse_id_list = update_master[filter]['horse_id']\n",
    "\n",
    "# binファイルのパスを取得\n",
    "html_files_horse = []\n",
    "for horse_id in tqdm(horse_id_list):\n",
    "    file = glob.glob(os.path.join(LocalPaths.HTML_HORSE_DIR, horse_id+'*.bin'))[0]\n",
    "    html_files_horse.append(file)\n",
    "html_files_horse[:5]\"\"\""
   ]
  },
  {
   "cell_type": "code",
   "execution_count": null,
   "metadata": {},
   "outputs": [],
   "source": [
    "# 馬の基本情報テーブルの作成\n",
    "horse_info_new = preparing.get_rawdata_horse_info(html_files_horse)"
   ]
  },
  {
   "cell_type": "code",
   "execution_count": null,
   "metadata": {},
   "outputs": [],
   "source": [
    "# 馬の基本情報テーブルの更新\n",
    "preparing.update_rawdata(LocalPaths.RAW_HORSE_INFO_PATH, horse_info_new)"
   ]
  },
  {
   "cell_type": "code",
   "execution_count": null,
   "metadata": {},
   "outputs": [
    {
     "name": "stdout",
     "output_type": "stream",
     "text": [
      "preparing raw horse_results table\n"
     ]
    },
    {
     "data": {
      "application/vnd.jupyter.widget-view+json": {
       "model_id": "bd90c21db8aa4a0e9bb8555883128ee0",
       "version_major": 2,
       "version_minor": 0
      },
      "text/plain": [
       "  0%|          | 0/4742 [00:00<?, ?it/s]"
      ]
     },
     "metadata": {},
     "output_type": "display_data"
    }
   ],
   "source": [
    "#　馬の過去成績テーブルの作成\n",
    "horse_results_new = preparing.get_rawdata_horse_results(html_files_horse)"
   ]
  },
  {
   "cell_type": "code",
   "execution_count": null,
   "metadata": {},
   "outputs": [],
   "source": [
    "# テーブルの更新\n",
    "preparing.update_rawdata(LocalPaths.RAW_HORSE_RESULTS_PATH, horse_results_new)"
   ]
  },
  {
   "cell_type": "markdown",
   "metadata": {},
   "source": [
    "## 2.4. /ped/ディレクトリのデータ取得"
   ]
  },
  {
   "cell_type": "code",
   "execution_count": null,
   "metadata": {},
   "outputs": [
    {
     "data": {
      "application/vnd.jupyter.widget-view+json": {
       "model_id": "dac873303fa4402991881bfef2995cb2",
       "version_major": 2,
       "version_minor": 0
      },
      "text/plain": [
       "  0%|          | 0/5 [00:00<?, ?it/s]"
      ]
     },
     "metadata": {},
     "output_type": "display_data"
    }
   ],
   "source": [
    "html_files_peds = preparing.scrape_html_ped(horse_id_list, skip=True) #htmlをスクレイピング"
   ]
  },
  {
   "cell_type": "code",
   "execution_count": null,
   "metadata": {},
   "outputs": [
    {
     "data": {
      "application/vnd.jupyter.widget-view+json": {
       "model_id": "6052d39df23e4ac1b0d0769d8663c403",
       "version_major": 2,
       "version_minor": 0
      },
      "text/plain": [
       "  0%|          | 0/5 [00:00<?, ?it/s]"
      ]
     },
     "metadata": {},
     "output_type": "display_data"
    }
   ],
   "source": [
    "peds_new = preparing.get_rawdata_peds(html_files_peds) #血統テーブルの作成\n",
    "preparing.update_rawdata(LocalPaths.RAW_PEDS_PATH, peds_new) #テーブルの更新"
   ]
  },
  {
   "cell_type": "markdown",
   "metadata": {},
   "source": [
    "# 3. データ加工"
   ]
  },
  {
   "cell_type": "code",
   "execution_count": 332,
   "metadata": {},
   "outputs": [],
   "source": [
    "#モジュールを更新した際、notebookに反映させるために使用。\n",
    "#すでにインポートしてあるモジュールの更新が反映される。\n",
    "\n",
    "%autoreload\n"
   ]
  },
  {
   "cell_type": "code",
   "execution_count": 2,
   "metadata": {},
   "outputs": [
    {
     "name": "stdout",
     "output_type": "stream",
     "text": [
      "複勝列数:4\n"
     ]
    }
   ],
   "source": [
    "import sys\n",
    "from src.constants._master import Master\n",
    "from src.constants._local_paths import LocalPaths\n",
    "from src.constants._horse_results_cols import HorseResultsCols\n",
    "from src.constants._results_cols import ResultsCols\n",
    "from src.preprocessing._horse_results_processor import HorseResultsProcessor\n",
    "from src.preprocessing._horse_info_processor import HorseInfoProcessor\n",
    "from src.preprocessing._data_merger import DataMerger\n",
    "from src.preprocessing._feature_engineering import FeatureEngineering\n",
    "from src.preprocessing._peds_processor import PedsProcessor\n",
    "from src.preprocessing._race_info_processor import RaceInfoProcessor\n",
    "from src.preprocessing._results_processor import ResultsProcessor\n",
    "from src.preprocessing._return_processor import ReturnProcessor\n",
    "# from src.preprocessing._shutuba_table_processor import ShutubaTableProcessor\n",
    "# from src.preprocessing._shutuba_data_merger import ShutubaDataMerger\n",
    "\n",
    "# 前処理\n",
    "results_processor = ResultsProcessor(filepath=LocalPaths.RAW_RESULTS_PATH)\n",
    "race_info_processor = RaceInfoProcessor(filepath=LocalPaths.RAW_RACE_INFO_PATH)\n",
    "return_processor = ReturnProcessor(filepath=LocalPaths.RAW_RETURN_TABLES_PATH)\n",
    "horse_info_processor = HorseInfoProcessor(filepath=LocalPaths.RAW_HORSE_INFO_PATH)\n",
    "horse_results_processor = HorseResultsProcessor(filepath=LocalPaths.RAW_HORSE_RESULTS_PATH)\n",
    "peds_processor = PedsProcessor(filepath=LocalPaths.RAW_PEDS_PATH)"
   ]
  },
  {
   "cell_type": "markdown",
   "metadata": {},
   "source": [
    "馬の過去成績を集計しつつ、前処理の済みの全てのテーブルをマージする処理"
   ]
  },
  {
   "cell_type": "code",
   "execution_count": 318,
   "metadata": {},
   "outputs": [
    {
     "name": "stdout",
     "output_type": "stream",
     "text": [
      "250\n",
      "50\n"
     ]
    }
   ],
   "source": [
    "import pandas as pd\n",
    "\n",
    "# 表示を省略しないように設定\n",
    "sys.maxsize = sys.maxsize\n",
    "# 現在の最大表示数\n",
    "print(pd.get_option(\"display.max_rows\"))\n",
    "print(pd.get_option(\"display.max_columns\"))\n",
    "\n",
    "# 新しく設定する最大表示数\n",
    "pd.set_option(\"display.max_rows\", 250)\n",
    "pd.set_option(\"display.max_columns\",50 )"
   ]
  },
  {
   "cell_type": "code",
   "execution_count": 3,
   "metadata": {},
   "outputs": [
    {
     "name": "stdout",
     "output_type": "stream",
     "text": [
      "merge_infos race_id                202301010101         202301010101         202301010101  \\\n",
      "枠番                                5                    8                    6   \n",
      "馬番                                5                    8                    6   \n",
      "斤量                             55.0                 55.0                 55.0   \n",
      "単勝                              1.2                  4.1                 59.9   \n",
      "horse_id                 2021101429           2021105872           2021106854   \n",
      "jockey_id                     01170                01115                01093   \n",
      "trainer_id                    01026                01008                01091   \n",
      "owner_id                     425031               372033               464030   \n",
      "性                                 牡                    牝                    牡   \n",
      "年齢                                2                    2                    2   \n",
      "体重                              452                  454                  438   \n",
      "体重変化                             -4                    2                   -6   \n",
      "n_horses                          1                    1                    1   \n",
      "rank                              1                    1                    1   \n",
      "place                            札幌                   札幌                   札幌   \n",
      "days                              1                    1                    1   \n",
      "times                             1                    1                    1   \n",
      "date            2023-07-22 00:00:00  2023-07-22 00:00:00  2023-07-22 00:00:00   \n",
      "time                          09:50                09:50                09:50   \n",
      "race_type                         芝                    芝                    芝   \n",
      "around                           直線                   直線                   直線   \n",
      "course_len                     12.0                 12.0                 12.0   \n",
      "weather                           晴                    晴                    晴   \n",
      "ground_state1                     良                    良                    良   \n",
      "ground_state2                     良                    良                    良   \n",
      "race_class                      未勝利                  未勝利                  未勝利   \n",
      "race_condition                  NaN                  NaN                  NaN   \n",
      "teiryo                            0                    0                    0   \n",
      "barei                             1                    1                    1   \n",
      "bettei                            0                    0                    0   \n",
      "kokusai                           0                    0                    0   \n",
      "shitei                            1                    1                    1   \n",
      "tokushi                           0                    0                    0   \n",
      "toku                              0                    0                    0   \n",
      "handi                             0                    0                    0   \n",
      "minarai                           0                    0                    0   \n",
      "wakate                            0                    0                    0   \n",
      "shogai                            0                    0                    0   \n",
      "chiho                             0                    0                    0   \n",
      "gai                               0                    0                    0   \n",
      "kongo                             1                    1                    1   \n",
      "hinba                             0                    0                    0   \n",
      "kachi                             0                    0                    0   \n",
      "kyushu                            0                    0                    0   \n",
      "開催                               01                   01                   01   \n",
      "\n",
      "race_id                202301010101         202301010101  \n",
      "枠番                                4                    1  \n",
      "馬番                                4                    1  \n",
      "斤量                             55.0                 55.0  \n",
      "単勝                             16.6                 23.9  \n",
      "horse_id                 2021105553           2021100648  \n",
      "jockey_id                     05339                01095  \n",
      "trainer_id                    01160                01128  \n",
      "owner_id                     680031               281008  \n",
      "性                                 牝                    牝  \n",
      "年齢                                2                    2  \n",
      "体重                              450                  434  \n",
      "体重変化                              2                  -10  \n",
      "n_horses                          1                    1  \n",
      "rank                              0                    0  \n",
      "place                            札幌                   札幌  \n",
      "days                              1                    1  \n",
      "times                             1                    1  \n",
      "date            2023-07-22 00:00:00  2023-07-22 00:00:00  \n",
      "time                          09:50                09:50  \n",
      "race_type                         芝                    芝  \n",
      "around                           直線                   直線  \n",
      "course_len                     12.0                 12.0  \n",
      "weather                           晴                    晴  \n",
      "ground_state1                     良                    良  \n",
      "ground_state2                     良                    良  \n",
      "race_class                      未勝利                  未勝利  \n",
      "race_condition                  NaN                  NaN  \n",
      "teiryo                            0                    0  \n",
      "barei                             1                    1  \n",
      "bettei                            0                    0  \n",
      "kokusai                           0                    0  \n",
      "shitei                            1                    1  \n",
      "tokushi                           0                    0  \n",
      "toku                              0                    0  \n",
      "handi                             0                    0  \n",
      "minarai                           0                    0  \n",
      "wakate                            0                    0  \n",
      "shogai                            0                    0  \n",
      "chiho                             0                    0  \n",
      "gai                               0                    0  \n",
      "kongo                             1                    1  \n",
      "hinba                             0                    0  \n",
      "kachi                             0                    0  \n",
      "kyushu                            0                    0  \n",
      "開催                               01                   01  \n",
      "separating horse results by date\n"
     ]
    },
    {
     "data": {
      "application/vnd.jupyter.widget-view+json": {
       "model_id": "2a96472f448b4e938d2f67ad7efae69f",
       "version_major": 2,
       "version_minor": 0
      },
      "text/plain": [
       "  0%|          | 0/116 [00:00<?, ?it/s]"
      ]
     },
     "metadata": {},
     "output_type": "display_data"
    },
    {
     "name": "stdout",
     "output_type": "stream",
     "text": [
      "merging horse_results\n"
     ]
    },
    {
     "data": {
      "application/vnd.jupyter.widget-view+json": {
       "model_id": "cf9a2e6146784b5e86f6f85fae48b049",
       "version_major": 2,
       "version_minor": 0
      },
      "text/plain": [
       "  0%|          | 0/116 [00:00<?, ?it/s]"
      ]
     },
     "metadata": {},
     "output_type": "display_data"
    },
    {
     "name": "stdout",
     "output_type": "stream",
     "text": [
      "merge_horse race_id                        202308020909         202309020607  \\\n",
      "枠番                                        2                    1   \n",
      "馬番                                        2                    1   \n",
      "斤量                                     58.0                 58.0   \n",
      "単勝                                    222.4                320.5   \n",
      "horse_id                         2011106610           2011106610   \n",
      "...                                     ...                  ...   \n",
      "first_to_rank_開催_allR             -1.111111                 -4.0   \n",
      "first_to_final_開催_allR             0.333333                 -0.6   \n",
      "final_to_rank_開催_allR             -1.444444                 -3.4   \n",
      "time_seconds_開催_allR              95.566667                142.0   \n",
      "latest                  2023-10-07 00:00:00  2022-12-17 00:00:00   \n",
      "\n",
      "race_id                        202305020808         202309050408  \\\n",
      "枠番                                        8                    1   \n",
      "馬番                                        9                    1   \n",
      "斤量                                     57.0                 55.0   \n",
      "単勝                                    334.9                211.8   \n",
      "horse_id                         2011106610           2011106610   \n",
      "...                                     ...                  ...   \n",
      "first_to_rank_開催_allR                  -4.2                 -3.0   \n",
      "first_to_final_開催_allR                  0.0            -0.444444   \n",
      "final_to_rank_開催_allR                  -4.2            -2.555556   \n",
      "time_seconds_開催_allR                   98.2           121.055556   \n",
      "latest                  2023-04-30 00:00:00  2023-11-11 00:00:00   \n",
      "\n",
      "race_id                        202309030809  \n",
      "枠番                                        8  \n",
      "馬番                                       11  \n",
      "斤量                                     50.0  \n",
      "単勝                                    258.1  \n",
      "horse_id                         2011106610  \n",
      "...                                     ...  \n",
      "first_to_rank_開催_allR                  -4.0  \n",
      "first_to_final_開催_allR            -0.571429  \n",
      "final_to_rank_開催_allR             -3.428571  \n",
      "time_seconds_開催_allR             130.357143  \n",
      "latest                  2023-06-03 00:00:00  \n",
      "\n",
      "[154 rows x 5 columns]\n",
      "merge_horse_info race_id                       202308020909         202309020607  \\\n",
      "枠番                                       2                    1   \n",
      "馬番                                       2                    1   \n",
      "斤量                                    58.0                 58.0   \n",
      "単勝                                   222.4                320.5   \n",
      "horse_id                        2011106610           2011106610   \n",
      "...                                    ...                  ...   \n",
      "final_to_rank_開催_allR            -1.444444                 -3.4   \n",
      "time_seconds_開催_allR             95.566667                142.0   \n",
      "latest                 2023-10-07 00:00:00  2022-12-17 00:00:00   \n",
      "birthday               2011-05-29 00:00:00  2011-05-29 00:00:00   \n",
      "breeder_id                          233302               233302   \n",
      "\n",
      "race_id                       202305020808         202309050408  \\\n",
      "枠番                                       8                    1   \n",
      "馬番                                       9                    1   \n",
      "斤量                                    57.0                 55.0   \n",
      "単勝                                   334.9                211.8   \n",
      "horse_id                        2011106610           2011106610   \n",
      "...                                    ...                  ...   \n",
      "final_to_rank_開催_allR                 -4.2            -2.555556   \n",
      "time_seconds_開催_allR                  98.2           121.055556   \n",
      "latest                 2023-04-30 00:00:00  2023-11-11 00:00:00   \n",
      "birthday               2011-05-29 00:00:00  2011-05-29 00:00:00   \n",
      "breeder_id                          233302               233302   \n",
      "\n",
      "race_id                       202309030809  \n",
      "枠番                                       8  \n",
      "馬番                                      11  \n",
      "斤量                                    50.0  \n",
      "単勝                                   258.1  \n",
      "horse_id                        2011106610  \n",
      "...                                    ...  \n",
      "final_to_rank_開催_allR            -3.428571  \n",
      "time_seconds_開催_allR            130.357143  \n",
      "latest                 2023-06-03 00:00:00  \n",
      "birthday               2011-05-29 00:00:00  \n",
      "breeder_id                          233302  \n",
      "\n",
      "[156 rows x 5 columns]\n"
     ]
    }
   ],
   "source": [
    "# ターゲットエンコーディング時に「馬の成績」として扱う項目\n",
    "TARGET_COLS = [\n",
    "        HorseResultsCols.RANK,\n",
    "        HorseResultsCols.PRIZE,\n",
    "        HorseResultsCols.RANK_DIFF,\n",
    "        'first_corner',\n",
    "        'final_corner',\n",
    "        'first_to_rank',\n",
    "        'first_to_final',\n",
    "        'final_to_rank',\n",
    "        'time_seconds'\n",
    "        ]\n",
    "# horse_id列と共に、ターゲットエンコーディングの対象にする列\n",
    "GROUP_COLS = [\n",
    "        'course_len',\n",
    "        'race_type',\n",
    "        HorseResultsCols.PLACE\n",
    "        ]\n",
    "\n",
    "data_merger = DataMerger(\n",
    "        results_processor,\n",
    "        race_info_processor,\n",
    "        horse_results_processor,\n",
    "        horse_info_processor,\n",
    "        peds_processor,\n",
    "        target_cols=TARGET_COLS,\n",
    "        group_cols=GROUP_COLS\n",
    ")\n",
    "# 処理実行\n",
    "data_merger.merge()"
   ]
  },
  {
   "cell_type": "code",
   "execution_count": 335,
   "metadata": {},
   "outputs": [
    {
     "data": {
      "text/plain": [
       "<src.preprocessing._data_merger.DataMerger at 0x7f031422a5d0>"
      ]
     },
     "execution_count": 335,
     "metadata": {},
     "output_type": "execute_result"
    }
   ],
   "source": [
    "data_merger"
   ]
  },
  {
   "cell_type": "code",
   "execution_count": 7,
   "metadata": {},
   "outputs": [
    {
     "name": "stdout",
     "output_type": "stream",
     "text": [
      "<class 'pandas.core.frame.DataFrame'>\n",
      "self.__data.columns:枠番             int64\n",
      "馬番             int64\n",
      "斤量           float64\n",
      "単勝           float64\n",
      "horse_id    category\n",
      "              ...   \n",
      "開催__06          bool\n",
      "開催__07          bool\n",
      "開催__08          bool\n",
      "開催__09          bool\n",
      "開催__10          bool\n",
      "Length: 236, dtype: object\n"
     ]
    }
   ],
   "source": [
    "from src.preprocessing._feature_engineering import FeatureEngineering\n",
    "\n",
    "\n",
    "# カテゴリ変数の処理\n",
    "feature_engineering = (\n",
    "    FeatureEngineering(data_merger)\n",
    "    .add_interval()\n",
    "    .add_agedays()\n",
    "    .dumminize_sex()\n",
    "    .dumminize_weather()\n",
    "    .dumminize_around()\n",
    "    .dumminize_race_class()\n",
    "    .dumminize_ground_state1()\n",
    "    .dumminize_ground_state2()\n",
    "    .dumminize_race_type()\n",
    "    .dumminize_kaisai()\n",
    "    .encode_breeder_id()\n",
    "    .encode_owner_id()\n",
    "    .encode_trainer_id()\n",
    "    .encode_jockey_id()\n",
    "    .encode_horse_id()\n",
    "    #.transform_time()\n",
    ")\n",
    "print(f\"self.__data.columns:{feature_engineering.featured_data.dtypes}\")"
   ]
  },
  {
   "cell_type": "code",
   "execution_count": 8,
   "metadata": {},
   "outputs": [],
   "source": [
    "from src.preprocessing._feature_engineering import FeatureEngineering\n",
    "import pickle\n",
    "\n",
    "# pickle形式でデータを保存\n",
    "with open(\"./data/tmp/featured_data_20240224.pickle\", \"wb\") as f:\n",
    "    pickle.dump(feature_engineering.featured_data, f)"
   ]
  },
  {
   "cell_type": "code",
   "execution_count": 338,
   "metadata": {},
   "outputs": [],
   "source": [
    "%autoreload"
   ]
  },
  {
   "cell_type": "code",
   "execution_count": 9,
   "metadata": {},
   "outputs": [
    {
     "name": "stdout",
     "output_type": "stream",
     "text": [
      "(51329, 236)\n"
     ]
    }
   ],
   "source": [
    "import pandas as pd\n",
    "results = pd.read_pickle(\"./data/tmp/featured_data_20240224.pickle\")\n",
    "results.sort_values(by=\"race_id\").head()\n",
    "print(results.shape)"
   ]
  },
  {
   "cell_type": "markdown",
   "metadata": {},
   "source": [
    "# 4. 学習"
   ]
  },
  {
   "cell_type": "code",
   "execution_count": 10,
   "metadata": {},
   "outputs": [
    {
     "name": "stdout",
     "output_type": "stream",
     "text": [
      "total: 51329\n",
      "len(self.__lgb_valid_optuna): 25407\n",
      "len(self.__valid_data_optuna): 10510\n",
      "len(self.__test_data): 15412\n",
      "len(self.__X_test): 15412\n"
     ]
    },
    {
     "ename": "NameError",
     "evalue": "name 'LGBClassifier' is not defined",
     "output_type": "error",
     "traceback": [
      "\u001b[0;31m---------------------------------------------------------------------------\u001b[0m",
      "\u001b[0;31mNameError\u001b[0m                                 Traceback (most recent call last)",
      "Cell \u001b[0;32mIn[10], line 4\u001b[0m\n\u001b[1;32m      1\u001b[0m \u001b[38;5;28;01mfrom\u001b[39;00m \u001b[38;5;21;01msrc\u001b[39;00m\u001b[38;5;21;01m.\u001b[39;00m\u001b[38;5;21;01mtraining\u001b[39;00m\u001b[38;5;21;01m.\u001b[39;00m\u001b[38;5;21;01m_keiba_ai_factory\u001b[39;00m \u001b[38;5;28;01mimport\u001b[39;00m KeibaAIFactory\n\u001b[1;32m      2\u001b[0m \u001b[38;5;28;01mfrom\u001b[39;00m \u001b[38;5;21;01msrc\u001b[39;00m\u001b[38;5;21;01m.\u001b[39;00m\u001b[38;5;21;01mpreprocessing\u001b[39;00m\u001b[38;5;21;01m.\u001b[39;00m\u001b[38;5;21;01m_feature_engineering\u001b[39;00m \u001b[38;5;28;01mimport\u001b[39;00m FeatureEngineering\n\u001b[0;32m----> 4\u001b[0m keiba_ai \u001b[38;5;241m=\u001b[39m \u001b[43mKeibaAIFactory\u001b[49m\u001b[38;5;241;43m.\u001b[39;49m\u001b[43mcreate\u001b[49m\u001b[43m(\u001b[49m\u001b[43mfeature_engineering\u001b[49m\u001b[38;5;241;43m.\u001b[39;49m\u001b[43mfeatured_data\u001b[49m\u001b[43m)\u001b[49m  \u001b[38;5;66;03m# モデル作成\u001b[39;00m\n\u001b[1;32m      5\u001b[0m keiba_ai\u001b[38;5;241m.\u001b[39mtrain_with_tuning()  \u001b[38;5;66;03m# パラメータチューニングをして学習\u001b[39;00m\n",
      "File \u001b[0;32m~/src/keibam/src/training/_keiba_ai_factory.py:18\u001b[0m, in \u001b[0;36mKeibaAIFactory.create\u001b[0;34m(featured_data, test_size, valid_size)\u001b[0m\n\u001b[1;32m     15\u001b[0m \u001b[38;5;129m@staticmethod\u001b[39m\n\u001b[1;32m     16\u001b[0m \u001b[38;5;28;01mdef\u001b[39;00m \u001b[38;5;21mcreate\u001b[39m(featured_data, test_size\u001b[38;5;241m=\u001b[39m\u001b[38;5;241m0.3\u001b[39m, valid_size\u001b[38;5;241m=\u001b[39m\u001b[38;5;241m0.3\u001b[39m) \u001b[38;5;241m-\u001b[39m\u001b[38;5;241m>\u001b[39m KeibaAI:\n\u001b[1;32m     17\u001b[0m     datasets \u001b[38;5;241m=\u001b[39m DataSplitter(featured_data, test_size, valid_size)\n\u001b[0;32m---> 18\u001b[0m     \u001b[38;5;28;01mreturn\u001b[39;00m \u001b[43mKeibaAI\u001b[49m\u001b[43m(\u001b[49m\u001b[43mdatasets\u001b[49m\u001b[43m)\u001b[49m\n",
      "File \u001b[0;32m~/src/keibam/src/training/_keiba_ai.py:17\u001b[0m, in \u001b[0;36mKeibaAI.__init__\u001b[0;34m(self, datasets)\u001b[0m\n\u001b[1;32m     15\u001b[0m \u001b[38;5;28;01mdef\u001b[39;00m \u001b[38;5;21m__init__\u001b[39m(\u001b[38;5;28mself\u001b[39m, datasets: DataSplitter):\n\u001b[1;32m     16\u001b[0m     \u001b[38;5;28mself\u001b[39m\u001b[38;5;241m.\u001b[39m__datasets \u001b[38;5;241m=\u001b[39m datasets\n\u001b[0;32m---> 17\u001b[0m     \u001b[38;5;28mself\u001b[39m\u001b[38;5;241m.\u001b[39m__model_wrapper \u001b[38;5;241m=\u001b[39m \u001b[43mModelWrapper\u001b[49m\u001b[43m(\u001b[49m\u001b[43m)\u001b[49m\n",
      "File \u001b[0;32m~/src/keibam/src/training/_model_wrapper.py:16\u001b[0m, in \u001b[0;36mModelWrapper.__init__\u001b[0;34m(self)\u001b[0m\n\u001b[1;32m     15\u001b[0m \u001b[38;5;28;01mdef\u001b[39;00m \u001b[38;5;21m__init__\u001b[39m(\u001b[38;5;28mself\u001b[39m):\n\u001b[0;32m---> 16\u001b[0m     \u001b[38;5;28mself\u001b[39m\u001b[38;5;241m.\u001b[39m__lgb_model \u001b[38;5;241m=\u001b[39m \u001b[43mLGBClassifier\u001b[49m(objective\u001b[38;5;241m=\u001b[39m\u001b[38;5;124m\"\u001b[39m\u001b[38;5;124mbinary\u001b[39m\u001b[38;5;124m\"\u001b[39m)\n\u001b[1;32m     17\u001b[0m     \u001b[38;5;28mself\u001b[39m\u001b[38;5;241m.\u001b[39m__feature_importance \u001b[38;5;241m=\u001b[39m \u001b[38;5;28;01mNone\u001b[39;00m\n",
      "\u001b[0;31mNameError\u001b[0m: name 'LGBClassifier' is not defined"
     ]
    }
   ],
   "source": [
    "from src.training._keiba_ai_factory import KeibaAIFactory\n",
    "from src.preprocessing._feature_engineering import FeatureEngineering\n",
    "\n",
    "keiba_ai = KeibaAIFactory.create(feature_engineering.featured_data)  # モデル作成\n",
    "keiba_ai.train_with_tuning()  # パラメータチューニングをして学習"
   ]
  },
  {
   "cell_type": "code",
   "execution_count": 94,
   "metadata": {},
   "outputs": [
    {
     "data": {
      "text/html": [
       "<div>\n",
       "<style scoped>\n",
       "    .dataframe tbody tr th:only-of-type {\n",
       "        vertical-align: middle;\n",
       "    }\n",
       "\n",
       "    .dataframe tbody tr th {\n",
       "        vertical-align: top;\n",
       "    }\n",
       "\n",
       "    .dataframe thead th {\n",
       "        text-align: right;\n",
       "    }\n",
       "</style>\n",
       "<table border=\"1\" class=\"dataframe\">\n",
       "  <thead>\n",
       "    <tr style=\"text-align: right;\">\n",
       "      <th></th>\n",
       "      <th>features</th>\n",
       "      <th>importance</th>\n",
       "    </tr>\n",
       "  </thead>\n",
       "  <tbody>\n",
       "    <tr>\n",
       "      <th>218</th>\n",
       "      <td>race_class__未勝利</td>\n",
       "      <td>13</td>\n",
       "    </tr>\n",
       "    <tr>\n",
       "      <th>203</th>\n",
       "      <td>interval</td>\n",
       "      <td>12</td>\n",
       "    </tr>\n",
       "    <tr>\n",
       "      <th>204</th>\n",
       "      <td>age_days</td>\n",
       "      <td>12</td>\n",
       "    </tr>\n",
       "    <tr>\n",
       "      <th>8</th>\n",
       "      <td>体重</td>\n",
       "      <td>10</td>\n",
       "    </tr>\n",
       "    <tr>\n",
       "      <th>68</th>\n",
       "      <td>着順_9R</td>\n",
       "      <td>9</td>\n",
       "    </tr>\n",
       "    <tr>\n",
       "      <th>...</th>\n",
       "      <td>...</td>\n",
       "      <td>...</td>\n",
       "    </tr>\n",
       "    <tr>\n",
       "      <th>124</th>\n",
       "      <td>着差_race_type_allR</td>\n",
       "      <td>5</td>\n",
       "    </tr>\n",
       "    <tr>\n",
       "      <th>6</th>\n",
       "      <td>owner_id</td>\n",
       "      <td>4</td>\n",
       "    </tr>\n",
       "    <tr>\n",
       "      <th>162</th>\n",
       "      <td>peds_21</td>\n",
       "      <td>4</td>\n",
       "    </tr>\n",
       "    <tr>\n",
       "      <th>131</th>\n",
       "      <td>着順_開催_allR</td>\n",
       "      <td>4</td>\n",
       "    </tr>\n",
       "    <tr>\n",
       "      <th>112</th>\n",
       "      <td>time_seconds_allR</td>\n",
       "      <td>3</td>\n",
       "    </tr>\n",
       "  </tbody>\n",
       "</table>\n",
       "<p>20 rows × 2 columns</p>\n",
       "</div>"
      ],
      "text/plain": [
       "              features  importance\n",
       "218    race_class__未勝利          13\n",
       "203           interval          12\n",
       "204           age_days          12\n",
       "8                   体重          10\n",
       "68               着順_9R           9\n",
       "..                 ...         ...\n",
       "124  着差_race_type_allR           5\n",
       "6             owner_id           4\n",
       "162            peds_21           4\n",
       "131         着順_開催_allR           4\n",
       "112  time_seconds_allR           3\n",
       "\n",
       "[20 rows x 2 columns]"
      ]
     },
     "execution_count": 94,
     "metadata": {},
     "output_type": "execute_result"
    }
   ],
   "source": [
    "from src.training._keiba_ai import KeibaAI\n",
    "\n",
    "# 特徴量の重要度\n",
    "keiba_ai.feature_importance(20)"
   ]
  },
  {
   "cell_type": "code",
   "execution_count": 95,
   "metadata": {},
   "outputs": [
    {
     "data": {
      "text/plain": [
       "{'boosting_type': 'gbdt',\n",
       " 'class_weight': None,\n",
       " 'colsample_bytree': 1.0,\n",
       " 'importance_type': 'split',\n",
       " 'learning_rate': 0.1,\n",
       " 'max_depth': -1,\n",
       " 'min_child_samples': 20,\n",
       " 'min_child_weight': 0.001,\n",
       " 'min_split_gain': 0.0,\n",
       " 'n_estimators': 100,\n",
       " 'n_jobs': None,\n",
       " 'num_leaves': 3,\n",
       " 'objective': 'binary',\n",
       " 'random_state': None,\n",
       " 'reg_alpha': 0.0,\n",
       " 'reg_lambda': 0.0,\n",
       " 'subsample': 1.0,\n",
       " 'subsample_for_bin': 200000,\n",
       " 'subsample_freq': 0,\n",
       " 'verbose': -1,\n",
       " 'feature_pre_filter': False,\n",
       " 'lambda_l1': 0.08302649687695153,\n",
       " 'lambda_l2': 0.07533796360747697,\n",
       " 'feature_fraction': 0.44800000000000006,\n",
       " 'bagging_fraction': 1.0,\n",
       " 'bagging_freq': 0}"
      ]
     },
     "execution_count": 95,
     "metadata": {},
     "output_type": "execute_result"
    }
   ],
   "source": [
    "#ハイパーパラメータの確認\n",
    "keiba_ai.get_params()"
   ]
  },
  {
   "cell_type": "code",
   "execution_count": 96,
   "metadata": {},
   "outputs": [
    {
     "name": "stdout",
     "output_type": "stream",
     "text": [
      "AUC: 0.737(train), 0.719(test)\n"
     ]
    }
   ],
   "source": [
    "#チューニングしないで学習\n",
    "keiba_ai.train_without_tuning()"
   ]
  },
  {
   "cell_type": "code",
   "execution_count": 97,
   "metadata": {},
   "outputs": [],
   "source": [
    "from src.training._keiba_ai_factory import KeibaAIFactory\n",
    "\n",
    "# モデル保存。models/(実行した日付)/(version_name).pickleに、モデルとデータセットが保存される。\n",
    "KeibaAIFactory.save(keiba_ai, version_name=\"basemodel_2023_2024\")"
   ]
  },
  {
   "cell_type": "code",
   "execution_count": 98,
   "metadata": {},
   "outputs": [],
   "source": [
    "# モデルロード\n",
    "keiba_ai = KeibaAIFactory.load(\"models/20240224/basemodel_2023_2024.pickle\")\n",
    "keiba_ai.set_params(keiba_ai.get_params())"
   ]
  },
  {
   "cell_type": "markdown",
   "metadata": {},
   "source": [
    "# 5. シミュレーション"
   ]
  },
  {
   "cell_type": "code",
   "execution_count": 220,
   "metadata": {},
   "outputs": [],
   "source": [
    "%autoreload\n"
   ]
  },
  {
   "cell_type": "code",
   "execution_count": 221,
   "metadata": {},
   "outputs": [],
   "source": [
    "from src.simulation._simulator import Simulator\n",
    "\n",
    "# シミュレーターに馬券をセット\n",
    "simulator = Simulator(return_processor)"
   ]
  },
  {
   "cell_type": "code",
   "execution_count": 107,
   "metadata": {},
   "outputs": [
    {
     "name": "stdout",
     "output_type": "stream",
     "text": [
      "単勝列数:2\n",
      "枠連列数:2\n",
      "複勝列数:4\n",
      "馬単列数:2\n",
      "馬単列数:2\n",
      "ワイド列数:5\n",
      "三連単列数:2\n",
      "三連複列数:2\n",
      "単勝列数:2\n",
      "枠連列数:2\n",
      "複勝列数:4\n",
      "馬単列数:2\n",
      "馬単列数:2\n",
      "ワイド列数:5\n",
      "三連単列数:2\n",
      "三連複列数:2\n",
      "Empty DataFrame\n",
      "Columns: [win_0, win_1, return_0, return_1]\n",
      "Index: []\n"
     ]
    }
   ],
   "source": [
    "from src.preprocessing._return_processor import ReturnProcessor\n",
    "\n",
    "\n",
    "rt = ReturnProcessor(\"./data/html/race_return/return_tables.pkl\")\n",
    "data = rt._preprocess()\n",
    "# キーが\"tansho\"の要素を取得\n",
    "value1 = data.get(\"tansho\")\n",
    "value2 = data.get(\"wakuren\")\n",
    "# non_numeric = value[value.apply(lambda row: any(isinstance(cell, str) and not cell.isdigit() for cell in row), axis=1)]\n",
    "# br_counts = non_numeric.apply(lambda row: sum(cell.count(\"br\") for cell in row if isinstance(cell, str)))\n",
    "\n",
    "result = value1[~value1.index.isin(value2.index)]\n",
    "# print(value[\"br_count\"].value_counts())\n",
    "print(value2[value2.index==202305040402])"
   ]
  },
  {
   "cell_type": "code",
   "execution_count": 197,
   "metadata": {},
   "outputs": [
    {
     "name": "stdout",
     "output_type": "stream",
     "text": [
      "単勝列数:2\n",
      "枠連列数:2\n",
      "複勝列数:4\n",
      "馬単列数:2\n",
      "馬単列数:2\n",
      "ワイド列数:5\n",
      "三連単列数:2\n",
      "三連複列数:2\n",
      "単勝列数:2\n",
      "枠連列数:2\n",
      "複勝列数:4\n",
      "馬単列数:2\n",
      "馬単列数:2\n",
      "ワイド列数:5\n",
      "三連単列数:2\n",
      "三連複列数:2\n"
     ]
    }
   ],
   "source": [
    "from src.preprocessing._return_processor import ReturnProcessor\n",
    "\n",
    "\n",
    "rt = ReturnProcessor(\"./data/html/race_return/return_tables.pkl\")\n",
    "\n",
    "return_ = rt._preprocess()\n"
   ]
  },
  {
   "cell_type": "code",
   "execution_count": 222,
   "metadata": {},
   "outputs": [
    {
     "name": "stdout",
     "output_type": "stream",
     "text": [
      "15412\n",
      "              枠番  馬番    斤量    単勝 horse_id jockey_id trainer_id owner_id  年齢  \\\n",
      "race_id                                                                       \n",
      "202308020102   8  15  56.0   3.2     9942        79        101       18   2   \n",
      "202308020102   7  13  56.0  22.2     8685        77        175       71   2   \n",
      "202308020102   2   4  56.0  17.9     9269        66        141       49   2   \n",
      "202308020102   7  14  56.0   8.6     9715        76        195     1183   2   \n",
      "202308020102   6  12  53.0  57.4     8712        34        101       33   2   \n",
      "...           ..  ..   ...   ...      ...       ...        ...      ...  ..   \n",
      "202405010212   8  10  58.0  40.6      172        33         41      114   5   \n",
      "202405010212   7   9  57.0  16.4     4460         4        109      135   4   \n",
      "202405010212   1   1  57.0  96.9     4794        97        176       45   4   \n",
      "202405010212   7   8  58.0  33.6     1549         1        163       67   6   \n",
      "202405010212   8  11  58.0  11.5     6507       174        161       51   6   \n",
      "\n",
      "               体重  ...  開催__79  開催__80  開催__81  開催__82  開催__83  開催__84  \\\n",
      "race_id            ...                                                   \n",
      "202308020102  492  ...   False   False   False   False   False   False   \n",
      "202308020102  506  ...   False   False   False   False   False   False   \n",
      "202308020102  466  ...   False   False   False   False   False   False   \n",
      "202308020102  482  ...   False   False   False   False   False   False   \n",
      "202308020102  488  ...   False   False   False   False   False   False   \n",
      "...           ...  ...     ...     ...     ...     ...     ...     ...   \n",
      "202405010212  474  ...   False   False   False   False   False   False   \n",
      "202405010212  504  ...   False   False   False   False   False   False   \n",
      "202405010212  468  ...   False   False   False   False   False   False   \n",
      "202405010212  482  ...   False   False   False   False   False   False   \n",
      "202405010212  458  ...   False   False   False   False   False   False   \n",
      "\n",
      "              開催__85  開催__86  開催__87  開催__88  \n",
      "race_id                                       \n",
      "202308020102   False   False   False   False  \n",
      "202308020102   False   False   False   False  \n",
      "202308020102   False   False   False   False  \n",
      "202308020102   False   False   False   False  \n",
      "202308020102   False   False   False   False  \n",
      "...              ...     ...     ...     ...  \n",
      "202405010212   False   False   False   False  \n",
      "202405010212   False   False   False   False  \n",
      "202405010212   False   False   False   False  \n",
      "202405010212   False   False   False   False  \n",
      "202405010212   False   False   False   False  \n",
      "\n",
      "[15412 rows x 297 columns]\n",
      "              枠番  馬番    斤量     単勝 horse_id jockey_id trainer_id owner_id  年齢  \\\n",
      "race_id                                                                        \n",
      "202305040402   3   3  56.0    3.5     9237        33         17      143   2   \n",
      "202305040402   2   2  56.0    2.8     8191        31         50      409   2   \n",
      "202305040402   5   5  56.0    2.4     9462        42         65       45   2   \n",
      "202305040402   6   6  55.0   83.1    10044         2         26       45   2   \n",
      "202305040402   1   1  56.0    8.8     9641        97        178      503   2   \n",
      "202305040402   4   4  55.0   64.3     8326        26         63      105   2   \n",
      "202305040402   7   7  52.0  148.2     9893       151        163      370   2   \n",
      "\n",
      "               体重  ...  開催__79  開催__80  開催__81  開催__82  開催__83  開催__84  \\\n",
      "race_id            ...                                                   \n",
      "202305040402  436  ...   False   False   False   False   False   False   \n",
      "202305040402  476  ...   False   False   False   False   False   False   \n",
      "202305040402  472  ...   False   False   False   False   False   False   \n",
      "202305040402  448  ...   False   False   False   False   False   False   \n",
      "202305040402  516  ...   False   False   False   False   False   False   \n",
      "202305040402  460  ...   False   False   False   False   False   False   \n",
      "202305040402  432  ...   False   False   False   False   False   False   \n",
      "\n",
      "              開催__85  開催__86  開催__87  開催__88  \n",
      "race_id                                       \n",
      "202305040402   False   False   False   False  \n",
      "202305040402   False   False   False   False  \n",
      "202305040402   False   False   False   False  \n",
      "202305040402   False   False   False   False  \n",
      "202305040402   False   False   False   False  \n",
      "202305040402   False   False   False   False  \n",
      "202305040402   False   False   False   False  \n",
      "\n",
      "[7 rows x 297 columns]\n",
      "              馬番  枠番     score  wakuban_flag\n",
      "race_id                                     \n",
      "202308020102  15   8  0.254999             1\n",
      "202308020102  13   7  0.223722             1\n",
      "202308020102   4   2  0.400869             1\n",
      "202308020102  14   7  0.302594             1\n",
      "202308020102  12   6  0.107413             1\n",
      "...           ..  ..       ...           ...\n",
      "202405010212  10   8  0.193447             1\n",
      "202405010212   9   7  0.418398             1\n",
      "202405010212   1   1  0.168512             1\n",
      "202405010212   8   7  0.205507             1\n",
      "202405010212  11   8  0.265782             1\n",
      "\n",
      "[15412 rows x 4 columns]\n"
     ]
    }
   ],
   "source": [
    "from src.policies._score_policy import BasicScorePolicy\n",
    "\n",
    "print(len(keiba_ai.datasets.X_test))\n",
    "print(keiba_ai.datasets.X_test)\n",
    "print(keiba_ai.datasets.X_test[keiba_ai.datasets.X_test.index == 202305040402])\n",
    "# スコアテーブルを取得\n",
    "score_table = keiba_ai.calc_score(keiba_ai.datasets.X_test, BasicScorePolicy)\n",
    "print(score_table)"
   ]
  },
  {
   "cell_type": "markdown",
   "metadata": {},
   "source": [
    "## 5.1. 単一threshold"
   ]
  },
  {
   "cell_type": "markdown",
   "metadata": {},
   "source": [
    "### 5.1.1 単勝馬券"
   ]
  },
  {
   "cell_type": "code",
   "execution_count": 223,
   "metadata": {},
   "outputs": [
    {
     "data": {
      "application/vnd.jupyter.widget-view+json": {
       "model_id": "d7a4a0b90f9c4426a9cfc0df03dab51c",
       "version_major": 2,
       "version_minor": 0
      },
      "text/plain": [
       "  0%|          | 0/100 [00:00<?, ?it/s]"
      ]
     },
     "metadata": {},
     "output_type": "display_data"
    },
    {
     "name": "stdout",
     "output_type": "stream",
     "text": [
      "returns_df:           n_bets  n_races  n_hits  total_bet_amount  return_rate       std\n",
      "threshold                                                                  \n",
      "0.005       15412     1123    1123             15412     0.628724  0.028693\n",
      "0.035       15407     1123    1123             15407     0.628928  0.028703\n",
      "0.065       14516     1123    1119             14516     0.652645  0.029575\n",
      "0.095       13053     1123    1098             13053     0.677545  0.030533\n",
      "0.125       11900     1123    1074             11900     0.701824  0.030826\n"
     ]
    }
   ],
   "source": [
    "from src.policies._bet_policy import BetPolicyTansho\n",
    "\n",
    "T_RANGE = [0.5, 3.5]\n",
    "N_SAMPLES = 100\n",
    "returns = {}\n",
    "\n",
    "# 「馬の勝ちやすさスコア」の閾値を変化させた時の成績を計算\n",
    "for i in tqdm(range(N_SAMPLES)):\n",
    "    # T_RANGEの範囲を、N_SAMPLES等分して、thresholdをfor分で回す\n",
    "    threshold = T_RANGE[1] * i / N_SAMPLES + T_RANGE[0] * (1 - i) / N_SAMPLES\n",
    "    # print(f\"threshold:{threshold}\")\n",
    "    try:\n",
    "        # 賭ける馬券を決定\n",
    "\n",
    "        actions = keiba_ai.decide_action(\n",
    "            score_table,  # スコアテーブル\n",
    "            BetPolicyTansho,  # 賭け方の方針\n",
    "            threshold=threshold,  # 「馬の勝ちやすさスコア」の閾値\n",
    "        )\n",
    "        #print(f\"actions{actions}\")\n",
    "        returns[threshold] = simulator.calc_returns(actions)\n",
    "\n",
    "    except Exception as e:\n",
    "        print(e)\n",
    "        break\n",
    "returns_df = pd.DataFrame.from_dict(returns, orient=\"index\")\n",
    "\n",
    "returns_df.index.name = \"threshold\"\n",
    "print(f\"returns_df:{returns_df.head()}\")"
   ]
  },
  {
   "cell_type": "code",
   "execution_count": 224,
   "metadata": {},
   "outputs": [],
   "source": [
    "#シミュレーション結果も、models/に保存しておくとわかりやすい。\n",
    "returns_df.to_pickle('models/20240224/tansho.pickle')"
   ]
  },
  {
   "cell_type": "code",
   "execution_count": 225,
   "metadata": {},
   "outputs": [
    {
     "name": "stdout",
     "output_type": "stream",
     "text": [
      "df:           n_bets  n_races  n_hits  total_bet_amount  return_rate       std\n",
      "threshold                                                                  \n",
      "0.005       15412     1123    1123             15412     0.628724  0.028693\n",
      "0.035       15407     1123    1123             15407     0.628928  0.028703\n",
      "0.065       14516     1123    1119             14516     0.652645  0.029575\n",
      "0.095       13053     1123    1098             13053     0.677545  0.030533\n",
      "0.125       11900     1123    1074             11900     0.701824  0.030826\n"
     ]
    },
    {
     "data": {
      "image/png": "[encoded data removed]",
      "text/plain": [
       "<Figure size 640x480 with 1 Axes>"
      ]
     },
     "metadata": {},
     "output_type": "display_data"
    }
   ],
   "source": [
    "from src.simulation._plot import plot_single_threshold\n",
    "\n",
    "# 回収率をプロット\n",
    "plot_single_threshold(returns_df, N_SAMPLES, label=\"tansho\")"
   ]
  },
  {
   "cell_type": "markdown",
   "metadata": {},
   "source": [
    "### 5.1.2 複勝馬券"
   ]
  },
  {
   "cell_type": "code",
   "execution_count": 226,
   "metadata": {},
   "outputs": [
    {
     "data": {
      "application/vnd.jupyter.widget-view+json": {
       "model_id": "6668019da0324f6486ab3188a7a53821",
       "version_major": 2,
       "version_minor": 0
      },
      "text/plain": [
       "  0%|          | 0/100 [00:00<?, ?it/s]"
      ]
     },
     "metadata": {},
     "output_type": "display_data"
    },
    {
     "name": "stdout",
     "output_type": "stream",
     "text": [
      "returns_df:           n_bets  n_races  n_hits  total_bet_amount  return_rate       std\n",
      "threshold                                                                  \n",
      "0.005       15412     1123    1123             15412     0.704977  0.016396\n",
      "0.035       15407     1123    1123             15407     0.705205  0.016402\n",
      "0.065       14516     1123    1123             14516     0.721714  0.015966\n",
      "0.095       13053     1123    1123             13053     0.738229  0.015831\n",
      "0.125       11900     1123    1123             11900     0.751193  0.016144\n"
     ]
    }
   ],
   "source": [
    "from src.policies._bet_policy import BetPolicyFukusho\n",
    "\n",
    "T_RANGE = [0.5, 3.5]\n",
    "N_SAMPLES = 100\n",
    "returns = {}\n",
    "\n",
    "# 「馬の勝ちやすさスコア」の閾値を変化させた時の成績を計算\n",
    "for i in tqdm(range(N_SAMPLES)):\n",
    "    # T_RANGEの範囲を、N_SAMPLES等分して、thresholdをfor分で回す\n",
    "    threshold = T_RANGE[1] * i / N_SAMPLES + T_RANGE[0] * (1 - i) / N_SAMPLES\n",
    "    try:\n",
    "        # 賭ける馬券を決定\n",
    "        actions = keiba_ai.decide_action(\n",
    "            score_table,  # スコアテーブル\n",
    "            BetPolicyFukusho,  # 賭け方の方針\n",
    "            threshold=threshold,  # 「馬の勝ちやすさスコア」の閾値\n",
    "        )\n",
    "        #print(f\"actions{actions}\")\n",
    "        returns[threshold] = simulator.calc_returns(actions)\n",
    "    except Exception as e:\n",
    "        print(e)\n",
    "        break\n",
    "returns_df = pd.DataFrame.from_dict(returns, orient=\"index\")\n",
    "returns_df.index.name = \"threshold\"\n",
    "print(f\"returns_df:{returns_df.head()}\")"
   ]
  },
  {
   "cell_type": "code",
   "execution_count": 227,
   "metadata": {},
   "outputs": [],
   "source": [
    "# シミュレーション結果も、models/YYYYMMDD/に保存しておくとわかりやすい。\n",
    "returns_df.to_pickle('models/20240224/fukusho.pickle')"
   ]
  },
  {
   "cell_type": "code",
   "execution_count": 228,
   "metadata": {},
   "outputs": [
    {
     "name": "stdout",
     "output_type": "stream",
     "text": [
      "df:           n_bets  n_races  n_hits  total_bet_amount  return_rate       std\n",
      "threshold                                                                  \n",
      "0.005       15412     1123    1123             15412     0.704977  0.016396\n",
      "0.035       15407     1123    1123             15407     0.705205  0.016402\n",
      "0.065       14516     1123    1123             14516     0.721714  0.015966\n",
      "0.095       13053     1123    1123             13053     0.738229  0.015831\n",
      "0.125       11900     1123    1123             11900     0.751193  0.016144\n"
     ]
    },
    {
     "data": {
      "image/png": "[encoded data removed]",
      "text/plain": [
       "<Figure size 640x480 with 1 Axes>"
      ]
     },
     "metadata": {},
     "output_type": "display_data"
    }
   ],
   "source": [
    "from src.simulation._plot import plot_single_threshold\n",
    "\n",
    "# 回収率をプロット\n",
    "plot_single_threshold(returns_df, N_SAMPLES, label=\"fukusho\")"
   ]
  },
  {
   "cell_type": "code",
   "execution_count": 229,
   "metadata": {},
   "outputs": [
    {
     "data": {
      "application/vnd.jupyter.widget-view+json": {
       "model_id": "2536291ec76c48189f8c376e8ad19a53",
       "version_major": 2,
       "version_minor": 0
      },
      "text/plain": [
       "  0%|          | 0/100 [00:00<?, ?it/s]"
      ]
     },
     "metadata": {},
     "output_type": "display_data"
    },
    {
     "name": "stdout",
     "output_type": "stream",
     "text": [
      "returns_df:           n_bets  n_races  n_hits  total_bet_amount  return_rate       std\n",
      "threshold                                                                  \n",
      "0.50          601      118      46               601     0.394842  0.058948\n",
      "0.53          283       69      22               283     0.350177  0.076031\n",
      "0.56          110       28      12               110     0.447273  0.135375\n",
      "0.59            6        2       0                 6     0.000000  0.000000\n"
     ]
    }
   ],
   "source": [
    "from src.policies._bet_policy import BetPolicyWakurenBox\n",
    "\n",
    "T_RANGE = [0.5, 3.5]\n",
    "N_SAMPLES = 100\n",
    "returns = {}\n",
    "\n",
    "# 「馬の勝ちやすさスコア」の閾値を変化させた時の成績を計算\n",
    "for i in tqdm(range(N_SAMPLES)):\n",
    "    # T_RANGEの範囲を、N_SAMPLES等分して、thresholdをfor分で回す\n",
    "    threshold = T_RANGE[1] * i / N_SAMPLES + T_RANGE[0] * (1 - (i / N_SAMPLES))\n",
    "    #print(f\"threshold:{threshold}\")\n",
    "    try:\n",
    "        # 賭ける馬券を決定\n",
    "        actions = keiba_ai.decide_action(\n",
    "            score_table,  # スコアテーブル\n",
    "            BetPolicyWakurenBox,  # 賭け方の方針\n",
    "            threshold=threshold,  # 「馬の勝ちやすさスコア」の閾値\n",
    "        )\n",
    "        #print(f\"actions{actions}\\n\")\n",
    "        returns[threshold] = simulator.calc_returns(actions)\n",
    "        #print(f\"returns:{returns}\")\n",
    "    except Exception as e:\n",
    "        print(e)\n",
    "        break\n",
    "returns_df = pd.DataFrame.from_dict(returns, orient=\"index\")\n",
    "returns_df.index.name = \"threshold\"\n",
    "print(f\"returns_df:{returns_df.head()}\")"
   ]
  },
  {
   "cell_type": "code",
   "execution_count": 230,
   "metadata": {},
   "outputs": [],
   "source": [
    "# シミュレーション結果も、models/YYYYMMDD/に保存しておくとわかりやすい。\n",
    "returns_df.to_pickle(\"models/20240224/wakuren.pickle\")"
   ]
  },
  {
   "cell_type": "code",
   "execution_count": 231,
   "metadata": {},
   "outputs": [
    {
     "name": "stdout",
     "output_type": "stream",
     "text": [
      "df:           n_bets  n_races  n_hits  total_bet_amount  return_rate       std\n",
      "threshold                                                                  \n",
      "0.50          601      118      46               601     0.394842  0.058948\n",
      "0.53          283       69      22               283     0.350177  0.076031\n",
      "0.56          110       28      12               110     0.447273  0.135375\n",
      "0.59            6        2       0                 6     0.000000  0.000000\n"
     ]
    },
    {
     "data": {
      "image/png": "[encoded data removed]",
      "text/plain": [
       "<Figure size 640x480 with 1 Axes>"
      ]
     },
     "metadata": {},
     "output_type": "display_data"
    }
   ],
   "source": [
    "from src.simulation._plot import plot_single_threshold\n",
    "\n",
    "# 回収率をプロット\n",
    "plot_single_threshold(returns_df, N_SAMPLES, label=\"wakuren\")"
   ]
  },
  {
   "cell_type": "markdown",
   "metadata": {},
   "source": [
    "### 5.1.3 馬連BOX"
   ]
  },
  {
   "cell_type": "code",
   "execution_count": 232,
   "metadata": {},
   "outputs": [
    {
     "data": {
      "application/vnd.jupyter.widget-view+json": {
       "model_id": "c03a94bafe77456f94278d276080842c",
       "version_major": 2,
       "version_minor": 0
      },
      "text/plain": [
       "  0%|          | 0/100 [00:00<?, ?it/s]"
      ]
     },
     "metadata": {},
     "output_type": "display_data"
    },
    {
     "name": "stdout",
     "output_type": "stream",
     "text": [
      "returns_df:           n_bets  n_races  n_hits  total_bet_amount  return_rate       std\n",
      "threshold                                                                  \n",
      "0.50        360.0      127      23             360.0     0.431111  0.120989\n",
      "0.53        148.0       74      12             148.0     0.441216  0.172220\n",
      "0.56         53.0       31       7              53.0     0.896226  0.450994\n",
      "0.59          2.0        2       0               2.0     0.000000  0.000000\n"
     ]
    }
   ],
   "source": [
    "from src.policies._bet_policy import BetPolicyUmarenBox\n",
    "\n",
    "T_RANGE = [0.5, 3.5]\n",
    "N_SAMPLES = 100\n",
    "returns = {}\n",
    "\n",
    "# 「馬の勝ちやすさスコア」の閾値を変化させた時の成績を計算\n",
    "for i in tqdm(range(N_SAMPLES)):\n",
    "    # T_RANGEの範囲を、N_SAMPLES等分して、thresholdをfor分で回す\n",
    "    threshold = T_RANGE[1] * i / N_SAMPLES + T_RANGE[0] * (1 - (i / N_SAMPLES))\n",
    "    # print(f\"threshold:{threshold}\")\n",
    "    try:\n",
    "        # 賭ける馬券を決定\n",
    "        actions = keiba_ai.decide_action(\n",
    "            score_table,  # スコアテーブル\n",
    "            BetPolicyUmarenBox,  # 賭け方の方針\n",
    "            threshold=threshold,  # 「馬の勝ちやすさスコア」の閾値\n",
    "        )\n",
    "        #print(f\"actions{actions}\\n\")\n",
    "        returns[threshold] = simulator.calc_returns(actions)\n",
    "        #print(f\"returns:{returns}\")\n",
    "    except Exception as e:\n",
    "        print(e)\n",
    "        break\n",
    "returns_df = pd.DataFrame.from_dict(returns, orient=\"index\")\n",
    "returns_df.index.name = \"threshold\"\n",
    "print(f\"returns_df:{returns_df.head()}\")"
   ]
  },
  {
   "cell_type": "code",
   "execution_count": 233,
   "metadata": {},
   "outputs": [],
   "source": [
    "\n",
    "\n",
    "# シミュレーション結果も、models/YYYYMMDD/に保存しておくとわかりやすい。\n",
    "returns_df.to_pickle(\"models/20240224/umarenbox.pickle\")"
   ]
  },
  {
   "cell_type": "code",
   "execution_count": 234,
   "metadata": {},
   "outputs": [
    {
     "name": "stdout",
     "output_type": "stream",
     "text": [
      "df:           n_bets  n_races  n_hits  total_bet_amount  return_rate       std\n",
      "threshold                                                                  \n",
      "0.50        360.0      127      23             360.0     0.431111  0.120989\n",
      "0.53        148.0       74      12             148.0     0.441216  0.172220\n",
      "0.56         53.0       31       7              53.0     0.896226  0.450994\n",
      "0.59          2.0        2       0               2.0     0.000000  0.000000\n"
     ]
    },
    {
     "data": {
      "image/png": "[encoded data removed]",
      "text/plain": [
       "<Figure size 640x480 with 1 Axes>"
      ]
     },
     "metadata": {},
     "output_type": "display_data"
    }
   ],
   "source": [
    "from src.simulation._plot import plot_single_threshold\n",
    "\n",
    "# 回収率をプロット\n",
    "plot_single_threshold(returns_df, N_SAMPLES, label=\"umarenbox\")"
   ]
  },
  {
   "cell_type": "markdown",
   "metadata": {},
   "source": [
    "### 5.1.4 馬単BOX"
   ]
  },
  {
   "cell_type": "code",
   "execution_count": 235,
   "metadata": {},
   "outputs": [
    {
     "data": {
      "application/vnd.jupyter.widget-view+json": {
       "model_id": "be17d0a8d33346209de9ecec9b58ccc0",
       "version_major": 2,
       "version_minor": 0
      },
      "text/plain": [
       "  0%|          | 0/100 [00:00<?, ?it/s]"
      ]
     },
     "metadata": {},
     "output_type": "display_data"
    },
    {
     "name": "stdout",
     "output_type": "stream",
     "text": [
      "returns_df:           n_bets  n_races  n_hits  total_bet_amount  return_rate       std\n",
      "threshold                                                                  \n",
      "0.50          720      127      42               720     0.832778  0.178311\n",
      "0.53          296       74      20               296     0.687838  0.183093\n",
      "0.56          106       31      11               106     1.133962  0.431735\n",
      "0.59            4        2       0                 4     0.000000  0.000000\n"
     ]
    }
   ],
   "source": [
    "from src.policies._bet_policy import BetPolicyUmatanBox\n",
    "\n",
    "T_RANGE = [0.5, 3.5]\n",
    "N_SAMPLES = 100\n",
    "returns = {}\n",
    "\n",
    "# 「馬の勝ちやすさスコア」の閾値を変化させた時の成績を計算\n",
    "for i in tqdm(range(N_SAMPLES)):\n",
    "    # T_RANGEの範囲を、N_SAMPLES等分して、thresholdをfor分で回す\n",
    "    threshold = T_RANGE[1] * i / N_SAMPLES + T_RANGE[0] * (1 - (i / N_SAMPLES))\n",
    "    # print(f\"threshold:{threshold}\")\n",
    "    try:\n",
    "        # 賭ける馬券を決定\n",
    "        actions = keiba_ai.decide_action(\n",
    "            score_table,  # スコアテーブル\n",
    "            BetPolicyUmatanBox,  # 賭け方の方針\n",
    "            threshold=threshold,  # 「馬の勝ちやすさスコア」の閾値\n",
    "        )\n",
    "        #print(f\"actions{actions}\\n\")\n",
    "        returns[threshold] = simulator.calc_returns(actions)\n",
    "        #print(f\"returns:{returns}\")\n",
    "    except Exception as e:\n",
    "        print(e)\n",
    "        break\n",
    "returns_df = pd.DataFrame.from_dict(returns, orient=\"index\")\n",
    "returns_df.index.name = \"threshold\"\n",
    "print(f\"returns_df:{returns_df.head()}\")"
   ]
  },
  {
   "cell_type": "code",
   "execution_count": 236,
   "metadata": {},
   "outputs": [],
   "source": [
    "# シミュレーション結果も、models/YYYYMMDD/に保存しておくとわかりやすい。\n",
    "returns_df.to_pickle('models/20240224/umatanbox.pickle')"
   ]
  },
  {
   "cell_type": "code",
   "execution_count": 237,
   "metadata": {},
   "outputs": [
    {
     "name": "stdout",
     "output_type": "stream",
     "text": [
      "df:           n_bets  n_races  n_hits  total_bet_amount  return_rate       std\n",
      "threshold                                                                  \n",
      "0.50          720      127      42               720     0.832778  0.178311\n",
      "0.53          296       74      20               296     0.687838  0.183093\n",
      "0.56          106       31      11               106     1.133962  0.431735\n",
      "0.59            4        2       0                 4     0.000000  0.000000\n"
     ]
    },
    {
     "data": {
      "image/png": "[encoded data removed]",
      "text/plain": [
       "<Figure size 640x480 with 1 Axes>"
      ]
     },
     "metadata": {},
     "output_type": "display_data"
    }
   ],
   "source": [
    "from src.simulation._plot import plot_single_threshold\n",
    "\n",
    "# 回収率をプロット\n",
    "plot_single_threshold(returns_df, N_SAMPLES, label=\"umatanbox\")"
   ]
  },
  {
   "cell_type": "markdown",
   "metadata": {},
   "source": [
    "### 5.1.5 ワイドBOX"
   ]
  },
  {
   "cell_type": "code",
   "execution_count": 238,
   "metadata": {},
   "outputs": [
    {
     "data": {
      "application/vnd.jupyter.widget-view+json": {
       "model_id": "56c6e32b881b4413bc5470c71830f1a0",
       "version_major": 2,
       "version_minor": 0
      },
      "text/plain": [
       "  0%|          | 0/100 [00:00<?, ?it/s]"
      ]
     },
     "metadata": {},
     "output_type": "display_data"
    },
    {
     "name": "stdout",
     "output_type": "stream",
     "text": [
      "returns_df:           n_bets  n_races  n_hits  total_bet_amount  return_rate       std\n",
      "threshold                                                                  \n",
      "0.50        360.0      127      46             360.0     0.410833  0.064333\n",
      "0.53        148.0       74      20             148.0     0.377027  0.093248\n",
      "0.56         53.0       31      11              53.0     0.620755  0.219534\n",
      "0.59          2.0        2       0               2.0     0.000000  0.000000\n"
     ]
    }
   ],
   "source": [
    "from src.policies._bet_policy import BetPolicyWideBox\n",
    "\n",
    "T_RANGE = [0.5, 3.5]\n",
    "N_SAMPLES = 100\n",
    "returns = {}\n",
    "\n",
    "# 「馬の勝ちやすさスコア」の閾値を変化させた時の成績を計算\n",
    "for i in tqdm(range(N_SAMPLES)):\n",
    "    # T_RANGEの範囲を、N_SAMPLES等分して、thresholdをfor分で回す\n",
    "    threshold = T_RANGE[1] * i / N_SAMPLES + T_RANGE[0] * (1 - (i / N_SAMPLES))\n",
    "    try:\n",
    "        # 賭ける馬券を決定\n",
    "        actions = keiba_ai.decide_action(\n",
    "            score_table,  # スコアテーブル\n",
    "            BetPolicyWideBox,  # 賭け方の方針\n",
    "            threshold=threshold,  # 「馬の勝ちやすさスコア」の閾値\n",
    "        )\n",
    "        #print(f\"actions{actions}\\n\")\n",
    "        returns[threshold] = simulator.calc_returns(actions)\n",
    "        #print(f\"returns:{returns}\")\n",
    "    except Exception as e:\n",
    "        print(e)\n",
    "        break\n",
    "returns_df = pd.DataFrame.from_dict(returns, orient=\"index\")\n",
    "returns_df.index.name = \"threshold\"\n",
    "print(f\"returns_df:{returns_df.head()}\")"
   ]
  },
  {
   "cell_type": "code",
   "execution_count": 239,
   "metadata": {},
   "outputs": [],
   "source": [
    "# シミュレーション結果も、models/YYYYMMDD/に保存しておくとわかりやすい。\n",
    "returns_df.to_pickle('models/20240224/widebox.pickle')"
   ]
  },
  {
   "cell_type": "code",
   "execution_count": 240,
   "metadata": {},
   "outputs": [
    {
     "name": "stdout",
     "output_type": "stream",
     "text": [
      "df:           n_bets  n_races  n_hits  total_bet_amount  return_rate       std\n",
      "threshold                                                                  \n",
      "0.50        360.0      127      46             360.0     0.410833  0.064333\n",
      "0.53        148.0       74      20             148.0     0.377027  0.093248\n",
      "0.56         53.0       31      11              53.0     0.620755  0.219534\n",
      "0.59          2.0        2       0               2.0     0.000000  0.000000\n"
     ]
    },
    {
     "data": {
      "image/png": "[encoded data removed]",
      "text/plain": [
       "<Figure size 640x480 with 1 Axes>"
      ]
     },
     "metadata": {},
     "output_type": "display_data"
    }
   ],
   "source": [
    "from src.simulation._plot import plot_single_threshold\n",
    "\n",
    "# 回収率をプロット\n",
    "plot_single_threshold(returns_df, N_SAMPLES, label=\"widebox\")"
   ]
  },
  {
   "cell_type": "markdown",
   "metadata": {},
   "source": [
    "### 5.1.6 三連複BOX"
   ]
  },
  {
   "cell_type": "code",
   "execution_count": 241,
   "metadata": {},
   "outputs": [
    {
     "data": {
      "application/vnd.jupyter.widget-view+json": {
       "model_id": "430e9608b8754e7cb66c7b5551071137",
       "version_major": 2,
       "version_minor": 0
      },
      "text/plain": [
       "  0%|          | 0/100 [00:00<?, ?it/s]"
      ]
     },
     "metadata": {},
     "output_type": "display_data"
    },
    {
     "name": "stdout",
     "output_type": "stream",
     "text": [
      "returns_df:           n_bets  n_races  n_hits  total_bet_amount  return_rate       std\n",
      "threshold                                                                  \n",
      "0.50        194.0       68       1             194.0     0.023196  0.023196\n",
      "0.53         50.0       26       1              50.0     0.090000  0.090000\n",
      "0.56         14.0        8       1              14.0     0.321429  0.321429\n"
     ]
    }
   ],
   "source": [
    "from src.policies._bet_policy import BetPolicySanrenpukuBox\n",
    "\n",
    "T_RANGE = [0.5, 3.5]\n",
    "N_SAMPLES = 100\n",
    "returns = {}\n",
    "\n",
    "# 「馬の勝ちやすさスコア」の閾値を変化させた時の成績を計算\n",
    "for i in tqdm(range(N_SAMPLES)):\n",
    "    # T_RANGEの範囲を、N_SAMPLES等分して、thresholdをfor分で回す\n",
    "    threshold = T_RANGE[1] * i / N_SAMPLES + T_RANGE[0] * (1 - (i / N_SAMPLES))\n",
    "    try:\n",
    "        # 賭ける馬券を決定\n",
    "        actions = keiba_ai.decide_action(\n",
    "            score_table,  # スコアテーブル\n",
    "            BetPolicySanrenpukuBox,  # 賭け方の方針\n",
    "            threshold=threshold,  # 「馬の勝ちやすさスコア」の閾値\n",
    "        )\n",
    "        #print(f\"actions{actions}\\n\")\n",
    "        returns[threshold] = simulator.calc_returns(actions)\n",
    "        #print(f\"returns:{returns}\")\n",
    "    except Exception as e:\n",
    "        print(e)\n",
    "        break\n",
    "returns_df = pd.DataFrame.from_dict(returns, orient=\"index\")\n",
    "returns_df.index.name = \"threshold\"\n",
    "print(f\"returns_df:{returns_df.head()}\")"
   ]
  },
  {
   "cell_type": "code",
   "execution_count": 242,
   "metadata": {},
   "outputs": [],
   "source": [
    "# シミュレーション結果も、models/YYYYMMDD/に保存しておくとわかりやすい。\n",
    "returns_df.to_pickle('models/20240224/sanrenpukubox.pickle')"
   ]
  },
  {
   "cell_type": "code",
   "execution_count": 243,
   "metadata": {},
   "outputs": [
    {
     "name": "stdout",
     "output_type": "stream",
     "text": [
      "df:           n_bets  n_races  n_hits  total_bet_amount  return_rate       std\n",
      "threshold                                                                  \n",
      "0.50        194.0       68       1             194.0     0.023196  0.023196\n",
      "0.53         50.0       26       1              50.0     0.090000  0.090000\n",
      "0.56         14.0        8       1              14.0     0.321429  0.321429\n"
     ]
    },
    {
     "data": {
      "image/png": "[encoded data removed]",
      "text/plain": [
       "<Figure size 640x480 with 1 Axes>"
      ]
     },
     "metadata": {},
     "output_type": "display_data"
    }
   ],
   "source": [
    "from src.simulation._plot import plot_single_threshold\n",
    "\n",
    "# 回収率をプロット\n",
    "plot_single_threshold(returns_df, N_SAMPLES, label=\"sanrenpukubox\")"
   ]
  },
  {
   "cell_type": "markdown",
   "metadata": {},
   "source": [
    "### 5.1.7 三連単BOX"
   ]
  },
  {
   "cell_type": "code",
   "execution_count": 244,
   "metadata": {},
   "outputs": [
    {
     "data": {
      "application/vnd.jupyter.widget-view+json": {
       "model_id": "854645336dee40469c5edfb95099e89e",
       "version_major": 2,
       "version_minor": 0
      },
      "text/plain": [
       "  0%|          | 0/100 [00:00<?, ?it/s]"
      ]
     },
     "metadata": {},
     "output_type": "display_data"
    },
    {
     "name": "stdout",
     "output_type": "stream",
     "text": [
      "returns_df:           n_bets  n_races  n_hits  total_bet_amount  return_rate       std\n",
      "threshold                                                                  \n",
      "0.50         1164       68      11              1164     0.557646  0.232523\n",
      "0.53          300       26       5               300     0.632667  0.280212\n",
      "0.56           84        8       2                84     0.935714  0.615270\n"
     ]
    }
   ],
   "source": [
    "from src.policies._bet_policy import BetPolicySanrentanBox\n",
    "\n",
    "T_RANGE = [0.5, 3.5]\n",
    "N_SAMPLES = 100\n",
    "returns = {}\n",
    "\n",
    "# 「馬の勝ちやすさスコア」の閾値を変化させた時の成績を計算\n",
    "for i in tqdm(range(N_SAMPLES)):\n",
    "    # T_RANGEの範囲を、N_SAMPLES等分して、thresholdをfor分で回す\n",
    "    threshold = T_RANGE[1] * i / N_SAMPLES + T_RANGE[0] * (1 - (i / N_SAMPLES))\n",
    "    try:\n",
    "        # 賭ける馬券を決定\n",
    "        actions = keiba_ai.decide_action(\n",
    "            score_table,  # スコアテーブル\n",
    "            BetPolicySanrentanBox,  # 賭け方の方針\n",
    "            threshold=threshold,  # 「馬の勝ちやすさスコア」の閾値\n",
    "        )\n",
    "        #print(f\"actions{actions}\\n\")\n",
    "        returns[threshold] = simulator.calc_returns(actions)\n",
    "        #print(f\"returns:{returns}\")\n",
    "    except Exception as e:\n",
    "        print(e)\n",
    "        break\n",
    "returns_df = pd.DataFrame.from_dict(returns, orient=\"index\")\n",
    "returns_df.index.name = \"threshold\"\n",
    "print(f\"returns_df:{returns_df.head()}\")"
   ]
  },
  {
   "cell_type": "code",
   "execution_count": 245,
   "metadata": {},
   "outputs": [],
   "source": [
    "# シミュレーション結果も、models/YYYYMMDD/に保存しておくとわかりやすい。\n",
    "returns_df.to_pickle('models/20240224/sanrentanbox.pickle')"
   ]
  },
  {
   "cell_type": "code",
   "execution_count": 246,
   "metadata": {},
   "outputs": [
    {
     "name": "stdout",
     "output_type": "stream",
     "text": [
      "df:           n_bets  n_races  n_hits  total_bet_amount  return_rate       std\n",
      "threshold                                                                  \n",
      "0.50         1164       68      11              1164     0.557646  0.232523\n",
      "0.53          300       26       5               300     0.632667  0.280212\n",
      "0.56           84        8       2                84     0.935714  0.615270\n"
     ]
    },
    {
     "data": {
      "image/png": "[encoded data removed]",
      "text/plain": [
       "<Figure size 640x480 with 1 Axes>"
      ]
     },
     "metadata": {},
     "output_type": "display_data"
    }
   ],
   "source": [
    "from src.simulation._plot import plot_single_threshold\n",
    "\n",
    "#回収率をプロット\n",
    "plot_single_threshold(returns_df, N_SAMPLES, label=\"sanrentanbox\")"
   ]
  },
  {
   "cell_type": "markdown",
   "metadata": {},
   "source": [
    "## 5.2. 複数馬券\n",
    "未実装"
   ]
  },
  {
   "cell_type": "markdown",
   "metadata": {},
   "source": [
    "## 5.3. 複数threshold\n",
    "未実装だが、以下のようなコードになる予定。"
   ]
  },
  {
   "cell_type": "code",
   "execution_count": null,
   "metadata": {},
   "outputs": [
    {
     "data": {
      "application/vnd.jupyter.widget-view+json": {
       "model_id": "97b4c6588eca430fb740dc4c13defb45",
       "version_major": 2,
       "version_minor": 0
      },
      "text/plain": [
       "  0%|          | 0/10 [00:00<?, ?it/s]"
      ]
     },
     "metadata": {},
     "output_type": "display_data"
    }
   ],
   "source": [
    "from src.policies._bet_policy import BetPolicyTanshoFukusho\n",
    "\n",
    "T1_RANGE = [2.5, 3.5]\n",
    "MIN_T2 = 1\n",
    "N_SAMPLES = 10\n",
    "\n",
    "returns = {}\n",
    "# 「馬の勝ちやすさスコア」の閾値を変化させた時の成績を計算\n",
    "idx = 0\n",
    "for i in tqdm(range(N_SAMPLES)):\n",
    "    # T_RANGEの範囲を、N_SAMPLES等分して、thresholdをfor分で回す\n",
    "    threshold1 = T1_RANGE[1] * i / N_SAMPLES + T1_RANGE[0] * (1 - (i / N_SAMPLES))\n",
    "    for j in range(N_SAMPLES):\n",
    "        # MIN_T2からthreshold1までをN_SAMPLES等分\n",
    "        threshold2 = threshold1 * j / N_SAMPLES + MIN_T2 * (1 - (j / N_SAMPLES))\n",
    "        try:\n",
    "            # print(threshold1, threshold2)\n",
    "            # 賭ける馬券を決定\n",
    "            actions = keiba_ai.decide_action(\n",
    "                score_table,  # スコアテーブル\n",
    "                BetPolicyTanshoFukusho,  # 賭け方の方針(未実装)\n",
    "                threshold1=threshold1,  # 「馬の勝ちやすさスコア」の閾値\n",
    "                threshold2=threshold2,\n",
    "            )\n",
    "            returns[idx] = simulator.calc_returns(actions)\n",
    "            idx += 1\n",
    "        except Exception as e:\n",
    "            print(e)\n",
    "            break\n",
    "returns_df = pd.DataFrame.from_dict(returns, orient=\"index\")\n",
    "print(f\"returns_df:{returns_df.head()}\")"
   ]
  },
  {
   "cell_type": "code",
   "execution_count": null,
   "metadata": {},
   "outputs": [
    {
     "data": {
      "image/png": "[encoded data removed]",
      "text/plain": [
       "<Figure size 600x400 with 1 Axes>"
      ]
     },
     "metadata": {
      "needs_background": "light"
     },
     "output_type": "display_data"
    }
   ],
   "source": [
    "simulation.plot_single_threshold(returns_df.reset_index(), 100, label='tansho_fukusho')"
   ]
  },
  {
   "cell_type": "markdown",
   "metadata": {},
   "source": [
    "# 6. 当日の予想\n",
    "例として2022年1月8日のレースを実際に予想する場合を考える。  \n",
    "https://race.netkeiba.com/top/race_list.html?kaisai_date=20220108"
   ]
  },
  {
   "cell_type": "markdown",
   "metadata": {},
   "source": [
    "## 6.1. 前日準備"
   ]
  },
  {
   "cell_type": "code",
   "execution_count": null,
   "metadata": {},
   "outputs": [],
   "source": [
    "%autoreload"
   ]
  },
  {
   "cell_type": "code",
   "execution_count": null,
   "metadata": {},
   "outputs": [
    {
     "name": "stdout",
     "output_type": "stream",
     "text": [
      "getting race_id_list\n"
     ]
    },
    {
     "data": {
      "application/vnd.jupyter.widget-view+json": {
       "model_id": "efa0f2854cf343b5a973859baad12e2f",
       "version_major": 2,
       "version_minor": 0
      },
      "text/plain": [
       "  0%|          | 0/1 [00:00<?, ?it/s]"
      ]
     },
     "metadata": {},
     "output_type": "display_data"
    },
    {
     "name": "stdout",
     "output_type": "stream",
     "text": [
      "scraping: https://race.netkeiba.com/top/race_list.html?kaisai_date=20220108\n"
     ]
    },
    {
     "data": {
      "text/plain": [
       "24"
      ]
     },
     "execution_count": 21,
     "metadata": {},
     "output_type": "execute_result"
    }
   ],
   "source": [
    "race_id_list = preparing.scrape_race_id_list(['20220108']) #レースidを取得\n",
    "len(race_id_list)"
   ]
  },
  {
   "cell_type": "code",
   "execution_count": null,
   "metadata": {},
   "outputs": [
    {
     "name": "stdout",
     "output_type": "stream",
     "text": [
      "sraping horse_id_list\n"
     ]
    },
    {
     "data": {
      "application/vnd.jupyter.widget-view+json": {
       "model_id": "e0d14d85cba143f89be3e5f9149b3e4c",
       "version_major": 2,
       "version_minor": 0
      },
      "text/plain": [
       "  0%|          | 0/24 [00:00<?, ?it/s]"
      ]
     },
     "metadata": {},
     "output_type": "display_data"
    },
    {
     "data": {
      "text/plain": [
       "361"
      ]
     },
     "execution_count": 22,
     "metadata": {},
     "output_type": "execute_result"
    }
   ],
   "source": [
    "#出走するhorse_idの取得\n",
    "horse_id_list = preparing.scrape_horse_id_list(race_id_list)\n",
    "len(horse_id_list)"
   ]
  },
  {
   "cell_type": "code",
   "execution_count": null,
   "metadata": {},
   "outputs": [],
   "source": [
    "#horseページのhtmlをスクレイピング\n",
    "#直近レースが更新されている可能性があるので、skip=Falseにして上書きする\n",
    "html_files_horse = preparing.scrape_html_horse_with_master(horse_id_list, skip=False)"
   ]
  },
  {
   "cell_type": "code",
   "execution_count": null,
   "metadata": {},
   "outputs": [],
   "source": [
    "#horse_infoテーブルの更新\n",
    "horse_info_20220108 = preparing.get_rawdata_horse_info(html_files_horse)\n",
    "preparing.update_rawdata(LocalPaths.RAW_HORSE_INFO_PATH, horse_info_20220108)"
   ]
  },
  {
   "cell_type": "code",
   "execution_count": null,
   "metadata": {},
   "outputs": [],
   "source": [
    "#horse_resultsテーブルの更新\n",
    "horse_results_20220108 = preparing.get_rawdata_horse_results(html_files_horse)\n",
    "preparing.update_rawdata(LocalPaths.RAW_HORSE_RESULTS_PATH, horse_results_20220108)"
   ]
  },
  {
   "cell_type": "code",
   "execution_count": null,
   "metadata": {},
   "outputs": [],
   "source": [
    "#pedsテーブルの更新\n",
    "html_files_peds = preparing.scrape_html_ped(horse_id_list, skip=True)\n",
    "peds_20220108 = preparing.get_rawdata_peds(html_files_peds)\n",
    "preparing.update_rawdata(LocalPaths.RAW_PEDS_PATH, peds_20220108)"
   ]
  },
  {
   "cell_type": "code",
   "execution_count": null,
   "metadata": {},
   "outputs": [],
   "source": [
    "#processorの更新\n",
    "horse_info_processor = preprocessing.HorseInfoProcessor(\n",
    "    filepath=LocalPaths.RAW_HORSE_INFO_PATH)\n",
    "horse_results_processor = preprocessing.HorseResultsProcessor(\n",
    "    filepath=LocalPaths.RAW_HORSE_RESULTS_PATH)\n",
    "peds_processor = preprocessing.PedsProcessor(filepath=LocalPaths.RAW_PEDS_PATH)"
   ]
  },
  {
   "cell_type": "code",
   "execution_count": null,
   "metadata": {},
   "outputs": [],
   "source": [
    "#モデルの準備\n",
    "keiba_ai = training.KeibaAIFactory.load('models/20220626/basemodel_2018_2021.pickle')"
   ]
  },
  {
   "cell_type": "markdown",
   "metadata": {},
   "source": [
    "## 6.2. 前日全レース予想"
   ]
  },
  {
   "cell_type": "code",
   "execution_count": null,
   "metadata": {},
   "outputs": [],
   "source": [
    "%autoreload"
   ]
  },
  {
   "cell_type": "code",
   "execution_count": null,
   "metadata": {},
   "outputs": [],
   "source": [
    "# 前日全レース予想用のレースidとレース発走時刻を取得\n",
    "target_race_id_list, target_race_time_list = preparing.scrape_race_id_race_time_list('20221001')\n",
    "print(len(target_race_id_list))\n",
    "print(len(target_race_time_list))\n",
    "yesterday = True"
   ]
  },
  {
   "cell_type": "code",
   "execution_count": null,
   "metadata": {},
   "outputs": [],
   "source": [
    "# 一時的に出馬表を保存するパスを指定\n",
    "filepath = 'data/tmp/shutuba.pickle'\n",
    "today = '2022/10/01'\n",
    "\n",
    "for race_id, race_time in zip(target_race_id_list, target_race_time_list):\n",
    "    # 出馬表の取得\n",
    "    preparing.scrape_shutuba_table(race_id, today, filepath)\n",
    "\n",
    "    # 前日予想の場合\n",
    "    if yesterday:\n",
    "        # 前日予想の場合、馬体重を0（0）に補正\n",
    "        pd2 = pd.read_pickle(filepath)\n",
    "        pd2[ResultsCols.WEIGHT_AND_DIFF] = '0(0)'\n",
    "        # 前日予想の場合、天候と馬場状態が公開されていない場合はこちらを有効にする\n",
    "        #pd2['weather'] = '晴'\n",
    "        #pd2['ground_state'] = '良'\n",
    "        pd2.to_pickle(filepath)\n",
    "\n",
    "    # 出馬表の加工\n",
    "    shutuba_table_processor = preprocessing.ShutubaTableProcessor(filepath)\n",
    "\n",
    "    # テーブルのマージ\n",
    "    shutuba_data_merger = preprocessing.ShutubaDataMerger(\n",
    "        shutuba_table_processor,\n",
    "        horse_results_processor,\n",
    "        horse_info_processor,\n",
    "        peds_processor,\n",
    "        target_cols=TARGET_COLS,\n",
    "        group_cols=GROUP_COLS\n",
    "    )\n",
    "    shutuba_data_merger.merge()\n",
    "\n",
    "    # 特徴量エンジニアリング\n",
    "    feature_enginnering_shutuba = preprocessing.FeatureEngineering(shutuba_data_merger) \\\n",
    "        .add_interval()\\\n",
    "        .add_agedays()\\\n",
    "        .dumminize_ground_state()\\\n",
    "        .dumminize_race_type()\\\n",
    "        .dumminize_sex()\\\n",
    "        .dumminize_weather()\\\n",
    "        .encode_horse_id()\\\n",
    "        .encode_jockey_id()\\\n",
    "        .encode_trainer_id()\\\n",
    "        .encode_owner_id()\\\n",
    "        .encode_breeder_id()\\\n",
    "        .dumminize_kaisai()\\\n",
    "        .dumminize_around()\\\n",
    "        .dumminize_race_class()\n",
    "\n",
    "    # 予測\n",
    "    X = feature_enginnering_shutuba.featured_data.drop(['date'], axis=1)\n",
    "\n",
    "    # 当日の出走情報テーブル（前処理前）\n",
    "    df_tmp = shutuba_table_processor.raw_data[:1]\n",
    "\n",
    "    i = 0\n",
    "    for num in list(Master.PLACE_DICT.values()):\n",
    "        if num == race_id[4:6]:\n",
    "            print(list(Master.PLACE_DICT)[i] + race_id[10:12] + 'R ' + race_time + '発走 ' + str(df_tmp.iat[0, 12])\n",
    "                + str(df_tmp.iat[0, 10]) + 'm ' + str(df_tmp.iat[0, 13]) + ' ' + str(df_tmp.iat[0, 15]))\n",
    "            break\n",
    "        i += 1\n",
    "\n",
    "    print(keiba_ai.calc_score(X, policies.StdScorePolicy).sort_values('score', ascending=False))"
   ]
  },
  {
   "cell_type": "markdown",
   "metadata": {},
   "source": [
    "## 6.3. レース直前データ処理（当日レース予想）"
   ]
  },
  {
   "cell_type": "code",
   "execution_count": 51,
   "metadata": {},
   "outputs": [],
   "source": [
    "%autoreload"
   ]
  },
  {
   "cell_type": "code",
   "execution_count": 52,
   "metadata": {},
   "outputs": [
    {
     "ename": "AttributeError",
     "evalue": "module 'src.preparing' has no attribute 'create_active_race_id_list'",
     "output_type": "error",
     "traceback": [
      "\u001b[0;31m---------------------------------------------------------------------------\u001b[0m",
      "\u001b[0;31mAttributeError\u001b[0m                            Traceback (most recent call last)",
      "Cell \u001b[0;32mIn[52], line 2\u001b[0m\n\u001b[1;32m      1\u001b[0m \u001b[38;5;66;03m# 馬体重の発表されたレースID、レース時刻を取得（レース当日用）\u001b[39;00m\n\u001b[0;32m----> 2\u001b[0m target_race_id_list, target_race_time_list \u001b[38;5;241m=\u001b[39m \u001b[43mpreparing\u001b[49m\u001b[38;5;241;43m.\u001b[39;49m\u001b[43mcreate_active_race_id_list\u001b[49m()\n\u001b[1;32m      3\u001b[0m \u001b[38;5;28mprint\u001b[39m((target_race_id_list))\n\u001b[1;32m      4\u001b[0m \u001b[38;5;28mprint\u001b[39m((target_race_time_list))\n",
      "\u001b[0;31mAttributeError\u001b[0m: module 'src.preparing' has no attribute 'create_active_race_id_list'"
     ]
    }
   ],
   "source": [
    "# 馬体重の発表されたレースID、レース時刻を取得（レース当日用）\n",
    "target_race_id_list, target_race_time_list = preparing.create_active_race_id_list()\n",
    "print((target_race_id_list))\n",
    "print((target_race_time_list))"
   ]
  },
  {
   "cell_type": "code",
   "execution_count": null,
   "metadata": {},
   "outputs": [],
   "source": [
    "# 一時的に出馬表を保存するパスを指定\n",
    "filepath = 'data/tmp/shutuba.pickle'\n",
    "#today = '2022/10/01'\n",
    "today = datetime.datetime.now().date().strftime('%Y/%m/%d')\n",
    "\n",
    "for race_id, race_time in zip(target_race_id_list, target_race_time_list):\n",
    "    # 出馬表の取得\n",
    "    preparing.scrape_shutuba_table(race_id, today, filepath)\n",
    "\n",
    "    # 出馬表の加工\n",
    "    shutuba_table_processor = preprocessing.ShutubaTableProcessor(filepath)\n",
    "\n",
    "    # テーブルのマージ\n",
    "    shutuba_data_merger = preprocessing.ShutubaDataMerger(\n",
    "        shutuba_table_processor,\n",
    "        horse_results_processor,\n",
    "        horse_info_processor,\n",
    "        peds_processor,\n",
    "        target_cols=TARGET_COLS,\n",
    "        group_cols=GROUP_COLS\n",
    "    )\n",
    "    shutuba_data_merger.merge()\n",
    "\n",
    "    # 特徴量エンジニアリング\n",
    "    feature_enginnering_shutuba = preprocessing.FeatureEngineering(shutuba_data_merger) \\\n",
    "        .add_interval()\\\n",
    "        .add_agedays()\\\n",
    "        .dumminize_ground_state()\\\n",
    "        .dumminize_race_type()\\\n",
    "        .dumminize_sex()\\\n",
    "        .dumminize_weather()\\\n",
    "        .encode_horse_id()\\\n",
    "        .encode_jockey_id()\\\n",
    "        .encode_trainer_id()\\\n",
    "        .encode_owner_id()\\\n",
    "        .encode_breeder_id()\\\n",
    "        .dumminize_kaisai()\\\n",
    "        .dumminize_around()\\\n",
    "        .dumminize_race_class()\n",
    "\n",
    "    # 予測\n",
    "    X = feature_enginnering_shutuba.featured_data.drop(['date'], axis=1)\n",
    "\n",
    "    # 当日の出走情報テーブル（前処理前）\n",
    "    df_tmp = shutuba_table_processor.raw_data[:1]\n",
    "    #df_tmp['race_type'] tmp.iat[0, 12]\n",
    "    #df_tmp['around'] 13\n",
    "    #df_tmp['weather'] 14\n",
    "    #df_tmp['ground_state'] 15\n",
    "    #df_tmp['race_class']16\n",
    "\n",
    "    i = 0\n",
    "    for num in list(Master.PLACE_DICT.values()):\n",
    "        if num == race_id[4:6]:\n",
    "            print(list(Master.PLACE_DICT)[i] + race_id[10:12] + 'R ' + race_time + '発走 ' + str(df_tmp.iat[0, 12])\n",
    "                + str(df_tmp.iat[0, 10]) + 'm ' + str(df_tmp.iat[0, 13]) + ' ' + str(df_tmp.iat[0, 15]))\n",
    "            break\n",
    "        i += 1\n",
    "\n",
    "    print(keiba_ai.calc_score(X, policies.StdScorePolicy).sort_values('score', ascending=False))"
   ]
  },
  {
   "cell_type": "markdown",
   "metadata": {},
   "source": [
    "## 6.4. レース直前データ処理（旧方式）"
   ]
  },
  {
   "cell_type": "code",
   "execution_count": null,
   "metadata": {},
   "outputs": [],
   "source": [
    "filepath = 'data/tmp/shutuba.pickle' #一時的に出馬表を保存するパスを指定\n",
    "preparing.scrape_shutuba_table(race_id_list[0], '2022/1/8', filepath) #馬体重が発表されたら、出馬表を取得\n",
    "shutuba_table_processor = preprocessing.ShutubaTableProcessor(filepath) #出馬表の加工"
   ]
  },
  {
   "cell_type": "code",
   "execution_count": null,
   "metadata": {},
   "outputs": [
    {
     "name": "stdout",
     "output_type": "stream",
     "text": [
      "separating horse results by date\n"
     ]
    },
    {
     "data": {
      "application/vnd.jupyter.widget-view+json": {
       "model_id": "1301cf845bcb4c5699ee48ffd7dc71fc",
       "version_major": 2,
       "version_minor": 0
      },
      "text/plain": [
       "  0%|          | 0/1 [00:00<?, ?it/s]"
      ]
     },
     "metadata": {},
     "output_type": "display_data"
    },
    {
     "name": "stdout",
     "output_type": "stream",
     "text": [
      "merging horse_results\n"
     ]
    },
    {
     "data": {
      "application/vnd.jupyter.widget-view+json": {
       "model_id": "efcc76c675424e62b240f474d7fd9a03",
       "version_major": 2,
       "version_minor": 0
      },
      "text/plain": [
       "  0%|          | 0/1 [00:00<?, ?it/s]"
      ]
     },
     "metadata": {},
     "output_type": "display_data"
    }
   ],
   "source": [
    "#テーブルのマージ\n",
    "shutuba_data_merger = preprocessing.ShutubaDataMerger(\n",
    "    shutuba_table_processor,\n",
    "    horse_results_processor,\n",
    "    horse_info_processor,\n",
    "    peds_processor,\n",
    "    target_cols=TARGET_COLS,\n",
    "    group_cols=GROUP_COLS\n",
    ")\n",
    "\n",
    "shutuba_data_merger.merge()"
   ]
  },
  {
   "cell_type": "code",
   "execution_count": null,
   "metadata": {},
   "outputs": [],
   "source": [
    "#特徴量エンジニアリング\n",
    "feature_enginnering_shutuba = preprocessing.FeatureEngineering(shutuba_data_merger)\\\n",
    "    .add_interval()\\\n",
    "    .add_agedays()\\\n",
    "    .dumminize_ground_state()\\\n",
    "    .dumminize_race_type()\\\n",
    "    .dumminize_sex()\\\n",
    "    .dumminize_weather()\\\n",
    "    .encode_horse_id()\\\n",
    "    .encode_jockey_id()\\\n",
    "    .encode_trainer_id()\\\n",
    "    .encode_owner_id()\\\n",
    "    .encode_breeder_id()\\\n",
    "    .dumminize_kaisai()\\\n",
    "    .dumminize_around()\\\n",
    "    .dumminize_race_class()"
   ]
  },
  {
   "cell_type": "code",
   "execution_count": null,
   "metadata": {},
   "outputs": [
    {
     "data": {
      "text/html": [
       "<div>\n",
       "<style scoped>\n",
       "    .dataframe tbody tr th:only-of-type {\n",
       "        vertical-align: middle;\n",
       "    }\n",
       "\n",
       "    .dataframe tbody tr th {\n",
       "        vertical-align: top;\n",
       "    }\n",
       "\n",
       "    .dataframe thead th {\n",
       "        text-align: right;\n",
       "    }\n",
       "</style>\n",
       "<table border=\"1\" class=\"dataframe\">\n",
       "  <thead>\n",
       "    <tr style=\"text-align: right;\">\n",
       "      <th></th>\n",
       "      <th>馬番</th>\n",
       "      <th>単勝</th>\n",
       "      <th>score</th>\n",
       "    </tr>\n",
       "  </thead>\n",
       "  <tbody>\n",
       "    <tr>\n",
       "      <th>202206010201</th>\n",
       "      <td>5</td>\n",
       "      <td>4.7</td>\n",
       "      <td>1.972623</td>\n",
       "    </tr>\n",
       "    <tr>\n",
       "      <th>202206010201</th>\n",
       "      <td>3</td>\n",
       "      <td>4.3</td>\n",
       "      <td>1.698477</td>\n",
       "    </tr>\n",
       "    <tr>\n",
       "      <th>202206010201</th>\n",
       "      <td>15</td>\n",
       "      <td>4.5</td>\n",
       "      <td>1.292167</td>\n",
       "    </tr>\n",
       "    <tr>\n",
       "      <th>202206010201</th>\n",
       "      <td>4</td>\n",
       "      <td>5.7</td>\n",
       "      <td>0.754306</td>\n",
       "    </tr>\n",
       "    <tr>\n",
       "      <th>202206010201</th>\n",
       "      <td>11</td>\n",
       "      <td>5.4</td>\n",
       "      <td>0.706008</td>\n",
       "    </tr>\n",
       "    <tr>\n",
       "      <th>202206010201</th>\n",
       "      <td>6</td>\n",
       "      <td>16.9</td>\n",
       "      <td>0.401887</td>\n",
       "    </tr>\n",
       "    <tr>\n",
       "      <th>202206010201</th>\n",
       "      <td>16</td>\n",
       "      <td>14.2</td>\n",
       "      <td>-0.070303</td>\n",
       "    </tr>\n",
       "    <tr>\n",
       "      <th>202206010201</th>\n",
       "      <td>1</td>\n",
       "      <td>26.7</td>\n",
       "      <td>-0.260754</td>\n",
       "    </tr>\n",
       "    <tr>\n",
       "      <th>202206010201</th>\n",
       "      <td>13</td>\n",
       "      <td>29.8</td>\n",
       "      <td>-0.300251</td>\n",
       "    </tr>\n",
       "    <tr>\n",
       "      <th>202206010201</th>\n",
       "      <td>9</td>\n",
       "      <td>101.3</td>\n",
       "      <td>-0.481400</td>\n",
       "    </tr>\n",
       "    <tr>\n",
       "      <th>202206010201</th>\n",
       "      <td>12</td>\n",
       "      <td>489.8</td>\n",
       "      <td>-0.547653</td>\n",
       "    </tr>\n",
       "    <tr>\n",
       "      <th>202206010201</th>\n",
       "      <td>2</td>\n",
       "      <td>371.3</td>\n",
       "      <td>-0.573977</td>\n",
       "    </tr>\n",
       "    <tr>\n",
       "      <th>202206010201</th>\n",
       "      <td>8</td>\n",
       "      <td>215.4</td>\n",
       "      <td>-1.019021</td>\n",
       "    </tr>\n",
       "    <tr>\n",
       "      <th>202206010201</th>\n",
       "      <td>7</td>\n",
       "      <td>177.8</td>\n",
       "      <td>-1.113196</td>\n",
       "    </tr>\n",
       "    <tr>\n",
       "      <th>202206010201</th>\n",
       "      <td>10</td>\n",
       "      <td>333.9</td>\n",
       "      <td>-1.216077</td>\n",
       "    </tr>\n",
       "    <tr>\n",
       "      <th>202206010201</th>\n",
       "      <td>14</td>\n",
       "      <td>105.7</td>\n",
       "      <td>-1.242838</td>\n",
       "    </tr>\n",
       "  </tbody>\n",
       "</table>\n",
       "</div>"
      ],
      "text/plain": [
       "              馬番     単勝     score\n",
       "202206010201   5    4.7  1.972623\n",
       "202206010201   3    4.3  1.698477\n",
       "202206010201  15    4.5  1.292167\n",
       "202206010201   4    5.7  0.754306\n",
       "202206010201  11    5.4  0.706008\n",
       "202206010201   6   16.9  0.401887\n",
       "202206010201  16   14.2 -0.070303\n",
       "202206010201   1   26.7 -0.260754\n",
       "202206010201  13   29.8 -0.300251\n",
       "202206010201   9  101.3 -0.481400\n",
       "202206010201  12  489.8 -0.547653\n",
       "202206010201   2  371.3 -0.573977\n",
       "202206010201   8  215.4 -1.019021\n",
       "202206010201   7  177.8 -1.113196\n",
       "202206010201  10  333.9 -1.216077\n",
       "202206010201  14  105.7 -1.242838"
      ]
     },
     "execution_count": 32,
     "metadata": {},
     "output_type": "execute_result"
    }
   ],
   "source": [
    "#予測\n",
    "X = feature_enginnering_shutuba.featured_data.drop(['date'], axis=1)\n",
    "keiba_ai.calc_score(X, policies.StdScorePolicy).sort_values('score', ascending=False)"
   ]
  }
 ],
 "metadata": {
  "kernelspec": {
   "display_name": "Python 3.8.8 ('base')",
   "language": "python",
   "name": "python3"
  },
  "language_info": {
   "codemirror_mode": {
    "name": "ipython",
    "version": 3
   },
   "file_extension": ".py",
   "mimetype": "text/x-python",
   "name": "python",
   "nbconvert_exporter": "python",
   "pygments_lexer": "ipython3",
   "version": "3.11.5"
  },
  "orig_nbformat": 4,
  "vscode": {
   "interpreter": {
    "hash": "86b876b27ca5c2d1364eeb23e2b9702e4618994875f621a0c288ea87a3030d46"
   }
  }
 },
 "nbformat": 4,
 "nbformat_minor": 2
}
