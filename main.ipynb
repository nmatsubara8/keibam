{
 "cells": [
  {
   "cell_type": "markdown",
   "metadata": {},
   "source": [
    "# 1. モジュールインポート"
   ]
  },
  {
   "cell_type": "code",
   "execution_count": 1,
   "metadata": {},
   "outputs": [],
   "source": [
    "import pandas as pd\n",
    "import glob\n",
    "import os\n",
    "import datetime\n",
    "from tqdm.auto import tqdm\n",
    "from src.constants._master import Master\n",
    "from src.constants._local_paths import LocalPaths\n",
    "from src.constants._horse_results_cols import HorseResultsCols\n",
    "from src.constants._results_cols import ResultsCols\n",
    "from src import preparing\n",
    "\n",
    "\n",
    "from src import training\n",
    "from src import simulation\n",
    "from src import policies\n",
    "%load_ext autoreload"
   ]
  },
  {
   "cell_type": "markdown",
   "metadata": {},
   "source": [
    "標準的な土日競馬開催時の運用スケジュールを以下の表の通り。\n",
    "\n",
    "|曜日|時刻|内容|実行する main.ipynb の項番|備考|\n",
    "|:-:|:--|:--|:--|:--|\n",
    "|月|||||\n",
    "|火|||||\n",
    "|水|16:30過ぎ|先週土日の馬の過去成績ページ確定<BR>（netkeiba.comﾌﾟﾚﾐｱｻｰﾋﾞｽのﾀｲﾑ指数・ﾚｰｽ分析・注目馬 ﾚｰｽ後の短評情報確定）|2. データ取得 ～ 5. シミュレーション|3日間開催の場合も、水曜日|\n",
    "|木|||||\n",
    "|金|10:05過ぎ<BR>19:25過ぎ|土曜の出馬表確定<BR>土曜の天候・馬場状態更新|6.1. 前日準備 ～ 6.2. 前日全レース予想（天候・馬場状態は手動設定）<BR>6.1. 前日準備 ～ 6.2. 前日全レース予想||\n",
    "|土|09:00～17:00<BR>10:05過ぎ<BR>19:25過ぎ| レース時刻<BR>日曜の出馬表確定<BR>日曜の天候・馬場状態更新|6.3. レース直前データ処理（当日レース予想）<BR>6.1. 前日準備 ～ 6.2. 前日全レース予想（天候・馬場状態は手動設定）<BR>6.1. 前日準備 ～ 6.2. 前日全レース予想||\n",
    "|日|09:00～17:00|レース時刻|6.3. レース直前データ処理（当日レース予想）||"
   ]
  },
  {
   "cell_type": "markdown",
   "metadata": {},
   "source": [
    "# 2. データ取得"
   ]
  },
  {
   "cell_type": "markdown",
   "metadata": {},
   "source": [
    "## 2.1. レースID取得\n",
    "例として、2020年のレースデータを取得する場合を考える"
   ]
  },
  {
   "cell_type": "code",
   "execution_count": 162,
   "metadata": {},
   "outputs": [],
   "source": [
    "%autoreload"
   ]
  },
  {
   "cell_type": "code",
   "execution_count": 163,
   "metadata": {},
   "outputs": [
    {
     "ename": "AttributeError",
     "evalue": "module 'src.preparing' has no attribute 'scrape_kaisai_date'",
     "output_type": "error",
     "traceback": [
      "\u001b[0;31m---------------------------------------------------------------------------\u001b[0m",
      "\u001b[0;31mAttributeError\u001b[0m                            Traceback (most recent call last)",
      "Cell \u001b[0;32mIn[163], line 2\u001b[0m\n\u001b[1;32m      1\u001b[0m \u001b[38;5;66;03m#開催日取得。to_の月は含まないので注意。\u001b[39;00m\n\u001b[0;32m----> 2\u001b[0m kaisai_date_2020 \u001b[38;5;241m=\u001b[39m \u001b[43mpreparing\u001b[49m\u001b[38;5;241;43m.\u001b[39;49m\u001b[43mscrape_kaisai_date\u001b[49m(from_\u001b[38;5;241m=\u001b[39m\u001b[38;5;124m\"\u001b[39m\u001b[38;5;124m2020-01-01\u001b[39m\u001b[38;5;124m\"\u001b[39m, to_\u001b[38;5;241m=\u001b[39m\u001b[38;5;124m\"\u001b[39m\u001b[38;5;124m2021-01-01\u001b[39m\u001b[38;5;124m\"\u001b[39m)\n\u001b[1;32m      3\u001b[0m \u001b[38;5;28mlen\u001b[39m(kaisai_date_2020)\n",
      "\u001b[0;31mAttributeError\u001b[0m: module 'src.preparing' has no attribute 'scrape_kaisai_date'"
     ]
    }
   ],
   "source": [
    "#開催日取得。to_の月は含まないので注意。\n",
    "kaisai_date_2020 = preparing.scrape_kaisai_date(from_=\"2020-01-01\", to_=\"2021-01-01\")\n",
    "len(kaisai_date_2020)"
   ]
  },
  {
   "cell_type": "code",
   "execution_count": null,
   "metadata": {},
   "outputs": [
    {
     "name": "stdout",
     "output_type": "stream",
     "text": [
      "getting race_id_list\n"
     ]
    },
    {
     "data": {
      "application/vnd.jupyter.widget-view+json": {
       "model_id": "b198dda1b50448a39aa46b1b6c65182b",
       "version_major": 2,
       "version_minor": 0
      },
      "text/plain": [
       "  0%|          | 0/109 [00:00<?, ?it/s]"
      ]
     },
     "metadata": {},
     "output_type": "display_data"
    },
    {
     "name": "stdout",
     "output_type": "stream",
     "text": [
      "scraping: https://race.netkeiba.com/top/race_list.html?kaisai_date=20200105\n",
      "scraping: https://race.netkeiba.com/top/race_list.html?kaisai_date=20200106\n",
      "scraping: https://race.netkeiba.com/top/race_list.html?kaisai_date=20200111\n",
      "scraping: https://race.netkeiba.com/top/race_list.html?kaisai_date=20200112\n",
      "scraping: https://race.netkeiba.com/top/race_list.html?kaisai_date=20200113\n",
      "scraping: https://race.netkeiba.com/top/race_list.html?kaisai_date=20200118\n",
      "scraping: https://race.netkeiba.com/top/race_list.html?kaisai_date=20200119\n",
      "scraping: https://race.netkeiba.com/top/race_list.html?kaisai_date=20200125\n",
      "scraping: https://race.netkeiba.com/top/race_list.html?kaisai_date=20200126\n",
      "scraping: https://race.netkeiba.com/top/race_list.html?kaisai_date=20200201\n",
      "scraping: https://race.netkeiba.com/top/race_list.html?kaisai_date=20200202\n",
      "scraping: https://race.netkeiba.com/top/race_list.html?kaisai_date=20200208\n",
      "scraping: https://race.netkeiba.com/top/race_list.html?kaisai_date=20200209\n",
      "scraping: https://race.netkeiba.com/top/race_list.html?kaisai_date=20200215\n",
      "scraping: https://race.netkeiba.com/top/race_list.html?kaisai_date=20200216\n",
      "scraping: https://race.netkeiba.com/top/race_list.html?kaisai_date=20200222\n",
      "scraping: https://race.netkeiba.com/top/race_list.html?kaisai_date=20200223\n",
      "scraping: https://race.netkeiba.com/top/race_list.html?kaisai_date=20200229\n",
      "scraping: https://race.netkeiba.com/top/race_list.html?kaisai_date=20200301\n",
      "scraping: https://race.netkeiba.com/top/race_list.html?kaisai_date=20200307\n",
      "scraping: https://race.netkeiba.com/top/race_list.html?kaisai_date=20200308\n",
      "scraping: https://race.netkeiba.com/top/race_list.html?kaisai_date=20200314\n",
      "scraping: https://race.netkeiba.com/top/race_list.html?kaisai_date=20200315\n",
      "scraping: https://race.netkeiba.com/top/race_list.html?kaisai_date=20200320\n",
      "scraping: https://race.netkeiba.com/top/race_list.html?kaisai_date=20200321\n",
      "scraping: https://race.netkeiba.com/top/race_list.html?kaisai_date=20200322\n",
      "scraping: https://race.netkeiba.com/top/race_list.html?kaisai_date=20200328\n",
      "scraping: https://race.netkeiba.com/top/race_list.html?kaisai_date=20200329\n",
      "scraping: https://race.netkeiba.com/top/race_list.html?kaisai_date=20200331\n",
      "scraping: https://race.netkeiba.com/top/race_list.html?kaisai_date=20200404\n",
      "scraping: https://race.netkeiba.com/top/race_list.html?kaisai_date=20200405\n",
      "scraping: https://race.netkeiba.com/top/race_list.html?kaisai_date=20200411\n",
      "scraping: https://race.netkeiba.com/top/race_list.html?kaisai_date=20200412\n",
      "scraping: https://race.netkeiba.com/top/race_list.html?kaisai_date=20200418\n",
      "scraping: https://race.netkeiba.com/top/race_list.html?kaisai_date=20200419\n",
      "scraping: https://race.netkeiba.com/top/race_list.html?kaisai_date=20200425\n",
      "scraping: https://race.netkeiba.com/top/race_list.html?kaisai_date=20200426\n",
      "scraping: https://race.netkeiba.com/top/race_list.html?kaisai_date=20200502\n",
      "scraping: https://race.netkeiba.com/top/race_list.html?kaisai_date=20200503\n",
      "scraping: https://race.netkeiba.com/top/race_list.html?kaisai_date=20200509\n",
      "scraping: https://race.netkeiba.com/top/race_list.html?kaisai_date=20200510\n",
      "scraping: https://race.netkeiba.com/top/race_list.html?kaisai_date=20200516\n",
      "scraping: https://race.netkeiba.com/top/race_list.html?kaisai_date=20200517\n",
      "scraping: https://race.netkeiba.com/top/race_list.html?kaisai_date=20200523\n",
      "scraping: https://race.netkeiba.com/top/race_list.html?kaisai_date=20200524\n",
      "scraping: https://race.netkeiba.com/top/race_list.html?kaisai_date=20200530\n",
      "scraping: https://race.netkeiba.com/top/race_list.html?kaisai_date=20200531\n",
      "scraping: https://race.netkeiba.com/top/race_list.html?kaisai_date=20200606\n",
      "scraping: https://race.netkeiba.com/top/race_list.html?kaisai_date=20200607\n",
      "scraping: https://race.netkeiba.com/top/race_list.html?kaisai_date=20200613\n",
      "scraping: https://race.netkeiba.com/top/race_list.html?kaisai_date=20200614\n",
      "scraping: https://race.netkeiba.com/top/race_list.html?kaisai_date=20200620\n",
      "scraping: https://race.netkeiba.com/top/race_list.html?kaisai_date=20200621\n",
      "scraping: https://race.netkeiba.com/top/race_list.html?kaisai_date=20200627\n",
      "scraping: https://race.netkeiba.com/top/race_list.html?kaisai_date=20200628\n",
      "scraping: https://race.netkeiba.com/top/race_list.html?kaisai_date=20200704\n",
      "scraping: https://race.netkeiba.com/top/race_list.html?kaisai_date=20200705\n",
      "scraping: https://race.netkeiba.com/top/race_list.html?kaisai_date=20200711\n",
      "scraping: https://race.netkeiba.com/top/race_list.html?kaisai_date=20200712\n",
      "scraping: https://race.netkeiba.com/top/race_list.html?kaisai_date=20200718\n",
      "scraping: https://race.netkeiba.com/top/race_list.html?kaisai_date=20200719\n",
      "scraping: https://race.netkeiba.com/top/race_list.html?kaisai_date=20200725\n",
      "scraping: https://race.netkeiba.com/top/race_list.html?kaisai_date=20200726\n",
      "scraping: https://race.netkeiba.com/top/race_list.html?kaisai_date=20200801\n",
      "scraping: https://race.netkeiba.com/top/race_list.html?kaisai_date=20200802\n",
      "scraping: https://race.netkeiba.com/top/race_list.html?kaisai_date=20200808\n",
      "scraping: https://race.netkeiba.com/top/race_list.html?kaisai_date=20200809\n",
      "scraping: https://race.netkeiba.com/top/race_list.html?kaisai_date=20200815\n",
      "scraping: https://race.netkeiba.com/top/race_list.html?kaisai_date=20200816\n",
      "scraping: https://race.netkeiba.com/top/race_list.html?kaisai_date=20200822\n",
      "scraping: https://race.netkeiba.com/top/race_list.html?kaisai_date=20200823\n",
      "scraping: https://race.netkeiba.com/top/race_list.html?kaisai_date=20200829\n",
      "scraping: https://race.netkeiba.com/top/race_list.html?kaisai_date=20200830\n",
      "scraping: https://race.netkeiba.com/top/race_list.html?kaisai_date=20200905\n",
      "scraping: https://race.netkeiba.com/top/race_list.html?kaisai_date=20200906\n",
      "scraping: https://race.netkeiba.com/top/race_list.html?kaisai_date=20200912\n",
      "scraping: https://race.netkeiba.com/top/race_list.html?kaisai_date=20200913\n",
      "scraping: https://race.netkeiba.com/top/race_list.html?kaisai_date=20200919\n",
      "scraping: https://race.netkeiba.com/top/race_list.html?kaisai_date=20200920\n",
      "scraping: https://race.netkeiba.com/top/race_list.html?kaisai_date=20200921\n",
      "scraping: https://race.netkeiba.com/top/race_list.html?kaisai_date=20200926\n",
      "scraping: https://race.netkeiba.com/top/race_list.html?kaisai_date=20200927\n",
      "scraping: https://race.netkeiba.com/top/race_list.html?kaisai_date=20201003\n",
      "scraping: https://race.netkeiba.com/top/race_list.html?kaisai_date=20201004\n",
      "scraping: https://race.netkeiba.com/top/race_list.html?kaisai_date=20201010\n",
      "scraping: https://race.netkeiba.com/top/race_list.html?kaisai_date=20201011\n",
      "scraping: https://race.netkeiba.com/top/race_list.html?kaisai_date=20201017\n",
      "scraping: https://race.netkeiba.com/top/race_list.html?kaisai_date=20201018\n",
      "scraping: https://race.netkeiba.com/top/race_list.html?kaisai_date=20201024\n",
      "scraping: https://race.netkeiba.com/top/race_list.html?kaisai_date=20201025\n",
      "scraping: https://race.netkeiba.com/top/race_list.html?kaisai_date=20201031\n",
      "scraping: https://race.netkeiba.com/top/race_list.html?kaisai_date=20201101\n",
      "scraping: https://race.netkeiba.com/top/race_list.html?kaisai_date=20201107\n",
      "scraping: https://race.netkeiba.com/top/race_list.html?kaisai_date=20201108\n",
      "scraping: https://race.netkeiba.com/top/race_list.html?kaisai_date=20201114\n",
      "scraping: https://race.netkeiba.com/top/race_list.html?kaisai_date=20201115\n",
      "scraping: https://race.netkeiba.com/top/race_list.html?kaisai_date=20201121\n",
      "scraping: https://race.netkeiba.com/top/race_list.html?kaisai_date=20201122\n",
      "scraping: https://race.netkeiba.com/top/race_list.html?kaisai_date=20201123\n",
      "scraping: https://race.netkeiba.com/top/race_list.html?kaisai_date=20201128\n",
      "scraping: https://race.netkeiba.com/top/race_list.html?kaisai_date=20201129\n",
      "scraping: https://race.netkeiba.com/top/race_list.html?kaisai_date=20201205\n",
      "scraping: https://race.netkeiba.com/top/race_list.html?kaisai_date=20201206\n",
      "scraping: https://race.netkeiba.com/top/race_list.html?kaisai_date=20201212\n",
      "scraping: https://race.netkeiba.com/top/race_list.html?kaisai_date=20201213\n",
      "scraping: https://race.netkeiba.com/top/race_list.html?kaisai_date=20201219\n",
      "scraping: https://race.netkeiba.com/top/race_list.html?kaisai_date=20201220\n",
      "scraping: https://race.netkeiba.com/top/race_list.html?kaisai_date=20201226\n",
      "scraping: https://race.netkeiba.com/top/race_list.html?kaisai_date=20201227\n"
     ]
    },
    {
     "data": {
      "text/plain": [
       "3456"
      ]
     },
     "execution_count": 5,
     "metadata": {},
     "output_type": "execute_result"
    }
   ],
   "source": [
    "# 開催日からレースIDの取得\n",
    "race_id_list = preparing.scrape_race_id_list(kaisai_date_2020)\n",
    "len(race_id_list)"
   ]
  },
  {
   "cell_type": "markdown",
   "metadata": {},
   "source": [
    "## 2.2. /race/ディレクトリのデータ取得"
   ]
  },
  {
   "cell_type": "code",
   "execution_count": null,
   "metadata": {},
   "outputs": [
    {
     "data": {
      "application/vnd.jupyter.widget-view+json": {
       "model_id": "ef8522199aa64f3ea36fa621210a8435",
       "version_major": 2,
       "version_minor": 0
      },
      "text/plain": [
       "  0%|          | 0/10 [00:00<?, ?it/s]"
      ]
     },
     "metadata": {},
     "output_type": "display_data"
    },
    {
     "name": "stdout",
     "output_type": "stream",
     "text": [
      "race_id 202106010101 skipped\n",
      "race_id 202106010102 skipped\n",
      "race_id 202106010103 skipped\n",
      "race_id 202106010104 skipped\n",
      "race_id 202106010105 skipped\n",
      "race_id 202106010106 skipped\n",
      "race_id 202106010107 skipped\n",
      "race_id 202106010108 skipped\n",
      "race_id 202106010109 skipped\n",
      "race_id 202106010110 skipped\n"
     ]
    },
    {
     "data": {
      "text/plain": [
       "['/Users/chiyoda/Documents/readers-repo/data/html/race/202106010101.bin',\n",
       " '/Users/chiyoda/Documents/readers-repo/data/html/race/202106010102.bin',\n",
       " '/Users/chiyoda/Documents/readers-repo/data/html/race/202106010103.bin',\n",
       " '/Users/chiyoda/Documents/readers-repo/data/html/race/202106010104.bin',\n",
       " '/Users/chiyoda/Documents/readers-repo/data/html/race/202106010105.bin']"
      ]
     },
     "execution_count": 7,
     "metadata": {},
     "output_type": "execute_result"
    }
   ],
   "source": [
    "#https://db.netkeiba.com/race/のhtml(binファイル)をスクレイピングして保存\n",
    "html_files_race = preparing.scrape_html_race(race_id_list, skip=True)\n",
    "html_files_race[:5]"
   ]
  },
  {
   "cell_type": "code",
   "execution_count": null,
   "metadata": {},
   "outputs": [
    {
     "data": {
      "application/vnd.jupyter.widget-view+json": {
       "model_id": "3effe11e3d01418d93585f89bb937bbd",
       "version_major": 2,
       "version_minor": 0
      },
      "text/plain": [
       "  0%|          | 0/10 [00:00<?, ?it/s]"
      ]
     },
     "metadata": {},
     "output_type": "display_data"
    },
    {
     "data": {
      "application/vnd.jupyter.widget-view+json": {
       "model_id": "e768c128f18f4ca6aac1145cf924e76f",
       "version_major": 2,
       "version_minor": 0
      },
      "text/plain": [
       "  0%|          | 0/10 [00:00<?, ?it/s]"
      ]
     },
     "metadata": {},
     "output_type": "display_data"
    },
    {
     "data": {
      "application/vnd.jupyter.widget-view+json": {
       "model_id": "2cc4ddbbedb142caa4365ef51bb6542b",
       "version_major": 2,
       "version_minor": 0
      },
      "text/plain": [
       "  0%|          | 0/10 [00:00<?, ?it/s]"
      ]
     },
     "metadata": {},
     "output_type": "display_data"
    }
   ],
   "source": [
    "results_new = preparing.get_rawdata_results(html_files_race) #レース結果テーブルの作成\n",
    "race_info_new = preparing.get_rawdata_info(html_files_race) #レース情報テーブルの作成\n",
    "return_tables_new = preparing.get_rawdata_return(html_files_race) #払戻テーブルの作成"
   ]
  },
  {
   "cell_type": "code",
   "execution_count": null,
   "metadata": {},
   "outputs": [],
   "source": [
    "# テーブルの更新。元々のテーブルが存在しない場合は、新たに作成される。\n",
    "preparing.update_rawdata(filepath=LocalPaths.RAW_RESULTS_PATH, new_df=results_new)\n",
    "preparing.update_rawdata(filepath=LocalPaths.RAW_RACE_INFO_PATH, new_df=race_info_new)\n",
    "preparing.update_rawdata(filepath=LocalPaths.RAW_RETURN_TABLES_PATH, new_df=return_tables_new)"
   ]
  },
  {
   "cell_type": "markdown",
   "metadata": {},
   "source": [
    "## 2.3. /horse/ディレクトリのデータ取得"
   ]
  },
  {
   "cell_type": "code",
   "execution_count": 72,
   "metadata": {},
   "outputs": [],
   "source": [
    "%autoreload"
   ]
  },
  {
   "cell_type": "code",
   "execution_count": 73,
   "metadata": {},
   "outputs": [
    {
     "ename": "NameError",
     "evalue": "name 'results_new' is not defined",
     "output_type": "error",
     "traceback": [
      "\u001b[0;31m---------------------------------------------------------------------------\u001b[0m",
      "\u001b[0;31mNameError\u001b[0m                                 Traceback (most recent call last)",
      "Cell \u001b[0;32mIn[73], line 1\u001b[0m\n\u001b[0;32m----> 1\u001b[0m horse_id_list \u001b[38;5;241m=\u001b[39m \u001b[43mresults_new\u001b[49m[\u001b[38;5;124m'\u001b[39m\u001b[38;5;124mhorse_id\u001b[39m\u001b[38;5;124m'\u001b[39m]\u001b[38;5;241m.\u001b[39munique()\n\u001b[1;32m      2\u001b[0m \u001b[38;5;66;03m#htmlをスクレイピング\u001b[39;00m\n\u001b[1;32m      3\u001b[0m \u001b[38;5;66;03m#すでにスクレイピングしてある馬をスキップしたい場合はskip=Trueにする\u001b[39;00m\n\u001b[1;32m      4\u001b[0m \u001b[38;5;66;03m#すでにスクレイピングしてある馬でも、新たに出走した成績を更新したい場合はskip=Falseにする\u001b[39;00m\n\u001b[1;32m      5\u001b[0m html_files_horse \u001b[38;5;241m=\u001b[39m preparing\u001b[38;5;241m.\u001b[39mscrape_html_horse_with_master(\n\u001b[1;32m      6\u001b[0m     horse_id_list, skip\u001b[38;5;241m=\u001b[39m\u001b[38;5;28;01mTrue\u001b[39;00m\n\u001b[1;32m      7\u001b[0m     )\n",
      "\u001b[0;31mNameError\u001b[0m: name 'results_new' is not defined"
     ]
    }
   ],
   "source": [
    "horse_id_list = results_new['horse_id'].unique()\n",
    "#htmlをスクレイピング\n",
    "#すでにスクレイピングしてある馬をスキップしたい場合はskip=Trueにする\n",
    "#すでにスクレイピングしてある馬でも、新たに出走した成績を更新したい場合はskip=Falseにする\n",
    "html_files_horse = preparing.scrape_html_horse_with_master(\n",
    "    horse_id_list, skip=True\n",
    "    )"
   ]
  },
  {
   "cell_type": "code",
   "execution_count": null,
   "metadata": {},
   "outputs": [
    {
     "data": {
      "text/plain": [
       "4742"
      ]
     },
     "execution_count": 19,
     "metadata": {},
     "output_type": "execute_result"
    }
   ],
   "source": [
    "#追加で新たにスクレイピングされた数\n",
    "len(html_files_horse)"
   ]
  },
  {
   "cell_type": "code",
   "execution_count": null,
   "metadata": {},
   "outputs": [
    {
     "data": {
      "application/vnd.jupyter.widget-view+json": {
       "model_id": "c58a7e2ef4c44515823a268edb8475f2",
       "version_major": 2,
       "version_minor": 0
      },
      "text/plain": [
       "  0%|          | 0/11561 [00:00<?, ?it/s]"
      ]
     },
     "metadata": {},
     "output_type": "display_data"
    },
    {
     "data": {
      "text/plain": [
       "['/Users/chiyoda/repositories/keibaAI-v2/data/html/horse/2017101445.bin',\n",
       " '/Users/chiyoda/repositories/keibaAI-v2/data/html/horse/2017109028.bin',\n",
       " '/Users/chiyoda/repositories/keibaAI-v2/data/html/horse/2016100106.bin',\n",
       " '/Users/chiyoda/repositories/keibaAI-v2/data/html/horse/2015104412.bin',\n",
       " '/Users/chiyoda/repositories/keibaAI-v2/data/html/horse/2016105305.bin']"
      ]
     },
     "execution_count": 22,
     "metadata": {},
     "output_type": "execute_result"
    }
   ],
   "source": [
    "### scrape関数を実行せずに、保存してあるhtmlのパスを取得する場合、以下を実行 ###\n",
    "\n",
    "\"\"\"target_date = '2022-06-25' #スクレイピングした日付を指定\n",
    "# マスタの読み込み\n",
    "update_master = pd.read_csv(\n",
    "    LocalPaths.MASTER_RAW_HORSE_RESULTS_PATH,\n",
    "    dtype=object\n",
    "    )\n",
    "# target_dateにスクレイピングしたhorse_idに絞り込む\n",
    "filter = pd.to_datetime(update_master['updated_at']).dt.strftime('%Y-%m-%d') == target_date\n",
    "horse_id_list = update_master[filter]['horse_id']\n",
    "\n",
    "# binファイルのパスを取得\n",
    "html_files_horse = []\n",
    "for horse_id in tqdm(horse_id_list):\n",
    "    file = glob.glob(os.path.join(LocalPaths.HTML_HORSE_DIR, horse_id+'*.bin'))[0]\n",
    "    html_files_horse.append(file)\n",
    "html_files_horse[:5]\"\"\""
   ]
  },
  {
   "cell_type": "code",
   "execution_count": null,
   "metadata": {},
   "outputs": [],
   "source": [
    "# 馬の基本情報テーブルの作成\n",
    "horse_info_new = preparing.get_rawdata_horse_info(html_files_horse)"
   ]
  },
  {
   "cell_type": "code",
   "execution_count": null,
   "metadata": {},
   "outputs": [],
   "source": [
    "# 馬の基本情報テーブルの更新\n",
    "preparing.update_rawdata(LocalPaths.RAW_HORSE_INFO_PATH, horse_info_new)"
   ]
  },
  {
   "cell_type": "code",
   "execution_count": null,
   "metadata": {},
   "outputs": [
    {
     "name": "stdout",
     "output_type": "stream",
     "text": [
      "preparing raw horse_results table\n"
     ]
    },
    {
     "data": {
      "application/vnd.jupyter.widget-view+json": {
       "model_id": "bd90c21db8aa4a0e9bb8555883128ee0",
       "version_major": 2,
       "version_minor": 0
      },
      "text/plain": [
       "  0%|          | 0/4742 [00:00<?, ?it/s]"
      ]
     },
     "metadata": {},
     "output_type": "display_data"
    }
   ],
   "source": [
    "#　馬の過去成績テーブルの作成\n",
    "horse_results_new = preparing.get_rawdata_horse_results(html_files_horse)"
   ]
  },
  {
   "cell_type": "code",
   "execution_count": null,
   "metadata": {},
   "outputs": [],
   "source": [
    "# テーブルの更新\n",
    "preparing.update_rawdata(LocalPaths.RAW_HORSE_RESULTS_PATH, horse_results_new)"
   ]
  },
  {
   "cell_type": "markdown",
   "metadata": {},
   "source": [
    "## 2.4. /ped/ディレクトリのデータ取得"
   ]
  },
  {
   "cell_type": "code",
   "execution_count": null,
   "metadata": {},
   "outputs": [
    {
     "data": {
      "application/vnd.jupyter.widget-view+json": {
       "model_id": "dac873303fa4402991881bfef2995cb2",
       "version_major": 2,
       "version_minor": 0
      },
      "text/plain": [
       "  0%|          | 0/5 [00:00<?, ?it/s]"
      ]
     },
     "metadata": {},
     "output_type": "display_data"
    }
   ],
   "source": [
    "html_files_peds = preparing.scrape_html_ped(horse_id_list, skip=True) #htmlをスクレイピング"
   ]
  },
  {
   "cell_type": "code",
   "execution_count": null,
   "metadata": {},
   "outputs": [
    {
     "data": {
      "application/vnd.jupyter.widget-view+json": {
       "model_id": "6052d39df23e4ac1b0d0769d8663c403",
       "version_major": 2,
       "version_minor": 0
      },
      "text/plain": [
       "  0%|          | 0/5 [00:00<?, ?it/s]"
      ]
     },
     "metadata": {},
     "output_type": "display_data"
    }
   ],
   "source": [
    "peds_new = preparing.get_rawdata_peds(html_files_peds) #血統テーブルの作成\n",
    "preparing.update_rawdata(LocalPaths.RAW_PEDS_PATH, peds_new) #テーブルの更新"
   ]
  },
  {
   "cell_type": "markdown",
   "metadata": {},
   "source": [
    "# 3. データ加工"
   ]
  },
  {
   "cell_type": "code",
   "execution_count": 9,
   "metadata": {},
   "outputs": [
    {
     "name": "stderr",
     "output_type": "stream",
     "text": [
      "UsageError: Line magic function `%autoreload` not found.\n"
     ]
    }
   ],
   "source": [
    "#モジュールを更新した際、notebookに反映させるために使用。\n",
    "#すでにインポートしてあるモジュールの更新が反映される。\n",
    "\n",
    "%autoreload\n"
   ]
  },
  {
   "cell_type": "code",
   "execution_count": 10,
   "metadata": {},
   "outputs": [
    {
     "name": "stdout",
     "output_type": "stream",
     "text": [
      "単勝列数:2\n",
      "枠連列数:2\n",
      "複勝列数:4\n",
      "馬連列数:2\n",
      "馬単列数:2\n",
      "ワイド列数:5\n",
      "三連単列数:2\n",
      "三連複列数:2\n"
     ]
    }
   ],
   "source": [
    "from src.constants._master import Master\n",
    "from src.constants._local_paths import LocalPaths\n",
    "from src.constants._horse_results_cols import HorseResultsCols\n",
    "from src.constants._results_cols import ResultsCols\n",
    "import sys\n",
    "from src.preprocessing._horse_results_processor import HorseResultsProcessor\n",
    "from src.preprocessing._horse_info_processor import HorseInfoProcessor\n",
    "from src.preprocessing._data_merger import DataMerger\n",
    "from src.preprocessing._feature_engineering import FeatureEngineering\n",
    "from src.preprocessing._peds_processor import PedsProcessor\n",
    "from src.preprocessing._race_info_processor import RaceInfoProcessor\n",
    "from src.preprocessing._results_processor import ResultsProcessor\n",
    "from src.preprocessing._return_processor import ReturnProcessor\n",
    "# from src.preprocessing._shutuba_table_processor import ShutubaTableProcessor\n",
    "# from src.preprocessing._shutuba_data_merger import ShutubaDataMerger\n",
    "\n",
    "# 前処理\n",
    "results_processor = ResultsProcessor(filepath=LocalPaths.RAW_RESULTS_PATH)\n",
    "race_info_processor = RaceInfoProcessor(filepath=LocalPaths.RAW_RACE_INFO_PATH)\n",
    "return_processor = ReturnProcessor(filepath=LocalPaths.RAW_RETURN_TABLES_PATH)\n",
    "horse_info_processor = HorseInfoProcessor(filepath=LocalPaths.RAW_HORSE_INFO_PATH)\n",
    "horse_results_processor = HorseResultsProcessor(filepath=LocalPaths.RAW_HORSE_RESULTS_PATH)\n",
    "peds_processor = PedsProcessor(filepath=LocalPaths.RAW_PEDS_PATH)"
   ]
  },
  {
   "cell_type": "markdown",
   "metadata": {},
   "source": [
    "馬の過去成績を集計しつつ、前処理の済みの全てのテーブルをマージする処理"
   ]
  },
  {
   "cell_type": "code",
   "execution_count": 144,
   "metadata": {},
   "outputs": [
    {
     "name": "stdout",
     "output_type": "stream",
     "text": [
      "810\n",
      "20\n"
     ]
    }
   ],
   "source": [
    "import pandas as pd\n",
    "\n",
    "# 表示を省略しないように設定\n",
    "sys.maxsize = sys.maxsize\n",
    "# 現在の最大表示数\n",
    "print(pd.get_option(\"display.max_rows\"))\n",
    "print(pd.get_option(\"display.max_columns\"))\n",
    "\n",
    "# 新しく設定する最大表示数\n",
    "pd.set_option(\"display.max_rows\", 10)\n",
    "pd.set_option(\"display.max_columns\",20 )"
   ]
  },
  {
   "cell_type": "code",
   "execution_count": 11,
   "metadata": {},
   "outputs": [
    {
     "name": "stdout",
     "output_type": "stream",
     "text": [
      "separating horse results by date\n"
     ]
    },
    {
     "data": {
      "application/vnd.jupyter.widget-view+json": {
       "model_id": "03bc7c9fc86d488aaec61fc456241bda",
       "version_major": 2,
       "version_minor": 0
      },
      "text/plain": [
       "  0%|          | 0/116 [00:00<?, ?it/s]"
      ]
     },
     "metadata": {},
     "output_type": "display_data"
    },
    {
     "name": "stdout",
     "output_type": "stream",
     "text": [
      "merging horse_results\n"
     ]
    },
    {
     "data": {
      "application/vnd.jupyter.widget-view+json": {
       "model_id": "3d5d592fdba8414c813797091712f2dd",
       "version_major": 2,
       "version_minor": 0
      },
      "text/plain": [
       "  0%|          | 0/116 [00:00<?, ?it/s]"
      ]
     },
     "metadata": {},
     "output_type": "display_data"
    }
   ],
   "source": [
    "# ターゲットエンコーディング時に「馬の成績」として扱う項目\n",
    "TARGET_COLS = [\n",
    "        HorseResultsCols.RANK,\n",
    "        HorseResultsCols.PRIZE,\n",
    "        HorseResultsCols.RANK_DIFF,\n",
    "        'first_corner',\n",
    "        'final_corner',\n",
    "        'first_to_rank',\n",
    "        'first_to_final',\n",
    "        'final_to_rank',\n",
    "        'time_seconds'\n",
    "        ]\n",
    "# horse_id列と共に、ターゲットエンコーディングの対象にする列\n",
    "GROUP_COLS = [\n",
    "        'course_len',\n",
    "        'race_type',\n",
    "        HorseResultsCols.PLACE\n",
    "        ]\n",
    "\n",
    "data_merger = DataMerger(\n",
    "        results_processor,\n",
    "        race_info_processor,\n",
    "        horse_results_processor,\n",
    "        horse_info_processor,\n",
    "        peds_processor,\n",
    "        target_cols=TARGET_COLS,\n",
    "        group_cols=GROUP_COLS\n",
    ")\n",
    "# 処理実行\n",
    "data_merger.merge()"
   ]
  },
  {
   "cell_type": "code",
   "execution_count": 12,
   "metadata": {},
   "outputs": [
    {
     "data": {
      "text/plain": [
       "<src.preprocessing._data_merger.DataMerger at 0x7f13f45ded50>"
      ]
     },
     "execution_count": 12,
     "metadata": {},
     "output_type": "execute_result"
    }
   ],
   "source": [
    "data_merger"
   ]
  },
  {
   "cell_type": "code",
   "execution_count": 13,
   "metadata": {},
   "outputs": [],
   "source": [
    "from src.preprocessing._feature_engineering import FeatureEngineering\n",
    "\n",
    "\n",
    "# カテゴリ変数の処理\n",
    "feature_engineering = (\n",
    "    FeatureEngineering(data_merger)\n",
    "    .add_interval()\n",
    "    .add_agedays()\n",
    "    .dumminize_sex()\n",
    "    .dumminize_weather()\n",
    "    .dumminize_around()\n",
    "    .dumminize_race_class()\n",
    "    .dumminize_ground_state1()\n",
    "    .dumminize_ground_state2()\n",
    "    .dumminize_race_type()\n",
    "    .dumminize_kaisai()\n",
    "    .encode_breeder_id()\n",
    "    .encode_owner_id()\n",
    "    .encode_trainer_id()\n",
    "    .encode_jockey_id()\n",
    "    .encode_horse_id()\n",
    ")\n",
    "#print(f\"self.__data.columns:{feature_engineering.featured_data.columns}\")\n"
   ]
  },
  {
   "cell_type": "code",
   "execution_count": 14,
   "metadata": {},
   "outputs": [],
   "source": [
    "import pickle\n",
    "# pickle形式でデータを保存\n",
    "with open(\"./data/tmp/featured_data_20240224.pickle\", \"wb\") as f:\n",
    "    pickle.dump(feature_engineering.featured_data, f)"
   ]
  },
  {
   "cell_type": "code",
   "execution_count": 15,
   "metadata": {},
   "outputs": [
    {
     "name": "stdout",
     "output_type": "stream",
     "text": [
      "300\n"
     ]
    }
   ],
   "source": [
    "import pandas as pd\n",
    "results = pd.read_pickle(\"./data/tmp/featured_data_20240224.pickle\")\n",
    "results.sort_values(by=\"race_id\").head()\n",
    "print(results.shape[1])"
   ]
  },
  {
   "cell_type": "markdown",
   "metadata": {},
   "source": [
    "# 4. 学習"
   ]
  },
  {
   "cell_type": "code",
   "execution_count": 16,
   "metadata": {},
   "outputs": [
    {
     "name": "stderr",
     "output_type": "stream",
     "text": [
      "[I 2024-03-02 00:16:53,241] A new study created in memory with name: no-name-ef3bf7bf-f8b7-4d0b-9782-c1bdc67a1e1e\n"
     ]
    },
    {
     "name": "stdout",
     "output_type": "stream",
     "text": [
      "self.__train_data_optuna 297\n",
      "self.__valid_data_optuna 297\n",
      "self.__train_data_optuna 297\n",
      "self.__valid_data_optuna 297\n"
     ]
    },
    {
     "name": "stderr",
     "output_type": "stream",
     "text": [
      "feature_fraction, val_score: 0.556243:  14%|#4        | 1/7 [00:04<00:26,  4.43s/it][I 2024-03-02 00:16:57,678] Trial 0 finished with value: 0.5562427361895903 and parameters: {'feature_fraction': 0.5}. Best is trial 0 with value: 0.5562427361895903.\n",
      "feature_fraction, val_score: 0.556243:  29%|##8       | 2/7 [00:09<00:24,  4.84s/it][I 2024-03-02 00:17:02,794] Trial 1 finished with value: 0.5640934212997887 and parameters: {'feature_fraction': 0.6}. Best is trial 0 with value: 0.5562427361895903.\n",
      "feature_fraction, val_score: 0.556243:  43%|####2     | 3/7 [00:16<00:22,  5.69s/it][I 2024-03-02 00:17:09,506] Trial 2 finished with value: 0.5691777110413245 and parameters: {'feature_fraction': 0.8999999999999999}. Best is trial 0 with value: 0.5562427361895903.\n",
      "feature_fraction, val_score: 0.556243:  57%|#####7    | 4/7 [00:22<00:17,  5.95s/it][I 2024-03-02 00:17:15,844] Trial 3 finished with value: 0.5683558407772905 and parameters: {'feature_fraction': 0.8}. Best is trial 0 with value: 0.5562427361895903.\n",
      "feature_fraction, val_score: 0.556243:  71%|#######1  | 5/7 [00:28<00:11,  5.96s/it][I 2024-03-02 00:17:21,838] Trial 4 finished with value: 0.5683519702640007 and parameters: {'feature_fraction': 0.7}. Best is trial 0 with value: 0.5562427361895903.\n",
      "feature_fraction, val_score: 0.556243:  86%|########5 | 6/7 [00:35<00:06,  6.39s/it][I 2024-03-02 00:17:29,053] Trial 5 finished with value: 0.5653638729336599 and parameters: {'feature_fraction': 1.0}. Best is trial 0 with value: 0.5562427361895903.\n",
      "feature_fraction, val_score: 0.556026: 100%|##########| 7/7 [00:40<00:00,  5.68s/it][I 2024-03-02 00:17:33,257] Trial 6 finished with value: 0.5560264451005127 and parameters: {'feature_fraction': 0.4}. Best is trial 6 with value: 0.5560264451005127.\n",
      "feature_fraction, val_score: 0.556026: 100%|##########| 7/7 [00:40<00:00,  5.72s/it]\n",
      "num_leaves, val_score: 0.556026:   5%|5         | 1/20 [00:13<04:19, 13.68s/it][I 2024-03-02 00:17:46,944] Trial 7 finished with value: 0.9997908092091382 and parameters: {'num_leaves': 140}. Best is trial 7 with value: 0.9997908092091382.\n",
      "num_leaves, val_score: 0.556026:  10%|#         | 2/20 [00:20<02:58,  9.93s/it][I 2024-03-02 00:17:54,242] Trial 8 finished with value: 0.7049770198828388 and parameters: {'num_leaves': 72}. Best is trial 8 with value: 0.7049770198828388.\n",
      "num_leaves, val_score: 0.556026:  15%|#5        | 3/20 [00:31<02:54, 10.29s/it][I 2024-03-02 00:18:04,969] Trial 9 finished with value: 0.8803883964032759 and parameters: {'num_leaves': 110}. Best is trial 8 with value: 0.7049770198828388.\n",
      "num_leaves, val_score: 0.556026:  20%|##        | 4/20 [00:50<03:39, 13.70s/it][I 2024-03-02 00:18:23,894] Trial 10 finished with value: 1.3216110268944659 and parameters: {'num_leaves': 251}. Best is trial 8 with value: 0.7049770198828388.\n",
      "num_leaves, val_score: 0.556026:  25%|##5       | 5/20 [01:08<03:49, 15.33s/it][I 2024-03-02 00:18:42,123] Trial 11 finished with value: 1.3280348359309218 and parameters: {'num_leaves': 254}. Best is trial 8 with value: 0.7049770198828388.\n",
      "num_leaves, val_score: 0.483514:  30%|###       | 6/20 [01:11<02:32, 10.87s/it][I 2024-03-02 00:18:44,321] Trial 12 finished with value: 0.48351405400165864 and parameters: {'num_leaves': 2}. Best is trial 12 with value: 0.48351405400165864.\n",
      "num_leaves, val_score: 0.483514:  35%|###5      | 7/20 [01:13<01:47,  8.24s/it][I 2024-03-02 00:18:47,151] Trial 13 finished with value: 0.5074844037262268 and parameters: {'num_leaves': 14}. Best is trial 12 with value: 0.48351405400165864.\n",
      "num_leaves, val_score: 0.483514:  40%|####      | 8/20 [01:16<01:17,  6.48s/it][I 2024-03-02 00:18:49,863] Trial 14 finished with value: 0.4898308704192023 and parameters: {'num_leaves': 6}. Best is trial 12 with value: 0.48351405400165864.\n",
      "num_leaves, val_score: 0.483514:  45%|####5     | 9/20 [01:20<01:00,  5.53s/it][I 2024-03-02 00:18:53,294] Trial 15 finished with value: 0.4951425998776161 and parameters: {'num_leaves': 9}. Best is trial 12 with value: 0.48351405400165864.\n",
      "num_leaves, val_score: 0.483514:  50%|#####     | 10/20 [01:24<00:53,  5.32s/it][I 2024-03-02 00:18:58,165] Trial 16 finished with value: 0.5915961413013758 and parameters: {'num_leaves': 43}. Best is trial 12 with value: 0.48351405400165864.\n",
      "num_leaves, val_score: 0.483514:  55%|#####5    | 11/20 [01:36<01:04,  7.21s/it][I 2024-03-02 00:19:09,660] Trial 17 finished with value: 0.7026165891031002 and parameters: {'num_leaves': 71}. Best is trial 12 with value: 0.48351405400165864.\n",
      "num_leaves, val_score: 0.483514:  60%|######    | 12/20 [01:52<01:18,  9.78s/it][I 2024-03-02 00:19:25,321] Trial 18 finished with value: 1.1991105069727044 and parameters: {'num_leaves': 181}. Best is trial 12 with value: 0.48351405400165864.\n",
      "num_leaves, val_score: 0.482011:  65%|######5   | 13/20 [01:53<00:51,  7.30s/it][I 2024-03-02 00:19:26,895] Trial 19 finished with value: 0.4820111698656055 and parameters: {'num_leaves': 3}. Best is trial 19 with value: 0.4820111698656055.\n",
      "num_leaves, val_score: 0.482011:  70%|#######   | 14/20 [01:59<00:40,  6.72s/it][I 2024-03-02 00:19:32,283] Trial 20 finished with value: 0.6228310165814346 and parameters: {'num_leaves': 51}. Best is trial 19 with value: 0.4820111698656055.\n",
      "num_leaves, val_score: 0.482011:  75%|#######5  | 15/20 [02:00<00:25,  5.19s/it][I 2024-03-02 00:19:33,927] Trial 21 finished with value: 0.48201116986560555 and parameters: {'num_leaves': 3}. Best is trial 19 with value: 0.4820111698656055.\n",
      "num_leaves, val_score: 0.482011:  80%|########  | 16/20 [02:07<00:22,  5.68s/it][I 2024-03-02 00:19:40,760] Trial 22 finished with value: 0.579007017213466 and parameters: {'num_leaves': 37}. Best is trial 19 with value: 0.4820111698656055.\n",
      "num_leaves, val_score: 0.482011:  85%|########5 | 17/20 [02:16<00:20,  6.79s/it][I 2024-03-02 00:19:50,119] Trial 23 finished with value: 0.7967379610123446 and parameters: {'num_leaves': 95}. Best is trial 19 with value: 0.4820111698656055.\n",
      "num_leaves, val_score: 0.482011:  90%|######### | 18/20 [02:18<00:10,  5.39s/it][I 2024-03-02 00:19:52,251] Trial 24 finished with value: 0.48983087041920226 and parameters: {'num_leaves': 6}. Best is trial 19 with value: 0.4820111698656055.\n",
      "num_leaves, val_score: 0.482011:  95%|#########5| 19/20 [02:23<00:05,  5.15s/it][I 2024-03-02 00:19:56,831] Trial 25 finished with value: 0.571089386461041 and parameters: {'num_leaves': 34}. Best is trial 19 with value: 0.4820111698656055.\n",
      "num_leaves, val_score: 0.482011: 100%|##########| 20/20 [02:36<00:00,  7.60s/it][I 2024-03-02 00:20:10,158] Trial 26 finished with value: 1.0600084764889244 and parameters: {'num_leaves': 153}. Best is trial 19 with value: 0.4820111698656055.\n",
      "num_leaves, val_score: 0.482011: 100%|##########| 20/20 [02:36<00:00,  7.84s/it]\n",
      "bagging, val_score: 0.482011:  10%|#         | 1/10 [00:01<00:15,  1.78s/it][I 2024-03-02 00:20:11,939] Trial 27 finished with value: 0.48683367926709536 and parameters: {'bagging_fraction': 0.5099340599987009, 'bagging_freq': 2}. Best is trial 27 with value: 0.48683367926709536.\n",
      "bagging, val_score: 0.481477:  20%|##        | 2/10 [00:03<00:13,  1.72s/it][I 2024-03-02 00:20:13,628] Trial 28 finished with value: 0.48147696028743403 and parameters: {'bagging_fraction': 0.9955167967939857, 'bagging_freq': 7}. Best is trial 28 with value: 0.48147696028743403.\n",
      "bagging, val_score: 0.481477:  30%|###       | 3/10 [00:05<00:11,  1.70s/it][I 2024-03-02 00:20:15,301] Trial 29 finished with value: 0.4817000582626533 and parameters: {'bagging_fraction': 0.9962938651487799, 'bagging_freq': 7}. Best is trial 28 with value: 0.48147696028743403.\n",
      "bagging, val_score: 0.481477:  40%|####      | 4/10 [00:07<00:11,  1.85s/it][I 2024-03-02 00:20:17,367] Trial 30 finished with value: 0.4822422982813463 and parameters: {'bagging_fraction': 0.9691765577743612, 'bagging_freq': 7}. Best is trial 28 with value: 0.48147696028743403.\n",
      "bagging, val_score: 0.481477:  50%|#####     | 5/10 [00:09<00:09,  1.86s/it][I 2024-03-02 00:20:19,242] Trial 31 finished with value: 0.48211655480394955 and parameters: {'bagging_fraction': 0.9912074372935157, 'bagging_freq': 7}. Best is trial 28 with value: 0.48147696028743403.\n",
      "bagging, val_score: 0.481477:  60%|######    | 6/10 [00:10<00:06,  1.72s/it][I 2024-03-02 00:20:20,693] Trial 32 finished with value: 0.4828891048059861 and parameters: {'bagging_fraction': 0.8338183114707731, 'bagging_freq': 6}. Best is trial 28 with value: 0.48147696028743403.\n",
      "bagging, val_score: 0.481477:  70%|#######   | 7/10 [00:11<00:04,  1.63s/it][I 2024-03-02 00:20:22,138] Trial 33 finished with value: 0.48293444730053586 and parameters: {'bagging_fraction': 0.7658176012154596, 'bagging_freq': 4}. Best is trial 28 with value: 0.48147696028743403.\n",
      "bagging, val_score: 0.481477:  80%|########  | 8/10 [00:13<00:03,  1.63s/it][I 2024-03-02 00:20:23,783] Trial 34 finished with value: 0.4819100846096924 and parameters: {'bagging_fraction': 0.9967033320980143, 'bagging_freq': 5}. Best is trial 28 with value: 0.48147696028743403.\n",
      "bagging, val_score: 0.481433:  90%|######### | 9/10 [00:15<00:01,  1.70s/it][I 2024-03-02 00:20:25,619] Trial 35 finished with value: 0.48143257317503585 and parameters: {'bagging_fraction': 0.9989115423341735, 'bagging_freq': 5}. Best is trial 35 with value: 0.48143257317503585.\n",
      "bagging, val_score: 0.481433: 100%|##########| 10/10 [00:17<00:00,  1.73s/it][I 2024-03-02 00:20:27,434] Trial 36 finished with value: 0.48159224658594735 and parameters: {'bagging_fraction': 0.9939379204997848, 'bagging_freq': 5}. Best is trial 35 with value: 0.48143257317503585.\n",
      "bagging, val_score: 0.481433: 100%|##########| 10/10 [00:17<00:00,  1.73s/it]\n",
      "feature_fraction_stage2, val_score: 0.480412:  33%|###3      | 1/3 [00:01<00:03,  1.77s/it][I 2024-03-02 00:20:29,204] Trial 37 finished with value: 0.4804116555107731 and parameters: {'feature_fraction': 0.44800000000000006}. Best is trial 37 with value: 0.4804116555107731.\n",
      "feature_fraction_stage2, val_score: 0.480412:  67%|######6   | 2/3 [00:03<00:01,  1.81s/it][I 2024-03-02 00:20:31,048] Trial 38 finished with value: 0.4810997086399288 and parameters: {'feature_fraction': 0.48000000000000004}. Best is trial 37 with value: 0.4804116555107731.\n",
      "feature_fraction_stage2, val_score: 0.480412: 100%|##########| 3/3 [00:05<00:00,  1.78s/it][I 2024-03-02 00:20:32,789] Trial 39 finished with value: 0.4822458670350828 and parameters: {'feature_fraction': 0.41600000000000004}. Best is trial 37 with value: 0.4804116555107731.\n",
      "feature_fraction_stage2, val_score: 0.480412: 100%|##########| 3/3 [00:05<00:00,  1.78s/it]\n",
      "regularization_factors, val_score: 0.480412:   5%|5         | 1/20 [00:02<00:38,  2.03s/it][I 2024-03-02 00:20:34,821] Trial 40 finished with value: 0.48042950744442464 and parameters: {'lambda_l1': 4.45667433674681e-07, 'lambda_l2': 4.2917482574824276e-07}. Best is trial 40 with value: 0.48042950744442464.\n",
      "regularization_factors, val_score: 0.480412:  10%|#         | 2/20 [00:04<00:35,  2.00s/it][I 2024-03-02 00:20:36,796] Trial 41 finished with value: 0.4804295076248061 and parameters: {'lambda_l1': 1.1183531548969373e-07, 'lambda_l2': 1.825152176681727e-07}. Best is trial 40 with value: 0.48042950744442464.\n",
      "regularization_factors, val_score: 0.480412:  15%|#5        | 3/20 [00:05<00:33,  1.99s/it][I 2024-03-02 00:20:38,783] Trial 42 finished with value: 0.48044513898576036 and parameters: {'lambda_l1': 1.455032697305869e-07, 'lambda_l2': 1.6247733464520866e-07}. Best is trial 40 with value: 0.48042950744442464.\n",
      "regularization_factors, val_score: 0.480412:  20%|##        | 4/20 [00:07<00:31,  1.99s/it][I 2024-03-02 00:20:40,771] Trial 43 finished with value: 0.48042950764734255 and parameters: {'lambda_l1': 8.757761439044632e-08, 'lambda_l2': 1.1068300320940581e-07}. Best is trial 40 with value: 0.48042950744442464.\n",
      "regularization_factors, val_score: 0.480412:  25%|##5       | 5/20 [00:10<00:30,  2.00s/it][I 2024-03-02 00:20:42,797] Trial 44 finished with value: 0.480411655429814 and parameters: {'lambda_l1': 1.6699915501672861e-07, 'lambda_l2': 1.2562409992184724e-07}. Best is trial 44 with value: 0.480411655429814.\n",
      "regularization_factors, val_score: 0.480412:  30%|###       | 6/20 [00:11<00:27,  1.99s/it][I 2024-03-02 00:20:44,775] Trial 45 finished with value: 0.48041165544059444 and parameters: {'lambda_l1': 1.172506374210787e-07, 'lambda_l2': 1.3105273186395897e-07}. Best is trial 44 with value: 0.480411655429814.\n",
      "regularization_factors, val_score: 0.480412:  35%|###5      | 7/20 [00:14<00:26,  2.02s/it][I 2024-03-02 00:20:46,833] Trial 46 finished with value: 0.4804295076118143 and parameters: {'lambda_l1': 1.7247743906192594e-07, 'lambda_l2': 1.616252418064723e-07}. Best is trial 44 with value: 0.480411655429814.\n",
      "regularization_factors, val_score: 0.480405:  40%|####      | 8/20 [00:16<00:27,  2.28s/it][I 2024-03-02 00:20:49,691] Trial 47 finished with value: 0.48040544005844843 and parameters: {'lambda_l1': 2.8940909261988104e-07, 'lambda_l2': 1.7441651425535648e-07}. Best is trial 47 with value: 0.48040544005844843.\n",
      "regularization_factors, val_score: 0.480405:  45%|####5     | 9/20 [00:19<00:25,  2.31s/it][I 2024-03-02 00:20:52,074] Trial 48 finished with value: 0.48044511576466215 and parameters: {'lambda_l1': 4.2521419564268224e-05, 'lambda_l2': 3.616527317383224e-05}. Best is trial 47 with value: 0.48040544005844843.\n",
      "regularization_factors, val_score: 0.480405:  50%|#####     | 10/20 [00:21<00:24,  2.42s/it][I 2024-03-02 00:20:54,733] Trial 49 finished with value: 0.4804116513168464 and parameters: {'lambda_l1': 1.3569442689196268e-05, 'lambda_l2': 1.5356542756821645e-08}. Best is trial 47 with value: 0.48040544005844843.\n",
      "regularization_factors, val_score: 0.480405:  55%|#####5    | 11/20 [00:24<00:22,  2.55s/it][I 2024-03-02 00:20:57,569] Trial 50 finished with value: 0.48085369437311953 and parameters: {'lambda_l1': 7.120792380174286e-05, 'lambda_l2': 1.163567405573063}. Best is trial 47 with value: 0.48040544005844843.\n",
      "regularization_factors, val_score: 0.480405:  60%|######    | 12/20 [00:26<00:18,  2.37s/it][I 2024-03-02 00:20:59,534] Trial 51 finished with value: 0.48042950694086184 and parameters: {'lambda_l1': 2.38852547025252e-06, 'lambda_l2': 1.0654061614199348e-08}. Best is trial 47 with value: 0.48040544005844843.\n",
      "regularization_factors, val_score: 0.480405:  65%|######5   | 13/20 [00:28<00:16,  2.34s/it][I 2024-03-02 00:21:01,787] Trial 52 finished with value: 0.4804435542159061 and parameters: {'lambda_l1': 7.436276796958446e-06, 'lambda_l2': 1.0250131243558328e-08}. Best is trial 47 with value: 0.48040544005844843.\n",
      "regularization_factors, val_score: 0.480405:  70%|#######   | 14/20 [00:31<00:13,  2.24s/it][I 2024-03-02 00:21:03,812] Trial 53 finished with value: 0.4819945270947557 and parameters: {'lambda_l1': 0.862682813054414, 'lambda_l2': 1.180499014845902e-08}. Best is trial 47 with value: 0.48040544005844843.\n",
      "regularization_factors, val_score: 0.480405:  75%|#######5  | 15/20 [00:33<00:11,  2.31s/it][I 2024-03-02 00:21:06,277] Trial 54 finished with value: 0.4804295054367114 and parameters: {'lambda_l1': 2.7853713758488474e-06, 'lambda_l2': 5.16746666039293e-06}. Best is trial 47 with value: 0.48040544005844843.\n",
      "regularization_factors, val_score: 0.480405:  80%|########  | 16/20 [00:35<00:08,  2.19s/it][I 2024-03-02 00:21:08,189] Trial 55 finished with value: 0.48042950371594306 and parameters: {'lambda_l1': 2.001460287104498e-06, 'lambda_l2': 1.2389209071958662e-05}. Best is trial 47 with value: 0.48040544005844843.\n",
      "regularization_factors, val_score: 0.480405:  85%|########5 | 17/20 [00:38<00:07,  2.36s/it][I 2024-03-02 00:21:10,960] Trial 56 finished with value: 0.4804116547891755 and parameters: {'lambda_l1': 1.1784152352321075e-08, 'lambda_l2': 2.7420779228998126e-06}. Best is trial 47 with value: 0.48040544005844843.\n",
      "regularization_factors, val_score: 0.480405:  90%|######### | 18/20 [00:40<00:04,  2.23s/it][I 2024-03-02 00:21:12,866] Trial 57 finished with value: 0.480967150309773 and parameters: {'lambda_l1': 1.518213729678509e-08, 'lambda_l2': 0.004311127062807994}. Best is trial 47 with value: 0.48040544005844843.\n",
      "regularization_factors, val_score: 0.480405:  95%|#########5| 19/20 [00:42<00:02,  2.17s/it][I 2024-03-02 00:21:14,918] Trial 58 finished with value: 0.48042692969577877 and parameters: {'lambda_l1': 1.3591664252667806e-08, 'lambda_l2': 2.201732642705798e-06}. Best is trial 47 with value: 0.48040544005844843.\n",
      "regularization_factors, val_score: 0.480405: 100%|##########| 20/20 [00:44<00:00,  2.11s/it][I 2024-03-02 00:21:16,870] Trial 59 finished with value: 0.4815583618025201 and parameters: {'lambda_l1': 0.010594572355518188, 'lambda_l2': 1.149372596880762e-06}. Best is trial 47 with value: 0.48040544005844843.\n",
      "regularization_factors, val_score: 0.480405: 100%|##########| 20/20 [00:44<00:00,  2.20s/it]\n",
      "min_child_samples, val_score: 0.480405:  20%|##        | 1/5 [00:02<00:10,  2.64s/it][I 2024-03-02 00:21:19,516] Trial 60 finished with value: 0.4818602125111989 and parameters: {'min_child_samples': 5}. Best is trial 60 with value: 0.4818602125111989.\n",
      "min_child_samples, val_score: 0.480405:  40%|####      | 2/5 [00:04<00:06,  2.22s/it][I 2024-03-02 00:21:21,436] Trial 61 finished with value: 0.4819540790544683 and parameters: {'min_child_samples': 50}. Best is trial 60 with value: 0.4818602125111989.\n",
      "min_child_samples, val_score: 0.480405:  60%|######    | 3/5 [00:07<00:04,  2.42s/it][I 2024-03-02 00:21:24,088] Trial 62 finished with value: 0.48187264211766256 and parameters: {'min_child_samples': 25}. Best is trial 60 with value: 0.4818602125111989.\n",
      "min_child_samples, val_score: 0.480405:  80%|########  | 4/5 [00:09<00:02,  2.22s/it][I 2024-03-02 00:21:26,006] Trial 63 finished with value: 0.4817184075900455 and parameters: {'min_child_samples': 10}. Best is trial 63 with value: 0.4817184075900455.\n",
      "min_child_samples, val_score: 0.480405: 100%|##########| 5/5 [00:11<00:00,  2.32s/it][I 2024-03-02 00:21:28,511] Trial 64 finished with value: 0.4823518178205615 and parameters: {'min_child_samples': 100}. Best is trial 63 with value: 0.4817184075900455.\n",
      "min_child_samples, val_score: 0.480405: 100%|##########| 5/5 [00:11<00:00,  2.33s/it]\n"
     ]
    },
    {
     "name": "stdout",
     "output_type": "stream",
     "text": [
      "self.__train_data_optuna 297\n",
      "self.__valid_data_optuna 297\n",
      "self.__train_data_optuna 297\n",
      "self.__valid_data_optuna 297\n",
      "self.__train_data_optuna 297\n",
      "self.__valid_data_optuna 297\n",
      "self.__train_data_optuna 297\n",
      "self.__valid_data_optuna 297\n",
      "self.__X_test_data 297\n",
      "self.__X_test_data 297\n",
      "self.__train_data_optuna 297\n",
      "self.__valid_data_optuna 297\n",
      "AUC: 0.748(train), 0.715(test)\n"
     ]
    }
   ],
   "source": [
    "from src.training._keiba_ai_factory import KeibaAIFactory\n",
    "from src.preprocessing._feature_engineering import FeatureEngineering\n",
    "\n",
    "keiba_ai = KeibaAIFactory.create(feature_engineering.featured_data)  # モデル作成\n",
    "keiba_ai.train_with_tuning()  # パラメータチューニングをして学習"
   ]
  },
  {
   "cell_type": "code",
   "execution_count": 17,
   "metadata": {},
   "outputs": [
    {
     "data": {
      "text/html": [
       "<div>\n",
       "<style scoped>\n",
       "    .dataframe tbody tr th:only-of-type {\n",
       "        vertical-align: middle;\n",
       "    }\n",
       "\n",
       "    .dataframe tbody tr th {\n",
       "        vertical-align: top;\n",
       "    }\n",
       "\n",
       "    .dataframe thead th {\n",
       "        text-align: right;\n",
       "    }\n",
       "</style>\n",
       "<table border=\"1\" class=\"dataframe\">\n",
       "  <thead>\n",
       "    <tr style=\"text-align: right;\">\n",
       "      <th></th>\n",
       "      <th>features</th>\n",
       "      <th>importance</th>\n",
       "    </tr>\n",
       "  </thead>\n",
       "  <tbody>\n",
       "    <tr>\n",
       "      <th>219</th>\n",
       "      <td>219</td>\n",
       "      <td>15</td>\n",
       "    </tr>\n",
       "    <tr>\n",
       "      <th>9</th>\n",
       "      <td>9</td>\n",
       "      <td>12</td>\n",
       "    </tr>\n",
       "    <tr>\n",
       "      <th>69</th>\n",
       "      <td>69</td>\n",
       "      <td>9</td>\n",
       "    </tr>\n",
       "    <tr>\n",
       "      <th>8</th>\n",
       "      <td>8</td>\n",
       "      <td>9</td>\n",
       "    </tr>\n",
       "    <tr>\n",
       "      <th>204</th>\n",
       "      <td>204</td>\n",
       "      <td>9</td>\n",
       "    </tr>\n",
       "    <tr>\n",
       "      <th>33</th>\n",
       "      <td>33</td>\n",
       "      <td>8</td>\n",
       "    </tr>\n",
       "    <tr>\n",
       "      <th>205</th>\n",
       "      <td>205</td>\n",
       "      <td>8</td>\n",
       "    </tr>\n",
       "    <tr>\n",
       "      <th>3</th>\n",
       "      <td>3</td>\n",
       "      <td>7</td>\n",
       "    </tr>\n",
       "    <tr>\n",
       "      <th>5</th>\n",
       "      <td>5</td>\n",
       "      <td>7</td>\n",
       "    </tr>\n",
       "    <tr>\n",
       "      <th>125</th>\n",
       "      <td>125</td>\n",
       "      <td>6</td>\n",
       "    </tr>\n",
       "    <tr>\n",
       "      <th>51</th>\n",
       "      <td>51</td>\n",
       "      <td>5</td>\n",
       "    </tr>\n",
       "    <tr>\n",
       "      <th>60</th>\n",
       "      <td>60</td>\n",
       "      <td>5</td>\n",
       "    </tr>\n",
       "    <tr>\n",
       "      <th>34</th>\n",
       "      <td>34</td>\n",
       "      <td>5</td>\n",
       "    </tr>\n",
       "    <tr>\n",
       "      <th>18</th>\n",
       "      <td>18</td>\n",
       "      <td>5</td>\n",
       "    </tr>\n",
       "    <tr>\n",
       "      <th>218</th>\n",
       "      <td>218</td>\n",
       "      <td>5</td>\n",
       "    </tr>\n",
       "    <tr>\n",
       "      <th>163</th>\n",
       "      <td>163</td>\n",
       "      <td>5</td>\n",
       "    </tr>\n",
       "    <tr>\n",
       "      <th>132</th>\n",
       "      <td>132</td>\n",
       "      <td>5</td>\n",
       "    </tr>\n",
       "    <tr>\n",
       "      <th>87</th>\n",
       "      <td>87</td>\n",
       "      <td>4</td>\n",
       "    </tr>\n",
       "    <tr>\n",
       "      <th>70</th>\n",
       "      <td>70</td>\n",
       "      <td>4</td>\n",
       "    </tr>\n",
       "    <tr>\n",
       "      <th>7</th>\n",
       "      <td>7</td>\n",
       "      <td>4</td>\n",
       "    </tr>\n",
       "  </tbody>\n",
       "</table>\n",
       "</div>"
      ],
      "text/plain": [
       "     features  importance\n",
       "219       219          15\n",
       "9           9          12\n",
       "69         69           9\n",
       "8           8           9\n",
       "204       204           9\n",
       "33         33           8\n",
       "205       205           8\n",
       "3           3           7\n",
       "5           5           7\n",
       "125       125           6\n",
       "51         51           5\n",
       "60         60           5\n",
       "34         34           5\n",
       "18         18           5\n",
       "218       218           5\n",
       "163       163           5\n",
       "132       132           5\n",
       "87         87           4\n",
       "70         70           4\n",
       "7           7           4"
      ]
     },
     "execution_count": 17,
     "metadata": {},
     "output_type": "execute_result"
    }
   ],
   "source": [
    "from src.training._keiba_ai import KeibaAI\n",
    "\n",
    "# 特徴量の重要度\n",
    "keiba_ai.feature_importance(20)"
   ]
  },
  {
   "cell_type": "code",
   "execution_count": 18,
   "metadata": {},
   "outputs": [
    {
     "data": {
      "text/plain": [
       "{'boosting_type': 'gbdt',\n",
       " 'class_weight': None,\n",
       " 'colsample_bytree': 1.0,\n",
       " 'importance_type': 'split',\n",
       " 'learning_rate': 0.1,\n",
       " 'max_depth': -1,\n",
       " 'min_child_samples': 20,\n",
       " 'min_child_weight': 0.001,\n",
       " 'min_split_gain': 0.0,\n",
       " 'n_estimators': 100,\n",
       " 'n_jobs': None,\n",
       " 'num_leaves': 3,\n",
       " 'objective': 'binary',\n",
       " 'random_state': None,\n",
       " 'reg_alpha': 0.0,\n",
       " 'reg_lambda': 0.0,\n",
       " 'subsample': 1.0,\n",
       " 'subsample_for_bin': 200000,\n",
       " 'subsample_freq': 0,\n",
       " 'verbose': -1,\n",
       " 'feature_pre_filter': False,\n",
       " 'lambda_l1': 2.8940909261988104e-07,\n",
       " 'lambda_l2': 1.7441651425535648e-07,\n",
       " 'feature_fraction': 0.44800000000000006,\n",
       " 'bagging_fraction': 0.9989115423341735,\n",
       " 'bagging_freq': 5}"
      ]
     },
     "execution_count": 18,
     "metadata": {},
     "output_type": "execute_result"
    }
   ],
   "source": [
    "#ハイパーパラメータの確認\n",
    "keiba_ai.get_params()"
   ]
  },
  {
   "cell_type": "code",
   "execution_count": 19,
   "metadata": {},
   "outputs": [
    {
     "name": "stdout",
     "output_type": "stream",
     "text": [
      "self.__train_data_optuna 297\n",
      "self.__valid_data_optuna 297\n",
      "self.__train_data_optuna 297\n",
      "self.__valid_data_optuna 297\n",
      "self.__train_data_optuna 297\n",
      "self.__valid_data_optuna 297\n",
      "self.__train_data_optuna 297\n",
      "self.__valid_data_optuna 297\n",
      "self.__X_test_data 297\n",
      "self.__X_test_data 297\n",
      "self.__train_data_optuna 297\n",
      "self.__valid_data_optuna 297\n",
      "AUC: 0.748(train), 0.715(test)\n"
     ]
    }
   ],
   "source": [
    "#チューニングしないで学習\n",
    "keiba_ai.train_without_tuning()"
   ]
  },
  {
   "cell_type": "code",
   "execution_count": 20,
   "metadata": {},
   "outputs": [],
   "source": [
    "from src.training._keiba_ai_factory import KeibaAIFactory\n",
    "\n",
    "# モデル保存。models/(実行した日付)/(version_name).pickleに、モデルとデータセットが保存される。\n",
    "KeibaAIFactory.save(keiba_ai, version_name=\"basemodel_2023_2024\")"
   ]
  },
  {
   "cell_type": "code",
   "execution_count": 21,
   "metadata": {},
   "outputs": [],
   "source": [
    "# モデルロード\n",
    "keiba_ai = KeibaAIFactory.load(\"models/20240224/basemodel_2023_2024.pickle\")\n",
    "keiba_ai.set_params(keiba_ai.get_params())"
   ]
  },
  {
   "cell_type": "markdown",
   "metadata": {},
   "source": [
    "# 5. シミュレーション"
   ]
  },
  {
   "cell_type": "code",
   "execution_count": 9,
   "metadata": {},
   "outputs": [],
   "source": [
    "%autoreload"
   ]
  },
  {
   "cell_type": "code",
   "execution_count": 22,
   "metadata": {},
   "outputs": [],
   "source": [
    "from src.simulation._simulator import Simulator\n",
    "\n",
    "# シミュレーターに馬券をセット\n",
    "simulator = Simulator(return_processor)"
   ]
  },
  {
   "cell_type": "code",
   "execution_count": 23,
   "metadata": {},
   "outputs": [
    {
     "name": "stdout",
     "output_type": "stream",
     "text": [
      "単勝列数:2\n",
      "枠連列数:2\n",
      "複勝列数:4\n",
      "馬連列数:2\n",
      "馬単列数:2\n",
      "ワイド列数:5\n",
      "三連単列数:2\n",
      "三連複列数:2\n",
      "単勝列数:2\n",
      "枠連列数:2\n",
      "複勝列数:4\n",
      "馬連列数:2\n",
      "馬単列数:2\n",
      "ワイド列数:5\n",
      "三連単列数:2\n",
      "三連複列数:2\n",
      "               win_0 win_1  return_0  return_1\n",
      "race_id                                       \n",
      "202301010102  [6, 7]     0       510         0\n",
      "202301010103  [3, 7]     0       420         0\n",
      "202301010104  [1, 6]     0      1160         0\n",
      "202301010105  [4, 8]     0       680         0\n",
      "202301010106  [3, 4]     0      3430         0\n",
      "...              ...   ...       ...       ...\n",
      "202410010608  [3, 4]     0      1860         0\n",
      "202410010609  [1, 8]     0      2210         0\n",
      "202410010610  [2, 5]     0      2180         0\n",
      "202410010611  [6, 6]     0      4790         0\n",
      "202410010612  [3, 7]     0       830         0\n",
      "\n",
      "[3559 rows x 4 columns]\n",
      "has NaN ?:False\n",
      "win_0       object\n",
      "win_1       object\n",
      "return_0     int64\n",
      "return_1     int64\n",
      "dtype: object\n"
     ]
    }
   ],
   "source": [
    "from src.preprocessing._return_processor import ReturnProcessor\n",
    "\n",
    "\n",
    "rt = ReturnProcessor(\"./data/html/race_return/return_tables.pkl\")\n",
    "data = rt._preprocess()\n",
    "# キーが\"tansho\"の要素を取得\n",
    "value = data.get(\"wakuren\")\n",
    "# non_numeric = value[value.apply(lambda row: any(isinstance(cell, str) and not cell.isdigit() for cell in row), axis=1)]\n",
    "# br_counts = non_numeric.apply(lambda row: sum(cell.count(\"br\") for cell in row if isinstance(cell, str)))\n",
    "\n",
    "\n",
    "# 各行ごとに\"br\"の数をカウントする関数\n",
    "# def count_br(row):\n",
    "#    return sum(cell.count(\"br\") for cell in row if isinstance(cell, str))\n",
    "\n",
    "\n",
    "# print(value[\"br_count\"].value_counts())\n",
    "print(value[value[\"win_1\"] == 0])\n",
    "has_nan = value.isna().any().any()\n",
    "print(f\"has NaN ?:{has_nan}\")\n",
    "print(value.dtypes)"
   ]
  },
  {
   "cell_type": "code",
   "execution_count": 48,
   "metadata": {},
   "outputs": [
    {
     "ename": "ValueError",
     "evalue": "Number of features of the model must match the input. Model n_features_ is 297 and input n_features is 298",
     "output_type": "error",
     "traceback": [
      "\u001b[0;31m---------------------------------------------------------------------------\u001b[0m",
      "\u001b[0;31mValueError\u001b[0m                                Traceback (most recent call last)",
      "Cell \u001b[0;32mIn[48], line 6\u001b[0m\n\u001b[1;32m      2\u001b[0m \u001b[38;5;28;01mfrom\u001b[39;00m \u001b[38;5;21;01msrc\u001b[39;00m\u001b[38;5;21;01m.\u001b[39;00m\u001b[38;5;21;01mpolicies\u001b[39;00m\u001b[38;5;21;01m.\u001b[39;00m\u001b[38;5;21;01m_score_policy\u001b[39;00m \u001b[38;5;28;01mimport\u001b[39;00m BasicScorePolicy\n\u001b[1;32m      5\u001b[0m \u001b[38;5;66;03m# スコアテーブルを取得\u001b[39;00m\n\u001b[0;32m----> 6\u001b[0m score_table \u001b[38;5;241m=\u001b[39m \u001b[43mkeiba_ai\u001b[49m\u001b[38;5;241;43m.\u001b[39;49m\u001b[43mcalc_score\u001b[49m\u001b[43m(\u001b[49m\u001b[43mkeiba_ai\u001b[49m\u001b[38;5;241;43m.\u001b[39;49m\u001b[43mdatasets\u001b[49m\u001b[38;5;241;43m.\u001b[39;49m\u001b[43mX_test\u001b[49m\u001b[43m,\u001b[49m\u001b[43m \u001b[49m\u001b[43mBasicScorePolicy\u001b[49m\u001b[43m)\u001b[49m\n\u001b[1;32m      7\u001b[0m \u001b[38;5;28mprint\u001b[39m(\u001b[38;5;124m\"\u001b[39m\u001b[38;5;124mshape:\u001b[39m\u001b[38;5;124m\"\u001b[39m,keiba_ai\u001b[38;5;241m.\u001b[39mdatasets\u001b[38;5;241m.\u001b[39mX_test\u001b[38;5;241m.\u001b[39mshape[\u001b[38;5;241m1\u001b[39m])\n\u001b[1;32m      8\u001b[0m \u001b[38;5;28mprint\u001b[39m(\u001b[38;5;124mf\u001b[39m\u001b[38;5;124m\"\u001b[39m\u001b[38;5;124mscore:\u001b[39m\u001b[38;5;132;01m{\u001b[39;00mscore_table\u001b[38;5;241m.\u001b[39mdtypes\u001b[38;5;132;01m}\u001b[39;00m\u001b[38;5;124m\"\u001b[39m)\n",
      "File \u001b[0;32m~/src/keibam/src/training/_keiba_ai.py:55\u001b[0m, in \u001b[0;36mKeibaAI.calc_score\u001b[0;34m(self, X, score_policy)\u001b[0m\n\u001b[1;32m     51\u001b[0m \u001b[38;5;28;01mdef\u001b[39;00m \u001b[38;5;21mcalc_score\u001b[39m(\u001b[38;5;28mself\u001b[39m, X: pd\u001b[38;5;241m.\u001b[39mDataFrame, score_policy: AbstractScorePolicy):\n\u001b[1;32m     52\u001b[0m \u001b[38;5;250m    \u001b[39m\u001b[38;5;124;03m\"\"\"\u001b[39;00m\n\u001b[1;32m     53\u001b[0m \u001b[38;5;124;03m    score_policyを元に、馬の「勝ちやすさスコア」を計算する。\u001b[39;00m\n\u001b[1;32m     54\u001b[0m \u001b[38;5;124;03m    \"\"\"\u001b[39;00m\n\u001b[0;32m---> 55\u001b[0m     \u001b[38;5;28;01mreturn\u001b[39;00m \u001b[43mscore_policy\u001b[49m\u001b[38;5;241;43m.\u001b[39;49m\u001b[43mcalc\u001b[49m\u001b[43m(\u001b[49m\u001b[38;5;28;43mself\u001b[39;49m\u001b[38;5;241;43m.\u001b[39;49m\u001b[43m__model_wrapper\u001b[49m\u001b[38;5;241;43m.\u001b[39;49m\u001b[43mlgb_model\u001b[49m\u001b[43m,\u001b[49m\u001b[43m \u001b[49m\u001b[43mX\u001b[49m\u001b[43m)\u001b[49m\n",
      "File \u001b[0;32m~/src/keibam/src/policies/_score_policy.py:47\u001b[0m, in \u001b[0;36mBasicScorePolicy.calc\u001b[0;34m(model, X)\u001b[0m\n\u001b[1;32m     45\u001b[0m \u001b[38;5;129m@staticmethod\u001b[39m\n\u001b[1;32m     46\u001b[0m \u001b[38;5;28;01mdef\u001b[39;00m \u001b[38;5;21mcalc\u001b[39m(model, X: pd\u001b[38;5;241m.\u001b[39mDataFrame) \u001b[38;5;241m-\u001b[39m\u001b[38;5;241m>\u001b[39m pd\u001b[38;5;241m.\u001b[39mDataFrame:\n\u001b[0;32m---> 47\u001b[0m     \u001b[38;5;28;01mreturn\u001b[39;00m \u001b[43m_calc\u001b[49m\u001b[43m(\u001b[49m\u001b[43mmodel\u001b[49m\u001b[43m,\u001b[49m\u001b[43m \u001b[49m\u001b[43mX\u001b[49m\u001b[43m)\u001b[49m\n",
      "File \u001b[0;32m~/src/keibam/src/policies/_score_policy.py:18\u001b[0m, in \u001b[0;36m_calc\u001b[0;34m(model, X)\u001b[0m\n\u001b[1;32m     15\u001b[0m score_table \u001b[38;5;241m=\u001b[39m X[ResultsCols\u001b[38;5;241m.\u001b[39mUMABAN]\u001b[38;5;241m.\u001b[39mcopy()\n\u001b[1;32m     16\u001b[0m \u001b[38;5;66;03m# score_table.set_index(\"race_id\", inplace=True)\u001b[39;00m\n\u001b[1;32m     17\u001b[0m \u001b[38;5;66;03m# print(f\"score_tabel_copy: {score_table}\")\u001b[39;00m\n\u001b[0;32m---> 18\u001b[0m score \u001b[38;5;241m=\u001b[39m \u001b[43mmodel\u001b[49m\u001b[38;5;241;43m.\u001b[39;49m\u001b[43mpredict_proba\u001b[49m\u001b[43m(\u001b[49m\u001b[43mX\u001b[49m\u001b[43m)\u001b[49m[:, \u001b[38;5;241m1\u001b[39m]\n\u001b[1;32m     19\u001b[0m score_table[_SCORE] \u001b[38;5;241m=\u001b[39m score\n\u001b[1;32m     20\u001b[0m \u001b[38;5;28;01mreturn\u001b[39;00m score_table\n",
      "File \u001b[0;32m~/src/keibam/venv/lib/python3.11/site-packages/lightgbm/sklearn.py:1253\u001b[0m, in \u001b[0;36mLGBMClassifier.predict_proba\u001b[0;34m(self, X, raw_score, start_iteration, num_iteration, pred_leaf, pred_contrib, validate_features, **kwargs)\u001b[0m\n\u001b[1;32m   1241\u001b[0m \u001b[38;5;28;01mdef\u001b[39;00m \u001b[38;5;21mpredict_proba\u001b[39m(\n\u001b[1;32m   1242\u001b[0m     \u001b[38;5;28mself\u001b[39m,\n\u001b[1;32m   1243\u001b[0m     X: _LGBM_ScikitMatrixLike,\n\u001b[0;32m   (...)\u001b[0m\n\u001b[1;32m   1250\u001b[0m     \u001b[38;5;241m*\u001b[39m\u001b[38;5;241m*\u001b[39mkwargs: Any\n\u001b[1;32m   1251\u001b[0m ):\n\u001b[1;32m   1252\u001b[0m \u001b[38;5;250m    \u001b[39m\u001b[38;5;124;03m\"\"\"Docstring is set after definition, using a template.\"\"\"\u001b[39;00m\n\u001b[0;32m-> 1253\u001b[0m     result \u001b[38;5;241m=\u001b[39m \u001b[38;5;28;43msuper\u001b[39;49m\u001b[43m(\u001b[49m\u001b[43m)\u001b[49m\u001b[38;5;241;43m.\u001b[39;49m\u001b[43mpredict\u001b[49m\u001b[43m(\u001b[49m\n\u001b[1;32m   1254\u001b[0m \u001b[43m        \u001b[49m\u001b[43mX\u001b[49m\u001b[38;5;241;43m=\u001b[39;49m\u001b[43mX\u001b[49m\u001b[43m,\u001b[49m\n\u001b[1;32m   1255\u001b[0m \u001b[43m        \u001b[49m\u001b[43mraw_score\u001b[49m\u001b[38;5;241;43m=\u001b[39;49m\u001b[43mraw_score\u001b[49m\u001b[43m,\u001b[49m\n\u001b[1;32m   1256\u001b[0m \u001b[43m        \u001b[49m\u001b[43mstart_iteration\u001b[49m\u001b[38;5;241;43m=\u001b[39;49m\u001b[43mstart_iteration\u001b[49m\u001b[43m,\u001b[49m\n\u001b[1;32m   1257\u001b[0m \u001b[43m        \u001b[49m\u001b[43mnum_iteration\u001b[49m\u001b[38;5;241;43m=\u001b[39;49m\u001b[43mnum_iteration\u001b[49m\u001b[43m,\u001b[49m\n\u001b[1;32m   1258\u001b[0m \u001b[43m        \u001b[49m\u001b[43mpred_leaf\u001b[49m\u001b[38;5;241;43m=\u001b[39;49m\u001b[43mpred_leaf\u001b[49m\u001b[43m,\u001b[49m\n\u001b[1;32m   1259\u001b[0m \u001b[43m        \u001b[49m\u001b[43mpred_contrib\u001b[49m\u001b[38;5;241;43m=\u001b[39;49m\u001b[43mpred_contrib\u001b[49m\u001b[43m,\u001b[49m\n\u001b[1;32m   1260\u001b[0m \u001b[43m        \u001b[49m\u001b[43mvalidate_features\u001b[49m\u001b[38;5;241;43m=\u001b[39;49m\u001b[43mvalidate_features\u001b[49m\u001b[43m,\u001b[49m\n\u001b[1;32m   1261\u001b[0m \u001b[43m        \u001b[49m\u001b[38;5;241;43m*\u001b[39;49m\u001b[38;5;241;43m*\u001b[39;49m\u001b[43mkwargs\u001b[49m\n\u001b[1;32m   1262\u001b[0m \u001b[43m    \u001b[49m\u001b[43m)\u001b[49m\n\u001b[1;32m   1263\u001b[0m     \u001b[38;5;28;01mif\u001b[39;00m \u001b[38;5;28mcallable\u001b[39m(\u001b[38;5;28mself\u001b[39m\u001b[38;5;241m.\u001b[39m_objective) \u001b[38;5;129;01mand\u001b[39;00m \u001b[38;5;129;01mnot\u001b[39;00m (raw_score \u001b[38;5;129;01mor\u001b[39;00m pred_leaf \u001b[38;5;129;01mor\u001b[39;00m pred_contrib):\n\u001b[1;32m   1264\u001b[0m         _log_warning(\u001b[38;5;124m\"\u001b[39m\u001b[38;5;124mCannot compute class probabilities or labels \u001b[39m\u001b[38;5;124m\"\u001b[39m\n\u001b[1;32m   1265\u001b[0m                      \u001b[38;5;124m\"\u001b[39m\u001b[38;5;124mdue to the usage of customized objective function.\u001b[39m\u001b[38;5;130;01m\\n\u001b[39;00m\u001b[38;5;124m\"\u001b[39m\n\u001b[1;32m   1266\u001b[0m                      \u001b[38;5;124m\"\u001b[39m\u001b[38;5;124mReturning raw scores instead.\u001b[39m\u001b[38;5;124m\"\u001b[39m)\n",
      "File \u001b[0;32m~/src/keibam/venv/lib/python3.11/site-packages/lightgbm/sklearn.py:937\u001b[0m, in \u001b[0;36mLGBMModel.predict\u001b[0;34m(self, X, raw_score, start_iteration, num_iteration, pred_leaf, pred_contrib, validate_features, **kwargs)\u001b[0m\n\u001b[1;32m    935\u001b[0m n_features \u001b[38;5;241m=\u001b[39m X\u001b[38;5;241m.\u001b[39mshape[\u001b[38;5;241m1\u001b[39m]\n\u001b[1;32m    936\u001b[0m \u001b[38;5;28;01mif\u001b[39;00m \u001b[38;5;28mself\u001b[39m\u001b[38;5;241m.\u001b[39m_n_features \u001b[38;5;241m!=\u001b[39m n_features:\n\u001b[0;32m--> 937\u001b[0m     \u001b[38;5;28;01mraise\u001b[39;00m \u001b[38;5;167;01mValueError\u001b[39;00m(\u001b[38;5;124m\"\u001b[39m\u001b[38;5;124mNumber of features of the model must \u001b[39m\u001b[38;5;124m\"\u001b[39m\n\u001b[1;32m    938\u001b[0m                      \u001b[38;5;124mf\u001b[39m\u001b[38;5;124m\"\u001b[39m\u001b[38;5;124mmatch the input. Model n_features_ is \u001b[39m\u001b[38;5;132;01m{\u001b[39;00m\u001b[38;5;28mself\u001b[39m\u001b[38;5;241m.\u001b[39m_n_features\u001b[38;5;132;01m}\u001b[39;00m\u001b[38;5;124m and \u001b[39m\u001b[38;5;124m\"\u001b[39m\n\u001b[1;32m    939\u001b[0m                      \u001b[38;5;124mf\u001b[39m\u001b[38;5;124m\"\u001b[39m\u001b[38;5;124minput n_features is \u001b[39m\u001b[38;5;132;01m{\u001b[39;00mn_features\u001b[38;5;132;01m}\u001b[39;00m\u001b[38;5;124m\"\u001b[39m)\n\u001b[1;32m    940\u001b[0m \u001b[38;5;66;03m# retrive original params that possibly can be used in both training and prediction\u001b[39;00m\n\u001b[1;32m    941\u001b[0m \u001b[38;5;66;03m# and then overwrite them (considering aliases) with params that were passed directly in prediction\u001b[39;00m\n\u001b[1;32m    942\u001b[0m predict_params \u001b[38;5;241m=\u001b[39m \u001b[38;5;28mself\u001b[39m\u001b[38;5;241m.\u001b[39m_process_params(stage\u001b[38;5;241m=\u001b[39m\u001b[38;5;124m\"\u001b[39m\u001b[38;5;124mpredict\u001b[39m\u001b[38;5;124m\"\u001b[39m)\n",
      "\u001b[0;31mValueError\u001b[0m: Number of features of the model must match the input. Model n_features_ is 297 and input n_features is 298"
     ]
    }
   ],
   "source": [
    "# from src.policies._score_policy import StdScorePolicy\n",
    "from src.policies._score_policy import BasicScorePolicy\n",
    "\n",
    "\n",
    "# スコアテーブルを取得\n",
    "score_table = keiba_ai.calc_score(keiba_ai.datasets.X_test, BasicScorePolicy)\n",
    "print(\"shape:\",keiba_ai.datasets.X_test.shape[1])\n",
    "print(f\"score:{score_table.dtypes}\")\n",
    "# 18列目のすべての値とその個数を取得"
   ]
  },
  {
   "cell_type": "markdown",
   "metadata": {},
   "source": [
    "## 5.1. 単一threshold"
   ]
  },
  {
   "cell_type": "markdown",
   "metadata": {},
   "source": [
    "### 5.1.1 単勝馬券"
   ]
  },
  {
   "cell_type": "code",
   "execution_count": 126,
   "metadata": {},
   "outputs": [
    {
     "data": {
      "application/vnd.jupyter.widget-view+json": {
       "model_id": "97aa7a164aa6417b8ea381eae4a9f387",
       "version_major": 2,
       "version_minor": 0
      },
      "text/plain": [
       "  0%|          | 0/100 [00:00<?, ?it/s]"
      ]
     },
     "metadata": {},
     "output_type": "display_data"
    },
    {
     "name": "stdout",
     "output_type": "stream",
     "text": [
      "name 'score_table' is not defined\n"
     ]
    }
   ],
   "source": [
    "from src.policies._bet_policy import BetPolicyTansho\n",
    "\n",
    "T_RANGE = [0.5, 3.5]\n",
    "N_SAMPLES = 100\n",
    "returns = {}\n",
    "\n",
    "# 「馬の勝ちやすさスコア」の閾値を変化させた時の成績を計算\n",
    "for i in tqdm(range(N_SAMPLES)):\n",
    "    # T_RANGEの範囲を、N_SAMPLES等分して、thresholdをfor分で回す\n",
    "    threshold = T_RANGE[1] * i / N_SAMPLES + T_RANGE[0] * (1 - i) / N_SAMPLES\n",
    "   # print(f\"threshold:{threshold}\")\n",
    "    try:\n",
    "        # 賭ける馬券を決定\n",
    "        actions = keiba_ai.decide_action(\n",
    "            score_table,  # スコアテーブル\n",
    "            BetPolicyTansho,  # 賭け方の方針\n",
    "            threshold=threshold,  # 「馬の勝ちやすさスコア」の閾値\n",
    "        )\n",
    "\n",
    "        returns[threshold] = simulator.calc_returns(actions)\n",
    "\n",
    "\n",
    "    except Exception as e:\n",
    "        print(e)\n",
    "        break\n",
    "returns_df = pd.DataFrame.from_dict(returns, orient=\"index\")\n",
    "\n",
    "returns_df.index.name = \"threshold\"\n",
    "# print(f\"returns_df:{returns_df.head()}\")"
   ]
  },
  {
   "cell_type": "code",
   "execution_count": 510,
   "metadata": {},
   "outputs": [],
   "source": [
    "#シミュレーション結果も、models/に保存しておくとわかりやすい。\n",
    "returns_df.to_pickle('models/20240224/tansho.pickle')"
   ]
  },
  {
   "cell_type": "code",
   "execution_count": 511,
   "metadata": {},
   "outputs": [
    {
     "name": "stdout",
     "output_type": "stream",
     "text": [
      "df:           n_bets  n_races  n_hits  total_bet_amount  return_rate       std\n",
      "threshold                                                                  \n",
      "0.005        1114     1114      78              1114     0.540305  0.091623\n",
      "0.035        1114     1114      78              1114     0.540305  0.091623\n",
      "0.065        1114     1114      78              1114     0.540305  0.091623\n",
      "0.095        1088     1088      77              1088     0.551654  0.093773\n",
      "0.125         969      969      66               969     0.470898  0.083681\n"
     ]
    },
    {
     "data": {
      "image/png": "[encoded data removed]",
      "text/plain": [
       "<Figure size 640x480 with 1 Axes>"
      ]
     },
     "metadata": {},
     "output_type": "display_data"
    }
   ],
   "source": [
    "from src.simulation._plot import plot_single_threshold\n",
    "\n",
    "# 回収率をプロット\n",
    "plot_single_threshold(returns_df, N_SAMPLES, label=\"tansho\")"
   ]
  },
  {
   "cell_type": "markdown",
   "metadata": {},
   "source": [
    "### 5.1.2 複勝馬券"
   ]
  },
  {
   "cell_type": "code",
   "execution_count": 468,
   "metadata": {},
   "outputs": [
    {
     "data": {
      "application/vnd.jupyter.widget-view+json": {
       "model_id": "7646d07de1eb4a4d8dcdd0822edc7c13",
       "version_major": 2,
       "version_minor": 0
      },
      "text/plain": [
       "  0%|          | 0/100 [00:00<?, ?it/s]"
      ]
     },
     "metadata": {},
     "output_type": "display_data"
    }
   ],
   "source": [
    "from src.policies._bet_policy import BetPolicyFukusho\n",
    "\n",
    "T_RANGE = [0.5, 3.5]\n",
    "N_SAMPLES = 100\n",
    "returns = {}\n",
    "\n",
    "# 「馬の勝ちやすさスコア」の閾値を変化させた時の成績を計算\n",
    "for i in tqdm(range(N_SAMPLES)):\n",
    "    # T_RANGEの範囲を、N_SAMPLES等分して、thresholdをfor分で回す\n",
    "    threshold = T_RANGE[1] * i / N_SAMPLES + T_RANGE[0] * (1 - (i / N_SAMPLES))\n",
    "    try:\n",
    "        # 賭ける馬券を決定\n",
    "        actions = keiba_ai.decide_action(\n",
    "            score_table,  # スコアテーブル\n",
    "            BetPolicyFukusho,  # 賭け方の方針\n",
    "            threshold=threshold,  # 「馬の勝ちやすさスコア」の閾値\n",
    "        )\n",
    "        returns[threshold] = simulator.calc_returns(actions)\n",
    "    except Exception as e:\n",
    "        print(e)\n",
    "        break\n",
    "returns_df = pd.DataFrame.from_dict(returns, orient=\"index\")\n",
    "returns_df.index.name = \"threshold\""
   ]
  },
  {
   "cell_type": "code",
   "execution_count": 469,
   "metadata": {},
   "outputs": [],
   "source": [
    "# シミュレーション結果も、models/YYYYMMDD/に保存しておくとわかりやすい。\n",
    "returns_df.to_pickle('models/20240224/fukusho.pickle')"
   ]
  },
  {
   "cell_type": "code",
   "execution_count": 470,
   "metadata": {},
   "outputs": [
    {
     "name": "stdout",
     "output_type": "stream",
     "text": [
      "df:           n_bets  n_races  n_hits  total_bet_amount  return_rate       std\n",
      "threshold                                                                  \n",
      "0.50           48       48       8                48     0.412500  0.175585\n",
      "0.53           34       34       6                34     0.500000  0.241246\n",
      "0.56           28       28       5                28     0.342857  0.144331\n",
      "0.59           20       20       3                20     0.300000  0.164317\n",
      "0.62           17       17       2                17     0.247059  0.169150\n"
     ]
    },
    {
     "data": {
      "image/png": "[encoded data removed]",
      "text/plain": [
       "<Figure size 640x480 with 1 Axes>"
      ]
     },
     "metadata": {},
     "output_type": "display_data"
    }
   ],
   "source": [
    "from src.simulation._plot import plot_single_threshold\n",
    "\n",
    "# 回収率をプロット\n",
    "plot_single_threshold(returns_df, N_SAMPLES, label=\"fukusho\")"
   ]
  },
  {
   "cell_type": "markdown",
   "metadata": {},
   "source": [
    "### 5.1.3 馬連BOX"
   ]
  },
  {
   "cell_type": "code",
   "execution_count": 505,
   "metadata": {},
   "outputs": [
    {
     "data": {
      "application/vnd.jupyter.widget-view+json": {
       "model_id": "84c4220031e148f19f606af9ddf5d584",
       "version_major": 2,
       "version_minor": 0
      },
      "text/plain": [
       "  0%|          | 0/100 [00:00<?, ?it/s]"
      ]
     },
     "metadata": {},
     "output_type": "display_data"
    },
    {
     "name": "stdout",
     "output_type": "stream",
     "text": [
      "actions{}\n",
      "actions{}\n",
      "actions{}\n",
      "actions{}\n",
      "actions{}\n",
      "actions{}\n",
      "actions{}\n",
      "actions{}\n",
      "actions{}\n",
      "actions{}\n",
      "actions{}\n",
      "actions{}\n",
      "actions{}\n",
      "actions{}\n",
      "actions{}\n",
      "actions{}\n",
      "actions{}\n",
      "actions{}\n",
      "actions{}\n",
      "actions{}\n",
      "actions{}\n",
      "actions{}\n",
      "actions{}\n",
      "actions{}\n",
      "actions{}\n",
      "actions{}\n",
      "actions{}\n",
      "actions{}\n",
      "actions{}\n",
      "actions{}\n",
      "actions{}\n",
      "actions{}\n",
      "actions{}\n",
      "actions{}\n",
      "actions{}\n",
      "actions{}\n",
      "actions{}\n",
      "actions{}\n",
      "actions{}\n",
      "actions{}\n",
      "actions{}\n",
      "actions{}\n",
      "actions{}\n",
      "actions{}\n",
      "actions{}\n",
      "actions{}\n",
      "actions{}\n",
      "actions{}\n",
      "actions{}\n",
      "actions{}\n",
      "actions{}\n",
      "actions{}\n",
      "actions{}\n",
      "actions{}\n",
      "actions{}\n",
      "actions{}\n",
      "actions{}\n",
      "actions{}\n",
      "actions{}\n",
      "actions{}\n",
      "actions{}\n",
      "actions{}\n",
      "actions{}\n",
      "actions{}\n",
      "actions{}\n",
      "actions{}\n",
      "actions{}\n",
      "actions{}\n",
      "actions{}\n",
      "actions{}\n",
      "actions{}\n",
      "actions{}\n",
      "actions{}\n",
      "actions{}\n",
      "actions{}\n",
      "actions{}\n",
      "actions{}\n",
      "actions{}\n",
      "actions{}\n",
      "actions{}\n",
      "actions{}\n",
      "actions{}\n",
      "actions{}\n",
      "actions{}\n",
      "actions{}\n",
      "actions{}\n",
      "actions{}\n",
      "actions{}\n",
      "actions{}\n",
      "actions{}\n",
      "actions{}\n",
      "actions{}\n",
      "actions{}\n",
      "actions{}\n",
      "actions{}\n",
      "actions{}\n",
      "actions{}\n",
      "actions{}\n",
      "actions{}\n",
      "actions{}\n"
     ]
    }
   ],
   "source": [
    "from src.policies._bet_policy import BetPolicyUmarenBox\n",
    "\n",
    "T_RANGE = [0.5, 3.5]\n",
    "N_SAMPLES = 100\n",
    "returns = {}\n",
    "\n",
    "# 「馬の勝ちやすさスコア」の閾値を変化させた時の成績を計算\n",
    "for i in tqdm(range(N_SAMPLES)):\n",
    "    # T_RANGEの範囲を、N_SAMPLES等分して、thresholdをfor分で回す\n",
    "    threshold = T_RANGE[1] * i / N_SAMPLES + T_RANGE[0] * (1 - (i / N_SAMPLES))\n",
    "    # print(f\"threshold:{threshold}\")\n",
    "    try:\n",
    "        # 賭ける馬券を決定\n",
    "        actions = keiba_ai.decide_action(\n",
    "            score_table,  # スコアテーブル\n",
    "            BetPolicyUmarenBox,  # 賭け方の方針\n",
    "            threshold=threshold,  # 「馬の勝ちやすさスコア」の閾値\n",
    "        )\n",
    "        print(f\"actions{actions}\")\n",
    "        returns[threshold] = simulator.calc_returns(actions)\n",
    "        #print(f\"returns:{returns}\")\n",
    "    except Exception as e:\n",
    "        print(e)\n",
    "        break\n",
    "returns_df = pd.DataFrame.from_dict(returns, orient=\"index\")\n",
    "returns_df.index.name = \"threshold\""
   ]
  },
  {
   "cell_type": "code",
   "execution_count": 472,
   "metadata": {},
   "outputs": [],
   "source": [
    "\n",
    "\n",
    "# シミュレーション結果も、models/YYYYMMDD/に保存しておくとわかりやすい。\n",
    "returns_df.to_pickle(\"models/20240224/umarenbox.pickle\")"
   ]
  },
  {
   "cell_type": "code",
   "execution_count": 473,
   "metadata": {},
   "outputs": [
    {
     "name": "stdout",
     "output_type": "stream",
     "text": [
      "df:Empty DataFrame\n",
      "Columns: []\n",
      "Index: []\n"
     ]
    },
    {
     "ename": "KeyError",
     "evalue": "'return_rate'",
     "output_type": "error",
     "traceback": [
      "\u001b[0;31m---------------------------------------------------------------------------\u001b[0m",
      "\u001b[0;31mKeyError\u001b[0m                                  Traceback (most recent call last)",
      "Cell \u001b[0;32mIn[473], line 4\u001b[0m\n\u001b[1;32m      1\u001b[0m \u001b[38;5;28;01mfrom\u001b[39;00m \u001b[38;5;21;01msrc\u001b[39;00m\u001b[38;5;21;01m.\u001b[39;00m\u001b[38;5;21;01msimulation\u001b[39;00m\u001b[38;5;21;01m.\u001b[39;00m\u001b[38;5;21;01m_plot\u001b[39;00m \u001b[38;5;28;01mimport\u001b[39;00m plot_single_threshold\n\u001b[1;32m      3\u001b[0m \u001b[38;5;66;03m# 回収率をプロット\u001b[39;00m\n\u001b[0;32m----> 4\u001b[0m \u001b[43mplot_single_threshold\u001b[49m\u001b[43m(\u001b[49m\u001b[43mreturns_df\u001b[49m\u001b[43m,\u001b[49m\u001b[43m \u001b[49m\u001b[43mN_SAMPLES\u001b[49m\u001b[43m,\u001b[49m\u001b[43m \u001b[49m\u001b[43mlabel\u001b[49m\u001b[38;5;241;43m=\u001b[39;49m\u001b[38;5;124;43m\"\u001b[39;49m\u001b[38;5;124;43mumarenbox\u001b[39;49m\u001b[38;5;124;43m\"\u001b[39;49m\u001b[43m)\u001b[49m\n",
      "File \u001b[0;32m~/src/keibam/src/simulation/_plot.py:8\u001b[0m, in \u001b[0;36mplot_single_threshold\u001b[0;34m(df, N_SAMPLES, label)\u001b[0m\n\u001b[1;32m      6\u001b[0m plt\u001b[38;5;241m.\u001b[39mfigure(dpi\u001b[38;5;241m=\u001b[39m\u001b[38;5;241m100\u001b[39m)\n\u001b[1;32m      7\u001b[0m \u001b[38;5;66;03m# 標準偏差で幅をつけて薄くプロット\u001b[39;00m\n\u001b[0;32m----> 8\u001b[0m plt\u001b[38;5;241m.\u001b[39mfill_between(df\u001b[38;5;241m.\u001b[39mindex, y1\u001b[38;5;241m=\u001b[39m\u001b[43mdf\u001b[49m\u001b[43m[\u001b[49m\u001b[38;5;124;43m\"\u001b[39;49m\u001b[38;5;124;43mreturn_rate\u001b[39;49m\u001b[38;5;124;43m\"\u001b[39;49m\u001b[43m]\u001b[49m \u001b[38;5;241m-\u001b[39m df[\u001b[38;5;124m\"\u001b[39m\u001b[38;5;124mstd\u001b[39m\u001b[38;5;124m\"\u001b[39m], y2\u001b[38;5;241m=\u001b[39mdf[\u001b[38;5;124m\"\u001b[39m\u001b[38;5;124mreturn_rate\u001b[39m\u001b[38;5;124m\"\u001b[39m] \u001b[38;5;241m+\u001b[39m df[\u001b[38;5;124m\"\u001b[39m\u001b[38;5;124mstd\u001b[39m\u001b[38;5;124m\"\u001b[39m], alpha\u001b[38;5;241m=\u001b[39m\u001b[38;5;241m0.3\u001b[39m)\n\u001b[1;32m      9\u001b[0m \u001b[38;5;66;03m# 回収率を実線でプロット\u001b[39;00m\n\u001b[1;32m     10\u001b[0m plt\u001b[38;5;241m.\u001b[39mplot(df\u001b[38;5;241m.\u001b[39mindex, df[\u001b[38;5;124m\"\u001b[39m\u001b[38;5;124mreturn_rate\u001b[39m\u001b[38;5;124m\"\u001b[39m], label\u001b[38;5;241m=\u001b[39mlabel)\n",
      "File \u001b[0;32m~/src/keibam/venv/lib/python3.11/site-packages/pandas/core/frame.py:4090\u001b[0m, in \u001b[0;36mDataFrame.__getitem__\u001b[0;34m(self, key)\u001b[0m\n\u001b[1;32m   4088\u001b[0m \u001b[38;5;28;01mif\u001b[39;00m \u001b[38;5;28mself\u001b[39m\u001b[38;5;241m.\u001b[39mcolumns\u001b[38;5;241m.\u001b[39mnlevels \u001b[38;5;241m>\u001b[39m \u001b[38;5;241m1\u001b[39m:\n\u001b[1;32m   4089\u001b[0m     \u001b[38;5;28;01mreturn\u001b[39;00m \u001b[38;5;28mself\u001b[39m\u001b[38;5;241m.\u001b[39m_getitem_multilevel(key)\n\u001b[0;32m-> 4090\u001b[0m indexer \u001b[38;5;241m=\u001b[39m \u001b[38;5;28;43mself\u001b[39;49m\u001b[38;5;241;43m.\u001b[39;49m\u001b[43mcolumns\u001b[49m\u001b[38;5;241;43m.\u001b[39;49m\u001b[43mget_loc\u001b[49m\u001b[43m(\u001b[49m\u001b[43mkey\u001b[49m\u001b[43m)\u001b[49m\n\u001b[1;32m   4091\u001b[0m \u001b[38;5;28;01mif\u001b[39;00m is_integer(indexer):\n\u001b[1;32m   4092\u001b[0m     indexer \u001b[38;5;241m=\u001b[39m [indexer]\n",
      "File \u001b[0;32m~/src/keibam/venv/lib/python3.11/site-packages/pandas/core/indexes/range.py:417\u001b[0m, in \u001b[0;36mRangeIndex.get_loc\u001b[0;34m(self, key)\u001b[0m\n\u001b[1;32m    415\u001b[0m         \u001b[38;5;28;01mraise\u001b[39;00m \u001b[38;5;167;01mKeyError\u001b[39;00m(key) \u001b[38;5;28;01mfrom\u001b[39;00m \u001b[38;5;21;01merr\u001b[39;00m\n\u001b[1;32m    416\u001b[0m \u001b[38;5;28;01mif\u001b[39;00m \u001b[38;5;28misinstance\u001b[39m(key, Hashable):\n\u001b[0;32m--> 417\u001b[0m     \u001b[38;5;28;01mraise\u001b[39;00m \u001b[38;5;167;01mKeyError\u001b[39;00m(key)\n\u001b[1;32m    418\u001b[0m \u001b[38;5;28mself\u001b[39m\u001b[38;5;241m.\u001b[39m_check_indexing_error(key)\n\u001b[1;32m    419\u001b[0m \u001b[38;5;28;01mraise\u001b[39;00m \u001b[38;5;167;01mKeyError\u001b[39;00m(key)\n",
      "\u001b[0;31mKeyError\u001b[0m: 'return_rate'"
     ]
    },
    {
     "data": {
      "text/plain": [
       "<Figure size 640x480 with 0 Axes>"
      ]
     },
     "metadata": {},
     "output_type": "display_data"
    }
   ],
   "source": [
    "from src.simulation._plot import plot_single_threshold\n",
    "\n",
    "# 回収率をプロット\n",
    "plot_single_threshold(returns_df, N_SAMPLES, label=\"umarenbox\")"
   ]
  },
  {
   "cell_type": "markdown",
   "metadata": {},
   "source": [
    "### 5.1.4 馬単BOX"
   ]
  },
  {
   "cell_type": "code",
   "execution_count": 474,
   "metadata": {},
   "outputs": [
    {
     "data": {
      "application/vnd.jupyter.widget-view+json": {
       "model_id": "e06747a1e7194cd8b35adc5d966c53d8",
       "version_major": 2,
       "version_minor": 0
      },
      "text/plain": [
       "  0%|          | 0/100 [00:00<?, ?it/s]"
      ]
     },
     "metadata": {},
     "output_type": "display_data"
    }
   ],
   "source": [
    "from src.policies._bet_policy import BetPolicyUmatanBox\n",
    "\n",
    "T_RANGE = [0.5, 3.5]\n",
    "N_SAMPLES = 100\n",
    "returns = {}\n",
    "\n",
    "# 「馬の勝ちやすさスコア」の閾値を変化させた時の成績を計算\n",
    "for i in tqdm(range(N_SAMPLES)):\n",
    "    # T_RANGEの範囲を、N_SAMPLES等分して、thresholdをfor分で回す\n",
    "    threshold = T_RANGE[1] * i / N_SAMPLES + T_RANGE[0] * (1 - (i / N_SAMPLES))\n",
    "    try:\n",
    "        # 賭ける馬券を決定\n",
    "        actions = keiba_ai.decide_action(\n",
    "            score_table,  # スコアテーブル\n",
    "            BetPolicyUmatanBox,  # 賭け方の方針\n",
    "            threshold=threshold,  # 「馬の勝ちやすさスコア」の閾値\n",
    "        )\n",
    "        returns[threshold] = simulator.calc_returns(actions)\n",
    "    except Exception as e:\n",
    "        print(e)\n",
    "        break\n",
    "returns_df = pd.DataFrame.from_dict(returns, orient=\"index\")\n",
    "returns_df.index.name = \"threshold\""
   ]
  },
  {
   "cell_type": "code",
   "execution_count": 475,
   "metadata": {},
   "outputs": [],
   "source": [
    "# シミュレーション結果も、models/YYYYMMDD/に保存しておくとわかりやすい。\n",
    "returns_df.to_pickle('models/20240224/umatanbox.pickle')"
   ]
  },
  {
   "cell_type": "code",
   "execution_count": 476,
   "metadata": {},
   "outputs": [
    {
     "name": "stdout",
     "output_type": "stream",
     "text": [
      "df:Empty DataFrame\n",
      "Columns: []\n",
      "Index: []\n"
     ]
    },
    {
     "ename": "KeyError",
     "evalue": "'return_rate'",
     "output_type": "error",
     "traceback": [
      "\u001b[0;31m---------------------------------------------------------------------------\u001b[0m",
      "\u001b[0;31mKeyError\u001b[0m                                  Traceback (most recent call last)",
      "Cell \u001b[0;32mIn[476], line 4\u001b[0m\n\u001b[1;32m      1\u001b[0m \u001b[38;5;28;01mfrom\u001b[39;00m \u001b[38;5;21;01msrc\u001b[39;00m\u001b[38;5;21;01m.\u001b[39;00m\u001b[38;5;21;01msimulation\u001b[39;00m\u001b[38;5;21;01m.\u001b[39;00m\u001b[38;5;21;01m_plot\u001b[39;00m \u001b[38;5;28;01mimport\u001b[39;00m plot_single_threshold\n\u001b[1;32m      3\u001b[0m \u001b[38;5;66;03m# 回収率をプロット\u001b[39;00m\n\u001b[0;32m----> 4\u001b[0m \u001b[43mplot_single_threshold\u001b[49m\u001b[43m(\u001b[49m\u001b[43mreturns_df\u001b[49m\u001b[43m,\u001b[49m\u001b[43m \u001b[49m\u001b[43mN_SAMPLES\u001b[49m\u001b[43m,\u001b[49m\u001b[43m \u001b[49m\u001b[43mlabel\u001b[49m\u001b[38;5;241;43m=\u001b[39;49m\u001b[38;5;124;43m\"\u001b[39;49m\u001b[38;5;124;43mumatanbox\u001b[39;49m\u001b[38;5;124;43m\"\u001b[39;49m\u001b[43m)\u001b[49m\n",
      "File \u001b[0;32m~/src/keibam/src/simulation/_plot.py:8\u001b[0m, in \u001b[0;36mplot_single_threshold\u001b[0;34m(df, N_SAMPLES, label)\u001b[0m\n\u001b[1;32m      6\u001b[0m plt\u001b[38;5;241m.\u001b[39mfigure(dpi\u001b[38;5;241m=\u001b[39m\u001b[38;5;241m100\u001b[39m)\n\u001b[1;32m      7\u001b[0m \u001b[38;5;66;03m# 標準偏差で幅をつけて薄くプロット\u001b[39;00m\n\u001b[0;32m----> 8\u001b[0m plt\u001b[38;5;241m.\u001b[39mfill_between(df\u001b[38;5;241m.\u001b[39mindex, y1\u001b[38;5;241m=\u001b[39m\u001b[43mdf\u001b[49m\u001b[43m[\u001b[49m\u001b[38;5;124;43m\"\u001b[39;49m\u001b[38;5;124;43mreturn_rate\u001b[39;49m\u001b[38;5;124;43m\"\u001b[39;49m\u001b[43m]\u001b[49m \u001b[38;5;241m-\u001b[39m df[\u001b[38;5;124m\"\u001b[39m\u001b[38;5;124mstd\u001b[39m\u001b[38;5;124m\"\u001b[39m], y2\u001b[38;5;241m=\u001b[39mdf[\u001b[38;5;124m\"\u001b[39m\u001b[38;5;124mreturn_rate\u001b[39m\u001b[38;5;124m\"\u001b[39m] \u001b[38;5;241m+\u001b[39m df[\u001b[38;5;124m\"\u001b[39m\u001b[38;5;124mstd\u001b[39m\u001b[38;5;124m\"\u001b[39m], alpha\u001b[38;5;241m=\u001b[39m\u001b[38;5;241m0.3\u001b[39m)\n\u001b[1;32m      9\u001b[0m \u001b[38;5;66;03m# 回収率を実線でプロット\u001b[39;00m\n\u001b[1;32m     10\u001b[0m plt\u001b[38;5;241m.\u001b[39mplot(df\u001b[38;5;241m.\u001b[39mindex, df[\u001b[38;5;124m\"\u001b[39m\u001b[38;5;124mreturn_rate\u001b[39m\u001b[38;5;124m\"\u001b[39m], label\u001b[38;5;241m=\u001b[39mlabel)\n",
      "File \u001b[0;32m~/src/keibam/venv/lib/python3.11/site-packages/pandas/core/frame.py:4090\u001b[0m, in \u001b[0;36mDataFrame.__getitem__\u001b[0;34m(self, key)\u001b[0m\n\u001b[1;32m   4088\u001b[0m \u001b[38;5;28;01mif\u001b[39;00m \u001b[38;5;28mself\u001b[39m\u001b[38;5;241m.\u001b[39mcolumns\u001b[38;5;241m.\u001b[39mnlevels \u001b[38;5;241m>\u001b[39m \u001b[38;5;241m1\u001b[39m:\n\u001b[1;32m   4089\u001b[0m     \u001b[38;5;28;01mreturn\u001b[39;00m \u001b[38;5;28mself\u001b[39m\u001b[38;5;241m.\u001b[39m_getitem_multilevel(key)\n\u001b[0;32m-> 4090\u001b[0m indexer \u001b[38;5;241m=\u001b[39m \u001b[38;5;28;43mself\u001b[39;49m\u001b[38;5;241;43m.\u001b[39;49m\u001b[43mcolumns\u001b[49m\u001b[38;5;241;43m.\u001b[39;49m\u001b[43mget_loc\u001b[49m\u001b[43m(\u001b[49m\u001b[43mkey\u001b[49m\u001b[43m)\u001b[49m\n\u001b[1;32m   4091\u001b[0m \u001b[38;5;28;01mif\u001b[39;00m is_integer(indexer):\n\u001b[1;32m   4092\u001b[0m     indexer \u001b[38;5;241m=\u001b[39m [indexer]\n",
      "File \u001b[0;32m~/src/keibam/venv/lib/python3.11/site-packages/pandas/core/indexes/range.py:417\u001b[0m, in \u001b[0;36mRangeIndex.get_loc\u001b[0;34m(self, key)\u001b[0m\n\u001b[1;32m    415\u001b[0m         \u001b[38;5;28;01mraise\u001b[39;00m \u001b[38;5;167;01mKeyError\u001b[39;00m(key) \u001b[38;5;28;01mfrom\u001b[39;00m \u001b[38;5;21;01merr\u001b[39;00m\n\u001b[1;32m    416\u001b[0m \u001b[38;5;28;01mif\u001b[39;00m \u001b[38;5;28misinstance\u001b[39m(key, Hashable):\n\u001b[0;32m--> 417\u001b[0m     \u001b[38;5;28;01mraise\u001b[39;00m \u001b[38;5;167;01mKeyError\u001b[39;00m(key)\n\u001b[1;32m    418\u001b[0m \u001b[38;5;28mself\u001b[39m\u001b[38;5;241m.\u001b[39m_check_indexing_error(key)\n\u001b[1;32m    419\u001b[0m \u001b[38;5;28;01mraise\u001b[39;00m \u001b[38;5;167;01mKeyError\u001b[39;00m(key)\n",
      "\u001b[0;31mKeyError\u001b[0m: 'return_rate'"
     ]
    },
    {
     "data": {
      "text/plain": [
       "<Figure size 640x480 with 0 Axes>"
      ]
     },
     "metadata": {},
     "output_type": "display_data"
    }
   ],
   "source": [
    "from src.simulation._plot import plot_single_threshold\n",
    "\n",
    "# 回収率をプロット\n",
    "plot_single_threshold(returns_df, N_SAMPLES, label=\"umatanbox\")"
   ]
  },
  {
   "cell_type": "markdown",
   "metadata": {},
   "source": [
    "### 5.1.5 ワイドBOX"
   ]
  },
  {
   "cell_type": "code",
   "execution_count": null,
   "metadata": {},
   "outputs": [],
   "source": [
    "from src.policies._bet_policy import BetPolicyWideBox\n",
    "\n",
    "T_RANGE = [0.5, 3.5]\n",
    "N_SAMPLES = 100\n",
    "returns = {}\n",
    "\n",
    "# 「馬の勝ちやすさスコア」の閾値を変化させた時の成績を計算\n",
    "for i in tqdm(range(N_SAMPLES)):\n",
    "    # T_RANGEの範囲を、N_SAMPLES等分して、thresholdをfor分で回す\n",
    "    threshold = T_RANGE[1] * i / N_SAMPLES + T_RANGE[0] * (1 - (i / N_SAMPLES))\n",
    "    try:\n",
    "        # 賭ける馬券を決定\n",
    "        actions = keiba_ai.decide_action(\n",
    "            score_table,  # スコアテーブル\n",
    "            BetPolicyWideBox,  # 賭け方の方針\n",
    "            threshold=threshold,  # 「馬の勝ちやすさスコア」の閾値\n",
    "        )\n",
    "        returns[threshold] = simulator.calc_returns(actions)\n",
    "    except Exception as e:\n",
    "        print(e)\n",
    "        break\n",
    "returns_df = pd.DataFrame.from_dict(returns, orient=\"index\")\n",
    "returns_df.index.name = \"threshold\""
   ]
  },
  {
   "cell_type": "code",
   "execution_count": null,
   "metadata": {},
   "outputs": [],
   "source": [
    "# シミュレーション結果も、models/YYYYMMDD/に保存しておくとわかりやすい。\n",
    "returns_df.to_pickle('models/20240224/widebox.pickle')"
   ]
  },
  {
   "cell_type": "code",
   "execution_count": null,
   "metadata": {},
   "outputs": [],
   "source": [
    "from src.simulation._plot import plot_single_threshold\n",
    "\n",
    "# 回収率をプロット\n",
    "plot_single_threshold(returns_df, N_SAMPLES, label=\"widebox\")"
   ]
  },
  {
   "cell_type": "markdown",
   "metadata": {},
   "source": [
    "### 5.1.6 三連複BOX"
   ]
  },
  {
   "cell_type": "code",
   "execution_count": 477,
   "metadata": {},
   "outputs": [
    {
     "data": {
      "application/vnd.jupyter.widget-view+json": {
       "model_id": "ec4eb4fa606e4434b8c1badb11d149d6",
       "version_major": 2,
       "version_minor": 0
      },
      "text/plain": [
       "  0%|          | 0/100 [00:00<?, ?it/s]"
      ]
     },
     "metadata": {},
     "output_type": "display_data"
    }
   ],
   "source": [
    "from src.policies._bet_policy import BetPolicySanrenpukuBox\n",
    "\n",
    "T_RANGE = [0.5, 3.5]\n",
    "N_SAMPLES = 100\n",
    "returns = {}\n",
    "\n",
    "# 「馬の勝ちやすさスコア」の閾値を変化させた時の成績を計算\n",
    "for i in tqdm(range(N_SAMPLES)):\n",
    "    # T_RANGEの範囲を、N_SAMPLES等分して、thresholdをfor分で回す\n",
    "    threshold = T_RANGE[1] * i / N_SAMPLES + T_RANGE[0] * (1 - (i / N_SAMPLES))\n",
    "    try:\n",
    "        # 賭ける馬券を決定\n",
    "        actions = keiba_ai.decide_action(\n",
    "            score_table,  # スコアテーブル\n",
    "            BetPolicySanrenpukuBox,  # 賭け方の方針\n",
    "            threshold=threshold,  # 「馬の勝ちやすさスコア」の閾値\n",
    "        )\n",
    "        returns[threshold] = simulator.calc_returns(actions)\n",
    "    except Exception as e:\n",
    "        print(e)\n",
    "        break\n",
    "returns_df = pd.DataFrame.from_dict(returns, orient=\"index\")\n",
    "returns_df.index.name = \"threshold\""
   ]
  },
  {
   "cell_type": "code",
   "execution_count": 478,
   "metadata": {},
   "outputs": [],
   "source": [
    "# シミュレーション結果も、models/YYYYMMDD/に保存しておくとわかりやすい。\n",
    "returns_df.to_pickle('models/20240224/sanrenpukubox.pickle')"
   ]
  },
  {
   "cell_type": "code",
   "execution_count": 479,
   "metadata": {},
   "outputs": [
    {
     "ename": "AttributeError",
     "evalue": "module 'src.simulation' has no attribute 'plot_single_threshold'",
     "output_type": "error",
     "traceback": [
      "\u001b[0;31m---------------------------------------------------------------------------\u001b[0m",
      "\u001b[0;31mAttributeError\u001b[0m                            Traceback (most recent call last)",
      "Cell \u001b[0;32mIn[479], line 4\u001b[0m\n\u001b[1;32m      1\u001b[0m \u001b[38;5;28;01mfrom\u001b[39;00m \u001b[38;5;21;01msrc\u001b[39;00m\u001b[38;5;21;01m.\u001b[39;00m\u001b[38;5;21;01msimulation\u001b[39;00m\u001b[38;5;21;01m.\u001b[39;00m\u001b[38;5;21;01m_plot\u001b[39;00m \u001b[38;5;28;01mimport\u001b[39;00m plot_single_threshold\n\u001b[1;32m      3\u001b[0m \u001b[38;5;66;03m# 回収率をプロット\u001b[39;00m\n\u001b[0;32m----> 4\u001b[0m \u001b[43msimulation\u001b[49m\u001b[38;5;241;43m.\u001b[39;49m\u001b[43mplot_single_threshold\u001b[49m(returns_df, N_SAMPLES, label\u001b[38;5;241m=\u001b[39m\u001b[38;5;124m\"\u001b[39m\u001b[38;5;124msanrenpukubox\u001b[39m\u001b[38;5;124m\"\u001b[39m)\n",
      "\u001b[0;31mAttributeError\u001b[0m: module 'src.simulation' has no attribute 'plot_single_threshold'"
     ]
    }
   ],
   "source": [
    "from src.simulation._plot import plot_single_threshold\n",
    "\n",
    "# 回収率をプロット\n",
    "simulation.plot_single_threshold(returns_df, N_SAMPLES, label=\"sanrenpukubox\")"
   ]
  },
  {
   "cell_type": "markdown",
   "metadata": {},
   "source": [
    "### 5.1.7 三連単BOX"
   ]
  },
  {
   "cell_type": "code",
   "execution_count": 480,
   "metadata": {},
   "outputs": [
    {
     "data": {
      "application/vnd.jupyter.widget-view+json": {
       "model_id": "fa450ad863f247cdb810b049cc09b75f",
       "version_major": 2,
       "version_minor": 0
      },
      "text/plain": [
       "  0%|          | 0/100 [00:00<?, ?it/s]"
      ]
     },
     "metadata": {},
     "output_type": "display_data"
    }
   ],
   "source": [
    "from src.policies._bet_policy import BetPolicySanrentanBox\n",
    "\n",
    "T_RANGE = [0.5, 3.5]\n",
    "N_SAMPLES = 100\n",
    "returns = {}\n",
    "\n",
    "# 「馬の勝ちやすさスコア」の閾値を変化させた時の成績を計算\n",
    "for i in tqdm(range(N_SAMPLES)):\n",
    "    # T_RANGEの範囲を、N_SAMPLES等分して、thresholdをfor分で回す\n",
    "    threshold = T_RANGE[1] * i / N_SAMPLES + T_RANGE[0] * (1 - (i / N_SAMPLES))\n",
    "    try:\n",
    "        # 賭ける馬券を決定\n",
    "        actions = keiba_ai.decide_action(\n",
    "            score_table,  # スコアテーブル\n",
    "            BetPolicySanrentanBox,  # 賭け方の方針\n",
    "            threshold=threshold,  # 「馬の勝ちやすさスコア」の閾値\n",
    "        )\n",
    "        returns[threshold] = simulator.calc_returns(actions)\n",
    "    except Exception as e:\n",
    "        print(e)\n",
    "        break\n",
    "returns_df = pd.DataFrame.from_dict(returns, orient=\"index\")\n",
    "returns_df.index.name = \"threshold\""
   ]
  },
  {
   "cell_type": "code",
   "execution_count": 481,
   "metadata": {},
   "outputs": [],
   "source": [
    "# シミュレーション結果も、models/YYYYMMDD/に保存しておくとわかりやすい。\n",
    "returns_df.to_pickle('models/20240224/sanrentanbox.pickle')"
   ]
  },
  {
   "cell_type": "code",
   "execution_count": 482,
   "metadata": {},
   "outputs": [
    {
     "name": "stdout",
     "output_type": "stream",
     "text": [
      "df:Empty DataFrame\n",
      "Columns: []\n",
      "Index: []\n"
     ]
    },
    {
     "ename": "KeyError",
     "evalue": "'return_rate'",
     "output_type": "error",
     "traceback": [
      "\u001b[0;31m---------------------------------------------------------------------------\u001b[0m",
      "\u001b[0;31mKeyError\u001b[0m                                  Traceback (most recent call last)",
      "Cell \u001b[0;32mIn[482], line 4\u001b[0m\n\u001b[1;32m      1\u001b[0m \u001b[38;5;28;01mfrom\u001b[39;00m \u001b[38;5;21;01msrc\u001b[39;00m\u001b[38;5;21;01m.\u001b[39;00m\u001b[38;5;21;01msimulation\u001b[39;00m\u001b[38;5;21;01m.\u001b[39;00m\u001b[38;5;21;01m_plot\u001b[39;00m \u001b[38;5;28;01mimport\u001b[39;00m plot_single_threshold\n\u001b[1;32m      3\u001b[0m \u001b[38;5;66;03m#回収率をプロット\u001b[39;00m\n\u001b[0;32m----> 4\u001b[0m \u001b[43mplot_single_threshold\u001b[49m\u001b[43m(\u001b[49m\u001b[43mreturns_df\u001b[49m\u001b[43m,\u001b[49m\u001b[43m \u001b[49m\u001b[43mN_SAMPLES\u001b[49m\u001b[43m,\u001b[49m\u001b[43m \u001b[49m\u001b[43mlabel\u001b[49m\u001b[38;5;241;43m=\u001b[39;49m\u001b[38;5;124;43m\"\u001b[39;49m\u001b[38;5;124;43msanrentanbox\u001b[39;49m\u001b[38;5;124;43m\"\u001b[39;49m\u001b[43m)\u001b[49m\n",
      "File \u001b[0;32m~/src/keibam/src/simulation/_plot.py:8\u001b[0m, in \u001b[0;36mplot_single_threshold\u001b[0;34m(df, N_SAMPLES, label)\u001b[0m\n\u001b[1;32m      6\u001b[0m plt\u001b[38;5;241m.\u001b[39mfigure(dpi\u001b[38;5;241m=\u001b[39m\u001b[38;5;241m100\u001b[39m)\n\u001b[1;32m      7\u001b[0m \u001b[38;5;66;03m# 標準偏差で幅をつけて薄くプロット\u001b[39;00m\n\u001b[0;32m----> 8\u001b[0m plt\u001b[38;5;241m.\u001b[39mfill_between(df\u001b[38;5;241m.\u001b[39mindex, y1\u001b[38;5;241m=\u001b[39m\u001b[43mdf\u001b[49m\u001b[43m[\u001b[49m\u001b[38;5;124;43m\"\u001b[39;49m\u001b[38;5;124;43mreturn_rate\u001b[39;49m\u001b[38;5;124;43m\"\u001b[39;49m\u001b[43m]\u001b[49m \u001b[38;5;241m-\u001b[39m df[\u001b[38;5;124m\"\u001b[39m\u001b[38;5;124mstd\u001b[39m\u001b[38;5;124m\"\u001b[39m], y2\u001b[38;5;241m=\u001b[39mdf[\u001b[38;5;124m\"\u001b[39m\u001b[38;5;124mreturn_rate\u001b[39m\u001b[38;5;124m\"\u001b[39m] \u001b[38;5;241m+\u001b[39m df[\u001b[38;5;124m\"\u001b[39m\u001b[38;5;124mstd\u001b[39m\u001b[38;5;124m\"\u001b[39m], alpha\u001b[38;5;241m=\u001b[39m\u001b[38;5;241m0.3\u001b[39m)\n\u001b[1;32m      9\u001b[0m \u001b[38;5;66;03m# 回収率を実線でプロット\u001b[39;00m\n\u001b[1;32m     10\u001b[0m plt\u001b[38;5;241m.\u001b[39mplot(df\u001b[38;5;241m.\u001b[39mindex, df[\u001b[38;5;124m\"\u001b[39m\u001b[38;5;124mreturn_rate\u001b[39m\u001b[38;5;124m\"\u001b[39m], label\u001b[38;5;241m=\u001b[39mlabel)\n",
      "File \u001b[0;32m~/src/keibam/venv/lib/python3.11/site-packages/pandas/core/frame.py:4090\u001b[0m, in \u001b[0;36mDataFrame.__getitem__\u001b[0;34m(self, key)\u001b[0m\n\u001b[1;32m   4088\u001b[0m \u001b[38;5;28;01mif\u001b[39;00m \u001b[38;5;28mself\u001b[39m\u001b[38;5;241m.\u001b[39mcolumns\u001b[38;5;241m.\u001b[39mnlevels \u001b[38;5;241m>\u001b[39m \u001b[38;5;241m1\u001b[39m:\n\u001b[1;32m   4089\u001b[0m     \u001b[38;5;28;01mreturn\u001b[39;00m \u001b[38;5;28mself\u001b[39m\u001b[38;5;241m.\u001b[39m_getitem_multilevel(key)\n\u001b[0;32m-> 4090\u001b[0m indexer \u001b[38;5;241m=\u001b[39m \u001b[38;5;28;43mself\u001b[39;49m\u001b[38;5;241;43m.\u001b[39;49m\u001b[43mcolumns\u001b[49m\u001b[38;5;241;43m.\u001b[39;49m\u001b[43mget_loc\u001b[49m\u001b[43m(\u001b[49m\u001b[43mkey\u001b[49m\u001b[43m)\u001b[49m\n\u001b[1;32m   4091\u001b[0m \u001b[38;5;28;01mif\u001b[39;00m is_integer(indexer):\n\u001b[1;32m   4092\u001b[0m     indexer \u001b[38;5;241m=\u001b[39m [indexer]\n",
      "File \u001b[0;32m~/src/keibam/venv/lib/python3.11/site-packages/pandas/core/indexes/range.py:417\u001b[0m, in \u001b[0;36mRangeIndex.get_loc\u001b[0;34m(self, key)\u001b[0m\n\u001b[1;32m    415\u001b[0m         \u001b[38;5;28;01mraise\u001b[39;00m \u001b[38;5;167;01mKeyError\u001b[39;00m(key) \u001b[38;5;28;01mfrom\u001b[39;00m \u001b[38;5;21;01merr\u001b[39;00m\n\u001b[1;32m    416\u001b[0m \u001b[38;5;28;01mif\u001b[39;00m \u001b[38;5;28misinstance\u001b[39m(key, Hashable):\n\u001b[0;32m--> 417\u001b[0m     \u001b[38;5;28;01mraise\u001b[39;00m \u001b[38;5;167;01mKeyError\u001b[39;00m(key)\n\u001b[1;32m    418\u001b[0m \u001b[38;5;28mself\u001b[39m\u001b[38;5;241m.\u001b[39m_check_indexing_error(key)\n\u001b[1;32m    419\u001b[0m \u001b[38;5;28;01mraise\u001b[39;00m \u001b[38;5;167;01mKeyError\u001b[39;00m(key)\n",
      "\u001b[0;31mKeyError\u001b[0m: 'return_rate'"
     ]
    },
    {
     "data": {
      "text/plain": [
       "<Figure size 640x480 with 0 Axes>"
      ]
     },
     "metadata": {},
     "output_type": "display_data"
    }
   ],
   "source": [
    "from src.simulation._plot import plot_single_threshold\n",
    "\n",
    "#回収率をプロット\n",
    "plot_single_threshold(returns_df, N_SAMPLES, label=\"sanrentanbox\")"
   ]
  },
  {
   "cell_type": "markdown",
   "metadata": {},
   "source": [
    "## 5.2. 複数馬券\n",
    "未実装"
   ]
  },
  {
   "cell_type": "markdown",
   "metadata": {},
   "source": [
    "## 5.3. 複数threshold\n",
    "未実装だが、以下のようなコードになる予定。"
   ]
  },
  {
   "cell_type": "code",
   "execution_count": null,
   "metadata": {},
   "outputs": [
    {
     "data": {
      "application/vnd.jupyter.widget-view+json": {
       "model_id": "97b4c6588eca430fb740dc4c13defb45",
       "version_major": 2,
       "version_minor": 0
      },
      "text/plain": [
       "  0%|          | 0/10 [00:00<?, ?it/s]"
      ]
     },
     "metadata": {},
     "output_type": "display_data"
    }
   ],
   "source": [
    "from src.policies._bet_policy import BetPolicyTanshoFukusho\n",
    "\n",
    "T1_RANGE = [2.5, 3.5]\n",
    "MIN_T2 = 1\n",
    "N_SAMPLES = 10\n",
    "\n",
    "returns = {}\n",
    "# 「馬の勝ちやすさスコア」の閾値を変化させた時の成績を計算\n",
    "idx = 0\n",
    "for i in tqdm(range(N_SAMPLES)):\n",
    "    # T_RANGEの範囲を、N_SAMPLES等分して、thresholdをfor分で回す\n",
    "    threshold1 = T1_RANGE[1] * i / N_SAMPLES + T1_RANGE[0] * (1 - (i / N_SAMPLES))\n",
    "    for j in range(N_SAMPLES):\n",
    "        # MIN_T2からthreshold1までをN_SAMPLES等分\n",
    "        threshold2 = threshold1 * j / N_SAMPLES + MIN_T2 * (1 - (j / N_SAMPLES))\n",
    "        try:\n",
    "            # print(threshold1, threshold2)\n",
    "            # 賭ける馬券を決定\n",
    "            actions = keiba_ai.decide_action(\n",
    "                score_table,  # スコアテーブル\n",
    "                BetPolicyTanshoFukusho,  # 賭け方の方針(未実装)\n",
    "                threshold1=threshold1,  # 「馬の勝ちやすさスコア」の閾値\n",
    "                threshold2=threshold2,\n",
    "            )\n",
    "            returns[idx] = simulator.calc_returns(actions)\n",
    "            idx += 1\n",
    "        except Exception as e:\n",
    "            print(e)\n",
    "            break\n",
    "returns_df = pd.DataFrame.from_dict(returns, orient=\"index\")"
   ]
  },
  {
   "cell_type": "code",
   "execution_count": null,
   "metadata": {},
   "outputs": [
    {
     "data": {
      "image/png": "[encoded data removed]",
      "text/plain": [
       "<Figure size 600x400 with 1 Axes>"
      ]
     },
     "metadata": {
      "needs_background": "light"
     },
     "output_type": "display_data"
    }
   ],
   "source": [
    "simulation.plot_single_threshold(returns_df.reset_index(), 100, label='tansho_fukusho')"
   ]
  },
  {
   "cell_type": "markdown",
   "metadata": {},
   "source": [
    "# 6. 当日の予想\n",
    "例として2022年1月8日のレースを実際に予想する場合を考える。  \n",
    "https://race.netkeiba.com/top/race_list.html?kaisai_date=20220108"
   ]
  },
  {
   "cell_type": "markdown",
   "metadata": {},
   "source": [
    "## 6.1. 前日準備"
   ]
  },
  {
   "cell_type": "code",
   "execution_count": null,
   "metadata": {},
   "outputs": [],
   "source": [
    "%autoreload"
   ]
  },
  {
   "cell_type": "code",
   "execution_count": null,
   "metadata": {},
   "outputs": [
    {
     "name": "stdout",
     "output_type": "stream",
     "text": [
      "getting race_id_list\n"
     ]
    },
    {
     "data": {
      "application/vnd.jupyter.widget-view+json": {
       "model_id": "efa0f2854cf343b5a973859baad12e2f",
       "version_major": 2,
       "version_minor": 0
      },
      "text/plain": [
       "  0%|          | 0/1 [00:00<?, ?it/s]"
      ]
     },
     "metadata": {},
     "output_type": "display_data"
    },
    {
     "name": "stdout",
     "output_type": "stream",
     "text": [
      "scraping: https://race.netkeiba.com/top/race_list.html?kaisai_date=20220108\n"
     ]
    },
    {
     "data": {
      "text/plain": [
       "24"
      ]
     },
     "execution_count": 21,
     "metadata": {},
     "output_type": "execute_result"
    }
   ],
   "source": [
    "race_id_list = preparing.scrape_race_id_list(['20220108']) #レースidを取得\n",
    "len(race_id_list)"
   ]
  },
  {
   "cell_type": "code",
   "execution_count": null,
   "metadata": {},
   "outputs": [
    {
     "name": "stdout",
     "output_type": "stream",
     "text": [
      "sraping horse_id_list\n"
     ]
    },
    {
     "data": {
      "application/vnd.jupyter.widget-view+json": {
       "model_id": "e0d14d85cba143f89be3e5f9149b3e4c",
       "version_major": 2,
       "version_minor": 0
      },
      "text/plain": [
       "  0%|          | 0/24 [00:00<?, ?it/s]"
      ]
     },
     "metadata": {},
     "output_type": "display_data"
    },
    {
     "data": {
      "text/plain": [
       "361"
      ]
     },
     "execution_count": 22,
     "metadata": {},
     "output_type": "execute_result"
    }
   ],
   "source": [
    "#出走するhorse_idの取得\n",
    "horse_id_list = preparing.scrape_horse_id_list(race_id_list)\n",
    "len(horse_id_list)"
   ]
  },
  {
   "cell_type": "code",
   "execution_count": null,
   "metadata": {},
   "outputs": [],
   "source": [
    "#horseページのhtmlをスクレイピング\n",
    "#直近レースが更新されている可能性があるので、skip=Falseにして上書きする\n",
    "html_files_horse = preparing.scrape_html_horse_with_master(horse_id_list, skip=False)"
   ]
  },
  {
   "cell_type": "code",
   "execution_count": null,
   "metadata": {},
   "outputs": [],
   "source": [
    "#horse_infoテーブルの更新\n",
    "horse_info_20220108 = preparing.get_rawdata_horse_info(html_files_horse)\n",
    "preparing.update_rawdata(LocalPaths.RAW_HORSE_INFO_PATH, horse_info_20220108)"
   ]
  },
  {
   "cell_type": "code",
   "execution_count": null,
   "metadata": {},
   "outputs": [],
   "source": [
    "#horse_resultsテーブルの更新\n",
    "horse_results_20220108 = preparing.get_rawdata_horse_results(html_files_horse)\n",
    "preparing.update_rawdata(LocalPaths.RAW_HORSE_RESULTS_PATH, horse_results_20220108)"
   ]
  },
  {
   "cell_type": "code",
   "execution_count": null,
   "metadata": {},
   "outputs": [],
   "source": [
    "#pedsテーブルの更新\n",
    "html_files_peds = preparing.scrape_html_ped(horse_id_list, skip=True)\n",
    "peds_20220108 = preparing.get_rawdata_peds(html_files_peds)\n",
    "preparing.update_rawdata(LocalPaths.RAW_PEDS_PATH, peds_20220108)"
   ]
  },
  {
   "cell_type": "code",
   "execution_count": null,
   "metadata": {},
   "outputs": [],
   "source": [
    "#processorの更新\n",
    "horse_info_processor = preprocessing.HorseInfoProcessor(\n",
    "    filepath=LocalPaths.RAW_HORSE_INFO_PATH)\n",
    "horse_results_processor = preprocessing.HorseResultsProcessor(\n",
    "    filepath=LocalPaths.RAW_HORSE_RESULTS_PATH)\n",
    "peds_processor = preprocessing.PedsProcessor(filepath=LocalPaths.RAW_PEDS_PATH)"
   ]
  },
  {
   "cell_type": "code",
   "execution_count": null,
   "metadata": {},
   "outputs": [],
   "source": [
    "#モデルの準備\n",
    "keiba_ai = training.KeibaAIFactory.load('models/20220626/basemodel_2018_2021.pickle')"
   ]
  },
  {
   "cell_type": "markdown",
   "metadata": {},
   "source": [
    "## 6.2. 前日全レース予想"
   ]
  },
  {
   "cell_type": "code",
   "execution_count": null,
   "metadata": {},
   "outputs": [],
   "source": [
    "%autoreload"
   ]
  },
  {
   "cell_type": "code",
   "execution_count": null,
   "metadata": {},
   "outputs": [],
   "source": [
    "# 前日全レース予想用のレースidとレース発走時刻を取得\n",
    "target_race_id_list, target_race_time_list = preparing.scrape_race_id_race_time_list('20221001')\n",
    "print(len(target_race_id_list))\n",
    "print(len(target_race_time_list))\n",
    "yesterday = True"
   ]
  },
  {
   "cell_type": "code",
   "execution_count": null,
   "metadata": {},
   "outputs": [],
   "source": [
    "# 一時的に出馬表を保存するパスを指定\n",
    "filepath = 'data/tmp/shutuba.pickle'\n",
    "today = '2022/10/01'\n",
    "\n",
    "for race_id, race_time in zip(target_race_id_list, target_race_time_list):\n",
    "    # 出馬表の取得\n",
    "    preparing.scrape_shutuba_table(race_id, today, filepath)\n",
    "\n",
    "    # 前日予想の場合\n",
    "    if yesterday:\n",
    "        # 前日予想の場合、馬体重を0（0）に補正\n",
    "        pd2 = pd.read_pickle(filepath)\n",
    "        pd2[ResultsCols.WEIGHT_AND_DIFF] = '0(0)'\n",
    "        # 前日予想の場合、天候と馬場状態が公開されていない場合はこちらを有効にする\n",
    "        #pd2['weather'] = '晴'\n",
    "        #pd2['ground_state'] = '良'\n",
    "        pd2.to_pickle(filepath)\n",
    "\n",
    "    # 出馬表の加工\n",
    "    shutuba_table_processor = preprocessing.ShutubaTableProcessor(filepath)\n",
    "\n",
    "    # テーブルのマージ\n",
    "    shutuba_data_merger = preprocessing.ShutubaDataMerger(\n",
    "        shutuba_table_processor,\n",
    "        horse_results_processor,\n",
    "        horse_info_processor,\n",
    "        peds_processor,\n",
    "        target_cols=TARGET_COLS,\n",
    "        group_cols=GROUP_COLS\n",
    "    )\n",
    "    shutuba_data_merger.merge()\n",
    "\n",
    "    # 特徴量エンジニアリング\n",
    "    feature_enginnering_shutuba = preprocessing.FeatureEngineering(shutuba_data_merger) \\\n",
    "        .add_interval()\\\n",
    "        .add_agedays()\\\n",
    "        .dumminize_ground_state()\\\n",
    "        .dumminize_race_type()\\\n",
    "        .dumminize_sex()\\\n",
    "        .dumminize_weather()\\\n",
    "        .encode_horse_id()\\\n",
    "        .encode_jockey_id()\\\n",
    "        .encode_trainer_id()\\\n",
    "        .encode_owner_id()\\\n",
    "        .encode_breeder_id()\\\n",
    "        .dumminize_kaisai()\\\n",
    "        .dumminize_around()\\\n",
    "        .dumminize_race_class()\n",
    "\n",
    "    # 予測\n",
    "    X = feature_enginnering_shutuba.featured_data.drop(['date'], axis=1)\n",
    "\n",
    "    # 当日の出走情報テーブル（前処理前）\n",
    "    df_tmp = shutuba_table_processor.raw_data[:1]\n",
    "\n",
    "    i = 0\n",
    "    for num in list(Master.PLACE_DICT.values()):\n",
    "        if num == race_id[4:6]:\n",
    "            print(list(Master.PLACE_DICT)[i] + race_id[10:12] + 'R ' + race_time + '発走 ' + str(df_tmp.iat[0, 12])\n",
    "                + str(df_tmp.iat[0, 10]) + 'm ' + str(df_tmp.iat[0, 13]) + ' ' + str(df_tmp.iat[0, 15]))\n",
    "            break\n",
    "        i += 1\n",
    "\n",
    "    print(keiba_ai.calc_score(X, policies.StdScorePolicy).sort_values('score', ascending=False))"
   ]
  },
  {
   "cell_type": "markdown",
   "metadata": {},
   "source": [
    "## 6.3. レース直前データ処理（当日レース予想）"
   ]
  },
  {
   "cell_type": "code",
   "execution_count": null,
   "metadata": {},
   "outputs": [],
   "source": [
    "%autoreload"
   ]
  },
  {
   "cell_type": "code",
   "execution_count": null,
   "metadata": {},
   "outputs": [],
   "source": [
    "# 馬体重の発表されたレースID、レース時刻を取得（レース当日用）\n",
    "target_race_id_list, target_race_time_list = preparing.create_active_race_id_list()\n",
    "print((target_race_id_list))\n",
    "print((target_race_time_list))"
   ]
  },
  {
   "cell_type": "code",
   "execution_count": null,
   "metadata": {},
   "outputs": [],
   "source": [
    "# 一時的に出馬表を保存するパスを指定\n",
    "filepath = 'data/tmp/shutuba.pickle'\n",
    "#today = '2022/10/01'\n",
    "today = datetime.datetime.now().date().strftime('%Y/%m/%d')\n",
    "\n",
    "for race_id, race_time in zip(target_race_id_list, target_race_time_list):\n",
    "    # 出馬表の取得\n",
    "    preparing.scrape_shutuba_table(race_id, today, filepath)\n",
    "\n",
    "    # 出馬表の加工\n",
    "    shutuba_table_processor = preprocessing.ShutubaTableProcessor(filepath)\n",
    "\n",
    "    # テーブルのマージ\n",
    "    shutuba_data_merger = preprocessing.ShutubaDataMerger(\n",
    "        shutuba_table_processor,\n",
    "        horse_results_processor,\n",
    "        horse_info_processor,\n",
    "        peds_processor,\n",
    "        target_cols=TARGET_COLS,\n",
    "        group_cols=GROUP_COLS\n",
    "    )\n",
    "    shutuba_data_merger.merge()\n",
    "\n",
    "    # 特徴量エンジニアリング\n",
    "    feature_enginnering_shutuba = preprocessing.FeatureEngineering(shutuba_data_merger) \\\n",
    "        .add_interval()\\\n",
    "        .add_agedays()\\\n",
    "        .dumminize_ground_state()\\\n",
    "        .dumminize_race_type()\\\n",
    "        .dumminize_sex()\\\n",
    "        .dumminize_weather()\\\n",
    "        .encode_horse_id()\\\n",
    "        .encode_jockey_id()\\\n",
    "        .encode_trainer_id()\\\n",
    "        .encode_owner_id()\\\n",
    "        .encode_breeder_id()\\\n",
    "        .dumminize_kaisai()\\\n",
    "        .dumminize_around()\\\n",
    "        .dumminize_race_class()\n",
    "\n",
    "    # 予測\n",
    "    X = feature_enginnering_shutuba.featured_data.drop(['date'], axis=1)\n",
    "\n",
    "    # 当日の出走情報テーブル（前処理前）\n",
    "    df_tmp = shutuba_table_processor.raw_data[:1]\n",
    "    #df_tmp['race_type'] tmp.iat[0, 12]\n",
    "    #df_tmp['around'] 13\n",
    "    #df_tmp['weather'] 14\n",
    "    #df_tmp['ground_state'] 15\n",
    "    #df_tmp['race_class']16\n",
    "\n",
    "    i = 0\n",
    "    for num in list(Master.PLACE_DICT.values()):\n",
    "        if num == race_id[4:6]:\n",
    "            print(list(Master.PLACE_DICT)[i] + race_id[10:12] + 'R ' + race_time + '発走 ' + str(df_tmp.iat[0, 12])\n",
    "                + str(df_tmp.iat[0, 10]) + 'm ' + str(df_tmp.iat[0, 13]) + ' ' + str(df_tmp.iat[0, 15]))\n",
    "            break\n",
    "        i += 1\n",
    "\n",
    "    print(keiba_ai.calc_score(X, policies.StdScorePolicy).sort_values('score', ascending=False))"
   ]
  },
  {
   "cell_type": "markdown",
   "metadata": {},
   "source": [
    "## 6.4. レース直前データ処理（旧方式）"
   ]
  },
  {
   "cell_type": "code",
   "execution_count": null,
   "metadata": {},
   "outputs": [],
   "source": [
    "filepath = 'data/tmp/shutuba.pickle' #一時的に出馬表を保存するパスを指定\n",
    "preparing.scrape_shutuba_table(race_id_list[0], '2022/1/8', filepath) #馬体重が発表されたら、出馬表を取得\n",
    "shutuba_table_processor = preprocessing.ShutubaTableProcessor(filepath) #出馬表の加工"
   ]
  },
  {
   "cell_type": "code",
   "execution_count": null,
   "metadata": {},
   "outputs": [
    {
     "name": "stdout",
     "output_type": "stream",
     "text": [
      "separating horse results by date\n"
     ]
    },
    {
     "data": {
      "application/vnd.jupyter.widget-view+json": {
       "model_id": "1301cf845bcb4c5699ee48ffd7dc71fc",
       "version_major": 2,
       "version_minor": 0
      },
      "text/plain": [
       "  0%|          | 0/1 [00:00<?, ?it/s]"
      ]
     },
     "metadata": {},
     "output_type": "display_data"
    },
    {
     "name": "stdout",
     "output_type": "stream",
     "text": [
      "merging horse_results\n"
     ]
    },
    {
     "data": {
      "application/vnd.jupyter.widget-view+json": {
       "model_id": "efcc76c675424e62b240f474d7fd9a03",
       "version_major": 2,
       "version_minor": 0
      },
      "text/plain": [
       "  0%|          | 0/1 [00:00<?, ?it/s]"
      ]
     },
     "metadata": {},
     "output_type": "display_data"
    }
   ],
   "source": [
    "#テーブルのマージ\n",
    "shutuba_data_merger = preprocessing.ShutubaDataMerger(\n",
    "    shutuba_table_processor,\n",
    "    horse_results_processor,\n",
    "    horse_info_processor,\n",
    "    peds_processor,\n",
    "    target_cols=TARGET_COLS,\n",
    "    group_cols=GROUP_COLS\n",
    ")\n",
    "\n",
    "shutuba_data_merger.merge()"
   ]
  },
  {
   "cell_type": "code",
   "execution_count": null,
   "metadata": {},
   "outputs": [],
   "source": [
    "#特徴量エンジニアリング\n",
    "feature_enginnering_shutuba = preprocessing.FeatureEngineering(shutuba_data_merger)\\\n",
    "    .add_interval()\\\n",
    "    .add_agedays()\\\n",
    "    .dumminize_ground_state()\\\n",
    "    .dumminize_race_type()\\\n",
    "    .dumminize_sex()\\\n",
    "    .dumminize_weather()\\\n",
    "    .encode_horse_id()\\\n",
    "    .encode_jockey_id()\\\n",
    "    .encode_trainer_id()\\\n",
    "    .encode_owner_id()\\\n",
    "    .encode_breeder_id()\\\n",
    "    .dumminize_kaisai()\\\n",
    "    .dumminize_around()\\\n",
    "    .dumminize_race_class()"
   ]
  },
  {
   "cell_type": "code",
   "execution_count": null,
   "metadata": {},
   "outputs": [
    {
     "data": {
      "text/html": [
       "<div>\n",
       "<style scoped>\n",
       "    .dataframe tbody tr th:only-of-type {\n",
       "        vertical-align: middle;\n",
       "    }\n",
       "\n",
       "    .dataframe tbody tr th {\n",
       "        vertical-align: top;\n",
       "    }\n",
       "\n",
       "    .dataframe thead th {\n",
       "        text-align: right;\n",
       "    }\n",
       "</style>\n",
       "<table border=\"1\" class=\"dataframe\">\n",
       "  <thead>\n",
       "    <tr style=\"text-align: right;\">\n",
       "      <th></th>\n",
       "      <th>馬番</th>\n",
       "      <th>単勝</th>\n",
       "      <th>score</th>\n",
       "    </tr>\n",
       "  </thead>\n",
       "  <tbody>\n",
       "    <tr>\n",
       "      <th>202206010201</th>\n",
       "      <td>5</td>\n",
       "      <td>4.7</td>\n",
       "      <td>1.972623</td>\n",
       "    </tr>\n",
       "    <tr>\n",
       "      <th>202206010201</th>\n",
       "      <td>3</td>\n",
       "      <td>4.3</td>\n",
       "      <td>1.698477</td>\n",
       "    </tr>\n",
       "    <tr>\n",
       "      <th>202206010201</th>\n",
       "      <td>15</td>\n",
       "      <td>4.5</td>\n",
       "      <td>1.292167</td>\n",
       "    </tr>\n",
       "    <tr>\n",
       "      <th>202206010201</th>\n",
       "      <td>4</td>\n",
       "      <td>5.7</td>\n",
       "      <td>0.754306</td>\n",
       "    </tr>\n",
       "    <tr>\n",
       "      <th>202206010201</th>\n",
       "      <td>11</td>\n",
       "      <td>5.4</td>\n",
       "      <td>0.706008</td>\n",
       "    </tr>\n",
       "    <tr>\n",
       "      <th>202206010201</th>\n",
       "      <td>6</td>\n",
       "      <td>16.9</td>\n",
       "      <td>0.401887</td>\n",
       "    </tr>\n",
       "    <tr>\n",
       "      <th>202206010201</th>\n",
       "      <td>16</td>\n",
       "      <td>14.2</td>\n",
       "      <td>-0.070303</td>\n",
       "    </tr>\n",
       "    <tr>\n",
       "      <th>202206010201</th>\n",
       "      <td>1</td>\n",
       "      <td>26.7</td>\n",
       "      <td>-0.260754</td>\n",
       "    </tr>\n",
       "    <tr>\n",
       "      <th>202206010201</th>\n",
       "      <td>13</td>\n",
       "      <td>29.8</td>\n",
       "      <td>-0.300251</td>\n",
       "    </tr>\n",
       "    <tr>\n",
       "      <th>202206010201</th>\n",
       "      <td>9</td>\n",
       "      <td>101.3</td>\n",
       "      <td>-0.481400</td>\n",
       "    </tr>\n",
       "    <tr>\n",
       "      <th>202206010201</th>\n",
       "      <td>12</td>\n",
       "      <td>489.8</td>\n",
       "      <td>-0.547653</td>\n",
       "    </tr>\n",
       "    <tr>\n",
       "      <th>202206010201</th>\n",
       "      <td>2</td>\n",
       "      <td>371.3</td>\n",
       "      <td>-0.573977</td>\n",
       "    </tr>\n",
       "    <tr>\n",
       "      <th>202206010201</th>\n",
       "      <td>8</td>\n",
       "      <td>215.4</td>\n",
       "      <td>-1.019021</td>\n",
       "    </tr>\n",
       "    <tr>\n",
       "      <th>202206010201</th>\n",
       "      <td>7</td>\n",
       "      <td>177.8</td>\n",
       "      <td>-1.113196</td>\n",
       "    </tr>\n",
       "    <tr>\n",
       "      <th>202206010201</th>\n",
       "      <td>10</td>\n",
       "      <td>333.9</td>\n",
       "      <td>-1.216077</td>\n",
       "    </tr>\n",
       "    <tr>\n",
       "      <th>202206010201</th>\n",
       "      <td>14</td>\n",
       "      <td>105.7</td>\n",
       "      <td>-1.242838</td>\n",
       "    </tr>\n",
       "  </tbody>\n",
       "</table>\n",
       "</div>"
      ],
      "text/plain": [
       "              馬番     単勝     score\n",
       "202206010201   5    4.7  1.972623\n",
       "202206010201   3    4.3  1.698477\n",
       "202206010201  15    4.5  1.292167\n",
       "202206010201   4    5.7  0.754306\n",
       "202206010201  11    5.4  0.706008\n",
       "202206010201   6   16.9  0.401887\n",
       "202206010201  16   14.2 -0.070303\n",
       "202206010201   1   26.7 -0.260754\n",
       "202206010201  13   29.8 -0.300251\n",
       "202206010201   9  101.3 -0.481400\n",
       "202206010201  12  489.8 -0.547653\n",
       "202206010201   2  371.3 -0.573977\n",
       "202206010201   8  215.4 -1.019021\n",
       "202206010201   7  177.8 -1.113196\n",
       "202206010201  10  333.9 -1.216077\n",
       "202206010201  14  105.7 -1.242838"
      ]
     },
     "execution_count": 32,
     "metadata": {},
     "output_type": "execute_result"
    }
   ],
   "source": [
    "#予測\n",
    "X = feature_enginnering_shutuba.featured_data.drop(['date'], axis=1)\n",
    "keiba_ai.calc_score(X, policies.StdScorePolicy).sort_values('score', ascending=False)"
   ]
  }
 ],
 "metadata": {
  "kernelspec": {
   "display_name": "Python 3.8.8 ('base')",
   "language": "python",
   "name": "python3"
  },
  "language_info": {
   "codemirror_mode": {
    "name": "ipython",
    "version": 3
   },
   "file_extension": ".py",
   "mimetype": "text/x-python",
   "name": "python",
   "nbconvert_exporter": "python",
   "pygments_lexer": "ipython3",
   "version": "3.11.5"
  },
  "orig_nbformat": 4,
  "vscode": {
   "interpreter": {
    "hash": "86b876b27ca5c2d1364eeb23e2b9702e4618994875f621a0c288ea87a3030d46"
   }
  }
 },
 "nbformat": 4,
 "nbformat_minor": 2
}
